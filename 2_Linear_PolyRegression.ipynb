{
 "cells": [
  {
   "cell_type": "markdown",
   "metadata": {
    "id": "_YWjbQ1Qltk6"
   },
   "source": [
    "## Linear Regression"
   ]
  },
  {
   "cell_type": "code",
   "execution_count": 2,
   "metadata": {
    "executionInfo": {
     "elapsed": 368,
     "status": "ok",
     "timestamp": 1660575769875,
     "user": {
      "displayName": "Hiếu Lê Đình",
      "userId": "13105593688172757065"
     },
     "user_tz": -420
    },
    "id": "xfcgpzF_lrjI"
   },
   "outputs": [],
   "source": [
    "import matplotlib.pyplot as plt\n"
   ]
  },
  {
   "cell_type": "code",
   "execution_count": 4,
   "metadata": {
    "executionInfo": {
     "elapsed": 323,
     "status": "ok",
     "timestamp": 1660575781567,
     "user": {
      "displayName": "Hiếu Lê Đình",
      "userId": "13105593688172757065"
     },
     "user_tz": -420
    },
    "id": "qWzXZBAhlzIt"
   },
   "outputs": [],
   "source": [
    "x = [5,7,8,7,2,17,2,9,4,11,12,9,6]\n",
    "y = [99,86,87,88,111,86,103,87,94,78,77,85,86]"
   ]
  },
  {
   "cell_type": "code",
   "execution_count": 5,
   "metadata": {
    "colab": {
     "base_uri": "https://localhost:8080/",
     "height": 265
    },
    "executionInfo": {
     "elapsed": 330,
     "status": "ok",
     "timestamp": 1660575848984,
     "user": {
      "displayName": "Hiếu Lê Đình",
      "userId": "13105593688172757065"
     },
     "user_tz": -420
    },
    "id": "B2_e8sMLl1cS",
    "outputId": "4aed6c35-1371-4522-f6d4-9dadbafa5117"
   },
   "outputs": [
    {
     "data": {
      "image/png": "[encoded data removed]",
      "text/plain": [
       "<Figure size 432x288 with 1 Axes>"
      ]
     },
     "metadata": {
      "needs_background": "light"
     },
     "output_type": "display_data"
    }
   ],
   "source": [
    "plt.scatter(x, y)\n",
    "plt.show()"
   ]
  },
  {
   "cell_type": "code",
   "execution_count": 6,
   "metadata": {
    "executionInfo": {
     "elapsed": 1108,
     "status": "ok",
     "timestamp": 1660575854447,
     "user": {
      "displayName": "Hiếu Lê Đình",
      "userId": "13105593688172757065"
     },
     "user_tz": -420
    },
    "id": "AZranEGEl4Dz"
   },
   "outputs": [],
   "source": [
    "from scipy import stats"
   ]
  },
  {
   "cell_type": "code",
   "execution_count": 7,
   "metadata": {
    "executionInfo": {
     "elapsed": 3,
     "status": "ok",
     "timestamp": 1660575893557,
     "user": {
      "displayName": "Hiếu Lê Đình",
      "userId": "13105593688172757065"
     },
     "user_tz": -420
    },
    "id": "IN4cnXdel9Wq"
   },
   "outputs": [],
   "source": [
    "slope, intercept, r, p, std_err = stats.linregress(x, y)"
   ]
  },
  {
   "cell_type": "code",
   "execution_count": 8,
   "metadata": {
    "executionInfo": {
     "elapsed": 305,
     "status": "ok",
     "timestamp": 1660576012371,
     "user": {
      "displayName": "Hiếu Lê Đình",
      "userId": "13105593688172757065"
     },
     "user_tz": -420
    },
    "id": "PNRF3RngmAWq"
   },
   "outputs": [],
   "source": [
    "def myfunc(x):\n",
    "  return slope * x + intercept"
   ]
  },
  {
   "cell_type": "code",
   "execution_count": 10,
   "metadata": {
    "executionInfo": {
     "elapsed": 306,
     "status": "ok",
     "timestamp": 1660576260318,
     "user": {
      "displayName": "Hiếu Lê Đình",
      "userId": "13105593688172757065"
     },
     "user_tz": -420
    },
    "id": "jELrk6sxmGMy"
   },
   "outputs": [],
   "source": [
    "y_predict = []\n",
    "for xi in x:\n",
    "    y_predict.append(myfunc(xi))\n",
    "\n",
    "mymodel = y_predict"
   ]
  },
  {
   "cell_type": "code",
   "execution_count": 11,
   "metadata": {
    "colab": {
     "base_uri": "https://localhost:8080/"
    },
    "executionInfo": {
     "elapsed": 305,
     "status": "ok",
     "timestamp": 1660576263469,
     "user": {
      "displayName": "Hiếu Lê Đình",
      "userId": "13105593688172757065"
     },
     "user_tz": -420
    },
    "id": "Ih72znNwmIqT",
    "outputId": "f936fc04-43c4-48ad-98d0-28195735fa00"
   },
   "outputs": [
    {
     "data": {
      "text/plain": [
       "[94.3495217071376,\n",
       " 90.84694628403238,\n",
       " 89.09565857247976,\n",
       " 90.84694628403238,\n",
       " 99.60338484179543,\n",
       " 73.33406916850626,\n",
       " 99.60338484179543,\n",
       " 87.34437086092716,\n",
       " 96.10080941869022,\n",
       " 83.84179543782193,\n",
       " 82.09050772626932,\n",
       " 87.34437086092716,\n",
       " 92.59823399558499]"
      ]
     },
     "execution_count": 11,
     "metadata": {},
     "output_type": "execute_result"
    }
   ],
   "source": [
    "mymodel"
   ]
  },
  {
   "cell_type": "code",
   "execution_count": 12,
   "metadata": {
    "colab": {
     "base_uri": "https://localhost:8080/",
     "height": 265
    },
    "executionInfo": {
     "elapsed": 370,
     "status": "ok",
     "timestamp": 1660576271614,
     "user": {
      "displayName": "Hiếu Lê Đình",
      "userId": "13105593688172757065"
     },
     "user_tz": -420
    },
    "id": "2XIIG4FCmKBy",
    "outputId": "7dde77b7-2c0b-4921-a44f-ff54bafd2102"
   },
   "outputs": [
    {
     "data": {
      "image/png": "[encoded data removed]",
      "text/plain": [
       "<Figure size 432x288 with 1 Axes>"
      ]
     },
     "metadata": {
      "needs_background": "light"
     },
     "output_type": "display_data"
    }
   ],
   "source": [
    "plt.scatter(x, y)\n",
    "plt.plot(x, mymodel)\n",
    "plt.show()\n",
    "# Correlation Coefficient"
   ]
  },
  {
   "cell_type": "code",
   "execution_count": null,
   "metadata": {
    "colab": {
     "base_uri": "https://localhost:8080/"
    },
    "executionInfo": {
     "elapsed": 592,
     "status": "ok",
     "timestamp": 1631627866165,
     "user": {
      "displayName": "Max Tran",
      "photoUrl": "https://lh3.googleusercontent.com/a-/AOh14GizvxqyJoB1u7-ziYa84NBrD8WPm4wfPN-MArE16LM=s64",
      "userId": "08758706046209777252"
     },
     "user_tz": -420
    },
    "id": "ti-nJ5TPmWAS",
    "outputId": "1605f5a7-d82c-4e69-b3be-6ab2b4eed94f"
   },
   "outputs": [
    {
     "name": "stdout",
     "output_type": "stream",
     "text": [
      "-0.758591524376155\n"
     ]
    }
   ],
   "source": [
    "print(r)"
   ]
  },
  {
   "cell_type": "code",
   "execution_count": null,
   "metadata": {
    "colab": {
     "base_uri": "https://localhost:8080/"
    },
    "executionInfo": {
     "elapsed": 286,
     "status": "ok",
     "timestamp": 1631627885868,
     "user": {
      "displayName": "Max Tran",
      "photoUrl": "https://lh3.googleusercontent.com/a-/AOh14GizvxqyJoB1u7-ziYa84NBrD8WPm4wfPN-MArE16LM=s64",
      "userId": "08758706046209777252"
     },
     "user_tz": -420
    },
    "id": "Vug-zSdtmZPL",
    "outputId": "e22a13a6-c795-44cf-c834-574e4e3a6c73"
   },
   "outputs": [
    {
     "name": "stdout",
     "output_type": "stream",
     "text": [
      "0.453536157607742\n"
     ]
    }
   ],
   "source": [
    "print(std_err)"
   ]
  },
  {
   "cell_type": "code",
   "execution_count": 13,
   "metadata": {
    "colab": {
     "base_uri": "https://localhost:8080/"
    },
    "executionInfo": {
     "elapsed": 296,
     "status": "ok",
     "timestamp": 1660576449009,
     "user": {
      "displayName": "Hiếu Lê Đình",
      "userId": "13105593688172757065"
     },
     "user_tz": -420
    },
    "id": "8ceWG0a6m5yS",
    "outputId": "15c2b4e5-97a1-4dc9-9791-6b43268a5b3d"
   },
   "outputs": [
    {
     "name": "stdout",
     "output_type": "stream",
     "text": [
      "103.10596026490066\n"
     ]
    }
   ],
   "source": [
    "print(intercept)"
   ]
  },
  {
   "cell_type": "code",
   "execution_count": 14,
   "metadata": {
    "colab": {
     "base_uri": "https://localhost:8080/"
    },
    "executionInfo": {
     "elapsed": 2,
     "status": "ok",
     "timestamp": 1660576450356,
     "user": {
      "displayName": "Hiếu Lê Đình",
      "userId": "13105593688172757065"
     },
     "user_tz": -420
    },
    "id": "JWrjEzVBmrnL",
    "outputId": "24cdfe27-c712-4ea7-b426-683543ab02ab"
   },
   "outputs": [
    {
     "name": "stdout",
     "output_type": "stream",
     "text": [
      "-1.7512877115526118\n"
     ]
    }
   ],
   "source": [
    "print(slope)"
   ]
  },
  {
   "cell_type": "markdown",
   "metadata": {
    "id": "Mu5CaJE8mtLr"
   },
   "source": [
    "=> Y = -1.75x + 103.1059\n"
   ]
  },
  {
   "cell_type": "code",
   "execution_count": null,
   "metadata": {
    "id": "kQLOl_yLnLAy"
   },
   "outputs": [],
   "source": [
    "from sklearn.linear_model import LinearRegression"
   ]
  },
  {
   "cell_type": "code",
   "execution_count": null,
   "metadata": {
    "colab": {
     "base_uri": "https://localhost:8080/"
    },
    "executionInfo": {
     "elapsed": 283,
     "status": "ok",
     "timestamp": 1631629825208,
     "user": {
      "displayName": "Max Tran",
      "photoUrl": "https://lh3.googleusercontent.com/a-/AOh14GizvxqyJoB1u7-ziYa84NBrD8WPm4wfPN-MArE16LM=s64",
      "userId": "08758706046209777252"
     },
     "user_tz": -420
    },
    "id": "pL_j_RP6nOVb",
    "outputId": "6e573b9e-2846-4e19-e8cf-90261b920ee5"
   },
   "outputs": [
    {
     "name": "stdout",
     "output_type": "stream",
     "text": [
      "[5, 7, 8, 7, 2, 17, 2, 9, 4, 11, 12, 9, 6]\n"
     ]
    }
   ],
   "source": [
    "print(x)"
   ]
  },
  {
   "cell_type": "code",
   "execution_count": null,
   "metadata": {
    "colab": {
     "base_uri": "https://localhost:8080/"
    },
    "executionInfo": {
     "elapsed": 4,
     "status": "ok",
     "timestamp": 1631629826271,
     "user": {
      "displayName": "Max Tran",
      "photoUrl": "https://lh3.googleusercontent.com/a-/AOh14GizvxqyJoB1u7-ziYa84NBrD8WPm4wfPN-MArE16LM=s64",
      "userId": "08758706046209777252"
     },
     "user_tz": -420
    },
    "id": "nz1AQxhvnQW5",
    "outputId": "aa33d0c2-f88d-4ee9-b2f7-77a57f9427ab"
   },
   "outputs": [
    {
     "name": "stdout",
     "output_type": "stream",
     "text": [
      "[99, 86, 87, 88, 111, 86, 103, 87, 94, 78, 77, 85, 86]\n"
     ]
    }
   ],
   "source": [
    "print(y)"
   ]
  },
  {
   "cell_type": "code",
   "execution_count": null,
   "metadata": {
    "id": "PEGezdUGqh7q"
   },
   "outputs": [],
   "source": [
    "x = np.array(x)"
   ]
  },
  {
   "cell_type": "code",
   "execution_count": null,
   "metadata": {
    "colab": {
     "base_uri": "https://localhost:8080/"
    },
    "executionInfo": {
     "elapsed": 3,
     "status": "ok",
     "timestamp": 1631629828643,
     "user": {
      "displayName": "Max Tran",
      "photoUrl": "https://lh3.googleusercontent.com/a-/AOh14GizvxqyJoB1u7-ziYa84NBrD8WPm4wfPN-MArE16LM=s64",
      "userId": "08758706046209777252"
     },
     "user_tz": -420
    },
    "id": "zvi9jgO2q58c",
    "outputId": "e3e44629-e58e-496a-8102-feca4704b125"
   },
   "outputs": [
    {
     "data": {
      "text/plain": [
       "array([ 5,  7,  8,  7,  2, 17,  2,  9,  4, 11, 12,  9,  6])"
      ]
     },
     "execution_count": 82,
     "metadata": {},
     "output_type": "execute_result"
    }
   ],
   "source": [
    "x"
   ]
  },
  {
   "cell_type": "code",
   "execution_count": null,
   "metadata": {
    "id": "MU7owSbNqvEF"
   },
   "outputs": [],
   "source": [
    "x = x.reshape(-1,1)"
   ]
  },
  {
   "cell_type": "code",
   "execution_count": null,
   "metadata": {
    "colab": {
     "base_uri": "https://localhost:8080/"
    },
    "executionInfo": {
     "elapsed": 3,
     "status": "ok",
     "timestamp": 1631629832059,
     "user": {
      "displayName": "Max Tran",
      "photoUrl": "https://lh3.googleusercontent.com/a-/AOh14GizvxqyJoB1u7-ziYa84NBrD8WPm4wfPN-MArE16LM=s64",
      "userId": "08758706046209777252"
     },
     "user_tz": -420
    },
    "id": "9hHx2x-gq0wK",
    "outputId": "513dc4cd-58e8-40e2-eed7-d6857aa1bfd3"
   },
   "outputs": [
    {
     "data": {
      "text/plain": [
       "array([[ 5],\n",
       "       [ 7],\n",
       "       [ 8],\n",
       "       [ 7],\n",
       "       [ 2],\n",
       "       [17],\n",
       "       [ 2],\n",
       "       [ 9],\n",
       "       [ 4],\n",
       "       [11],\n",
       "       [12],\n",
       "       [ 9],\n",
       "       [ 6]])"
      ]
     },
     "execution_count": 84,
     "metadata": {},
     "output_type": "execute_result"
    }
   ],
   "source": [
    "x"
   ]
  },
  {
   "cell_type": "code",
   "execution_count": null,
   "metadata": {
    "colab": {
     "base_uri": "https://localhost:8080/"
    },
    "executionInfo": {
     "elapsed": 278,
     "status": "ok",
     "timestamp": 1631629835022,
     "user": {
      "displayName": "Max Tran",
      "photoUrl": "https://lh3.googleusercontent.com/a-/AOh14GizvxqyJoB1u7-ziYa84NBrD8WPm4wfPN-MArE16LM=s64",
      "userId": "08758706046209777252"
     },
     "user_tz": -420
    },
    "id": "j_SSQuT3sFGN",
    "outputId": "25d4226b-3075-4591-cbb4-62d585ccbb68"
   },
   "outputs": [
    {
     "data": {
      "text/plain": [
       "[99, 86, 87, 88, 111, 86, 103, 87, 94, 78, 77, 85, 86]"
      ]
     },
     "execution_count": 85,
     "metadata": {},
     "output_type": "execute_result"
    }
   ],
   "source": [
    "y"
   ]
  },
  {
   "cell_type": "code",
   "execution_count": null,
   "metadata": {
    "id": "cXEcOfLLsHvz"
   },
   "outputs": [],
   "source": [
    "y = np.array(y)"
   ]
  },
  {
   "cell_type": "code",
   "execution_count": null,
   "metadata": {
    "colab": {
     "base_uri": "https://localhost:8080/"
    },
    "executionInfo": {
     "elapsed": 3,
     "status": "ok",
     "timestamp": 1631629840564,
     "user": {
      "displayName": "Max Tran",
      "photoUrl": "https://lh3.googleusercontent.com/a-/AOh14GizvxqyJoB1u7-ziYa84NBrD8WPm4wfPN-MArE16LM=s64",
      "userId": "08758706046209777252"
     },
     "user_tz": -420
    },
    "id": "ltKMyl62qruK",
    "outputId": "f1a3efcb-6cb4-4a2f-e646-dad8eaaecc69"
   },
   "outputs": [
    {
     "data": {
      "text/plain": [
       "array([ 99,  86,  87,  88, 111,  86, 103,  87,  94,  78,  77,  85,  86])"
      ]
     },
     "execution_count": 87,
     "metadata": {},
     "output_type": "execute_result"
    }
   ],
   "source": [
    "y"
   ]
  },
  {
   "cell_type": "code",
   "execution_count": null,
   "metadata": {
    "id": "AAsNtYVosKcU"
   },
   "outputs": [],
   "source": [
    "y = y.reshape(-1,1)"
   ]
  },
  {
   "cell_type": "code",
   "execution_count": null,
   "metadata": {
    "colab": {
     "base_uri": "https://localhost:8080/"
    },
    "executionInfo": {
     "elapsed": 277,
     "status": "ok",
     "timestamp": 1631629849712,
     "user": {
      "displayName": "Max Tran",
      "photoUrl": "https://lh3.googleusercontent.com/a-/AOh14GizvxqyJoB1u7-ziYa84NBrD8WPm4wfPN-MArE16LM=s64",
      "userId": "08758706046209777252"
     },
     "user_tz": -420
    },
    "id": "6L2j54Dbt6dM",
    "outputId": "c0bcb0f2-cf21-4bfd-892a-4cb8e933a44b"
   },
   "outputs": [
    {
     "data": {
      "text/plain": [
       "array([[ 99],\n",
       "       [ 86],\n",
       "       [ 87],\n",
       "       [ 88],\n",
       "       [111],\n",
       "       [ 86],\n",
       "       [103],\n",
       "       [ 87],\n",
       "       [ 94],\n",
       "       [ 78],\n",
       "       [ 77],\n",
       "       [ 85],\n",
       "       [ 86]])"
      ]
     },
     "execution_count": 89,
     "metadata": {},
     "output_type": "execute_result"
    }
   ],
   "source": [
    "y"
   ]
  },
  {
   "cell_type": "code",
   "execution_count": null,
   "metadata": {
    "id": "VVPwUpYOnRP6"
   },
   "outputs": [],
   "source": [
    "reg = LinearRegression().fit(x,y)"
   ]
  },
  {
   "cell_type": "code",
   "execution_count": null,
   "metadata": {
    "colab": {
     "base_uri": "https://localhost:8080/"
    },
    "executionInfo": {
     "elapsed": 3,
     "status": "ok",
     "timestamp": 1631629853305,
     "user": {
      "displayName": "Max Tran",
      "photoUrl": "https://lh3.googleusercontent.com/a-/AOh14GizvxqyJoB1u7-ziYa84NBrD8WPm4wfPN-MArE16LM=s64",
      "userId": "08758706046209777252"
     },
     "user_tz": -420
    },
    "id": "XkDtvaE9sVq7",
    "outputId": "d04ddb09-5ec4-4c99-8bbc-2f42c74d6d04"
   },
   "outputs": [
    {
     "data": {
      "text/plain": [
       "0.5754611008553381"
      ]
     },
     "execution_count": 91,
     "metadata": {},
     "output_type": "execute_result"
    }
   ],
   "source": [
    "reg.score(x, y)"
   ]
  },
  {
   "cell_type": "code",
   "execution_count": null,
   "metadata": {
    "colab": {
     "base_uri": "https://localhost:8080/"
    },
    "executionInfo": {
     "elapsed": 4,
     "status": "ok",
     "timestamp": 1631629854385,
     "user": {
      "displayName": "Max Tran",
      "photoUrl": "https://lh3.googleusercontent.com/a-/AOh14GizvxqyJoB1u7-ziYa84NBrD8WPm4wfPN-MArE16LM=s64",
      "userId": "08758706046209777252"
     },
     "user_tz": -420
    },
    "id": "xUGolA0OsdzK",
    "outputId": "77ad4f3d-26fb-44be-bdcc-dd5e1d071cae"
   },
   "outputs": [
    {
     "data": {
      "text/plain": [
       "array([[-1.75128771]])"
      ]
     },
     "execution_count": 92,
     "metadata": {},
     "output_type": "execute_result"
    }
   ],
   "source": [
    "reg.coef_"
   ]
  },
  {
   "cell_type": "code",
   "execution_count": null,
   "metadata": {
    "colab": {
     "base_uri": "https://localhost:8080/"
    },
    "executionInfo": {
     "elapsed": 3,
     "status": "ok",
     "timestamp": 1631629855339,
     "user": {
      "displayName": "Max Tran",
      "photoUrl": "https://lh3.googleusercontent.com/a-/AOh14GizvxqyJoB1u7-ziYa84NBrD8WPm4wfPN-MArE16LM=s64",
      "userId": "08758706046209777252"
     },
     "user_tz": -420
    },
    "id": "qRs8XncBshgU",
    "outputId": "58de64f9-8c98-4f38-be87-cfec9fb68f88"
   },
   "outputs": [
    {
     "data": {
      "text/plain": [
       "array([103.10596026])"
      ]
     },
     "execution_count": 93,
     "metadata": {},
     "output_type": "execute_result"
    }
   ],
   "source": [
    "reg.intercept_"
   ]
  },
  {
   "cell_type": "code",
   "execution_count": null,
   "metadata": {
    "colab": {
     "base_uri": "https://localhost:8080/"
    },
    "executionInfo": {
     "elapsed": 364,
     "status": "ok",
     "timestamp": 1631629857572,
     "user": {
      "displayName": "Max Tran",
      "photoUrl": "https://lh3.googleusercontent.com/a-/AOh14GizvxqyJoB1u7-ziYa84NBrD8WPm4wfPN-MArE16LM=s64",
      "userId": "08758706046209777252"
     },
     "user_tz": -420
    },
    "id": "hgYEYDTysmTr",
    "outputId": "28a3e793-f527-4057-f01f-c8e8892b3da9"
   },
   "outputs": [
    {
     "data": {
      "text/plain": [
       "array([[90.84694628]])"
      ]
     },
     "execution_count": 94,
     "metadata": {},
     "output_type": "execute_result"
    }
   ],
   "source": [
    "#Test\n",
    "reg.predict(np.array([7]).reshape(-1,1))"
   ]
  },
  {
   "cell_type": "markdown",
   "metadata": {
    "id": "2JbUuy-utA8N"
   },
   "source": [
    "=> Y = -1.75x + 103.1059"
   ]
  },
  {
   "cell_type": "code",
   "execution_count": null,
   "metadata": {
    "id": "Y-GrTg-ftgnr"
   },
   "outputs": [],
   "source": [
    "Y_predicted = reg.predict(x)\n"
   ]
  },
  {
   "cell_type": "code",
   "execution_count": null,
   "metadata": {
    "colab": {
     "base_uri": "https://localhost:8080/",
     "height": 282
    },
    "executionInfo": {
     "elapsed": 357,
     "status": "ok",
     "timestamp": 1631629916428,
     "user": {
      "displayName": "Max Tran",
      "photoUrl": "https://lh3.googleusercontent.com/a-/AOh14GizvxqyJoB1u7-ziYa84NBrD8WPm4wfPN-MArE16LM=s64",
      "userId": "08758706046209777252"
     },
     "user_tz": -420
    },
    "id": "xXP_WagctXIj",
    "outputId": "e37d5b77-0cb1-4afe-b046-41ad5c0f2dd3"
   },
   "outputs": [
    {
     "data": {
      "text/plain": [
       "[<matplotlib.lines.Line2D at 0x7f8b08a75a90>]"
      ]
     },
     "execution_count": 97,
     "metadata": {},
     "output_type": "execute_result"
    },
    {
     "data": {
      "image/png": "[encoded data removed]",
      "text/plain": [
       "<Figure size 432x288 with 1 Axes>"
      ]
     },
     "metadata": {
      "needs_background": "light"
     },
     "output_type": "display_data"
    }
   ],
   "source": [
    "plt.scatter(x, y,  color='black')\n",
    "plt.plot(x, Y_predicted, color='blue', linewidth=3)"
   ]
  },
  {
   "cell_type": "markdown",
   "metadata": {
    "id": "lu8oCeBCoC1K"
   },
   "source": [
    "**Exercise 1 : Practice with Diabetes Dataset**"
   ]
  },
  {
   "cell_type": "code",
   "execution_count": null,
   "metadata": {
    "colab": {
     "base_uri": "https://localhost:8080/",
     "height": 320
    },
    "executionInfo": {
     "elapsed": 296,
     "status": "ok",
     "timestamp": 1631628340957,
     "user": {
      "displayName": "Max Tran",
      "photoUrl": "https://lh3.googleusercontent.com/a-/AOh14GizvxqyJoB1u7-ziYa84NBrD8WPm4wfPN-MArE16LM=s64",
      "userId": "08758706046209777252"
     },
     "user_tz": -420
    },
    "id": "t1TQobk2oGlL",
    "outputId": "a10938f0-a8a1-48b7-fb21-ac9e821bda87"
   },
   "outputs": [
    {
     "name": "stdout",
     "output_type": "stream",
     "text": [
      "Coefficients: \n",
      " [938.23786125]\n",
      "Mean squared error: 2548.07\n",
      "Coefficient of determination: 0.47\n"
     ]
    },
    {
     "data": {
      "image/png": "[encoded data removed]",
      "text/plain": [
       "<Figure size 432x288 with 1 Axes>"
      ]
     },
     "metadata": {},
     "output_type": "display_data"
    }
   ],
   "source": [
    "import matplotlib.pyplot as plt\n",
    "import numpy as np\n",
    "from sklearn import datasets, linear_model\n",
    "from sklearn.metrics import mean_squared_error, r2_score\n",
    "\n",
    "# Load the diabetes dataset\n",
    "diabetes_X, diabetes_y = datasets.load_diabetes(return_X_y=True)\n",
    "\n",
    "# Use only one feature\n",
    "diabetes_X = diabetes_X[:, np.newaxis, 2]\n",
    "\n",
    "# Split the data into training/testing sets\n",
    "diabetes_X_train = diabetes_X[:-20]\n",
    "diabetes_X_test = diabetes_X[-20:]\n",
    "\n",
    "# Split the targets into training/testing sets\n",
    "diabetes_y_train = diabetes_y[:-20]\n",
    "diabetes_y_test = diabetes_y[-20:]\n",
    "\n",
    "# Create linear regression object\n",
    "regr = linear_model.LinearRegression()\n",
    "\n",
    "# Train the model using the training sets\n",
    "regr.fit(diabetes_X_train, diabetes_y_train)\n",
    "\n",
    "# Make predictions using the testing set\n",
    "diabetes_y_pred = regr.predict(diabetes_X_test)\n",
    "\n",
    "# The coefficients\n",
    "print('Coefficients: \\n', regr.coef_)\n",
    "# The mean squared error\n",
    "print('Mean squared error: %.2f'\n",
    "      % mean_squared_error(diabetes_y_test, diabetes_y_pred))\n",
    "# The coefficient of determination: 1 is perfect prediction\n",
    "print('Coefficient of determination: %.2f'\n",
    "      % r2_score(diabetes_y_test, diabetes_y_pred))\n",
    "\n",
    "# Plot outputs\n",
    "plt.scatter(diabetes_X_test, diabetes_y_test,  color='black')\n",
    "plt.plot(diabetes_X_test, diabetes_y_pred, color='blue', linewidth=3)\n",
    "\n",
    "plt.xticks(())\n",
    "plt.yticks(())\n",
    "\n",
    "plt.show()"
   ]
  },
  {
   "cell_type": "code",
   "execution_count": null,
   "metadata": {
    "id": "gn-SOEZMvzpF"
   },
   "outputs": [],
   "source": [
    "x = [1,2,3,4,5,6]"
   ]
  },
  {
   "cell_type": "code",
   "execution_count": null,
   "metadata": {
    "id": "Hmz88P4kwLkr"
   },
   "outputs": [],
   "source": [
    "x = np.array(x)"
   ]
  },
  {
   "cell_type": "code",
   "execution_count": null,
   "metadata": {
    "colab": {
     "base_uri": "https://localhost:8080/"
    },
    "executionInfo": {
     "elapsed": 621,
     "status": "ok",
     "timestamp": 1631630465523,
     "user": {
      "displayName": "Max Tran",
      "photoUrl": "https://lh3.googleusercontent.com/a-/AOh14GizvxqyJoB1u7-ziYa84NBrD8WPm4wfPN-MArE16LM=s64",
      "userId": "08758706046209777252"
     },
     "user_tz": -420
    },
    "id": "FnHfyBH2wPWs",
    "outputId": "bb865a9b-db3d-4c59-80df-242c361ef987"
   },
   "outputs": [
    {
     "data": {
      "text/plain": [
       "(6,)"
      ]
     },
     "execution_count": 106,
     "metadata": {},
     "output_type": "execute_result"
    }
   ],
   "source": [
    "x.shape"
   ]
  },
  {
   "cell_type": "code",
   "execution_count": null,
   "metadata": {
    "colab": {
     "base_uri": "https://localhost:8080/"
    },
    "executionInfo": {
     "elapsed": 279,
     "status": "ok",
     "timestamp": 1631630489377,
     "user": {
      "displayName": "Max Tran",
      "photoUrl": "https://lh3.googleusercontent.com/a-/AOh14GizvxqyJoB1u7-ziYa84NBrD8WPm4wfPN-MArE16LM=s64",
      "userId": "08758706046209777252"
     },
     "user_tz": -420
    },
    "id": "G90YViCkwRx0",
    "outputId": "e56c5be7-603a-4f66-eef0-f1b8b81b67f3"
   },
   "outputs": [
    {
     "data": {
      "text/plain": [
       "(6, 1)"
      ]
     },
     "execution_count": 108,
     "metadata": {},
     "output_type": "execute_result"
    }
   ],
   "source": [
    "x.reshape(-1,1).shape"
   ]
  },
  {
   "cell_type": "markdown",
   "metadata": {
    "id": "YHb-xzkJF9lZ"
   },
   "source": [
    "**Uncorrelation **"
   ]
  },
  {
   "cell_type": "code",
   "execution_count": null,
   "metadata": {
    "id": "DaWZfhwh0wF4"
   },
   "outputs": [],
   "source": [
    "x = [89,43,36,36,95,10,66,34,38,20,26,29,48,64,6,5,36,66,72,40]\n",
    "y = [21,46,3,35,67,95,53,72,58,10,26,34,90,33,38,20,56,2,47,15]"
   ]
  },
  {
   "cell_type": "code",
   "execution_count": null,
   "metadata": {
    "colab": {
     "base_uri": "https://localhost:8080/",
     "height": 265
    },
    "executionInfo": {
     "elapsed": 1109,
     "status": "ok",
     "timestamp": 1631715553303,
     "user": {
      "displayName": "Max Tran",
      "photoUrl": "https://lh3.googleusercontent.com/a-/AOh14GizvxqyJoB1u7-ziYa84NBrD8WPm4wfPN-MArE16LM=s64",
      "userId": "08758706046209777252"
     },
     "user_tz": -420
    },
    "id": "4Oo1HJfg0xLJ",
    "outputId": "bc2a56e3-943a-4e0c-fd13-cf08d475fbfd"
   },
   "outputs": [
    {
     "data": {
      "image/png": "[encoded data removed]",
      "text/plain": [
       "<Figure size 432x288 with 1 Axes>"
      ]
     },
     "metadata": {
      "needs_background": "light"
     },
     "output_type": "display_data"
    }
   ],
   "source": [
    "plt.scatter(x, y)\n",
    "plt.show()"
   ]
  },
  {
   "cell_type": "code",
   "execution_count": null,
   "metadata": {
    "colab": {
     "base_uri": "https://localhost:8080/",
     "height": 265
    },
    "executionInfo": {
     "elapsed": 1029,
     "status": "ok",
     "timestamp": 1631715612158,
     "user": {
      "displayName": "Max Tran",
      "photoUrl": "https://lh3.googleusercontent.com/a-/AOh14GizvxqyJoB1u7-ziYa84NBrD8WPm4wfPN-MArE16LM=s64",
      "userId": "08758706046209777252"
     },
     "user_tz": -420
    },
    "id": "kbBMWSTT03-b",
    "outputId": "eed68cbb-841f-4836-9b41-c1bd9b4713fa"
   },
   "outputs": [
    {
     "data": {
      "image/png": "[encoded data removed]",
      "text/plain": [
       "<Figure size 432x288 with 1 Axes>"
      ]
     },
     "metadata": {
      "needs_background": "light"
     },
     "output_type": "display_data"
    }
   ],
   "source": [
    "from scipy import stats\n",
    "slope, intercept, r, p, std_err = stats.linregress(x, y)\n",
    "\n",
    "def myfunc(x):\n",
    "  return slope * x + intercept\n",
    "\n",
    "mymodel = list(map(myfunc, x))\n",
    "\n",
    "plt.scatter(x, y)\n",
    "plt.plot(x, mymodel)\n",
    "plt.show()"
   ]
  },
  {
   "cell_type": "code",
   "execution_count": null,
   "metadata": {
    "colab": {
     "base_uri": "https://localhost:8080/"
    },
    "executionInfo": {
     "elapsed": 511,
     "status": "ok",
     "timestamp": 1631715630072,
     "user": {
      "displayName": "Max Tran",
      "photoUrl": "https://lh3.googleusercontent.com/a-/AOh14GizvxqyJoB1u7-ziYa84NBrD8WPm4wfPN-MArE16LM=s64",
      "userId": "08758706046209777252"
     },
     "user_tz": -420
    },
    "id": "7TbhPgKB1IML",
    "outputId": "bc3c801d-ac35-4a06-ea5d-59afd4f43390"
   },
   "outputs": [
    {
     "name": "stdout",
     "output_type": "stream",
     "text": [
      "0.01331814154297491\n"
     ]
    }
   ],
   "source": [
    "print(r)"
   ]
  },
  {
   "cell_type": "markdown",
   "metadata": {
    "id": "Iwsb3MTU0vhK"
   },
   "source": [
    "# Polynominal Regression\n"
   ]
  },
  {
   "cell_type": "code",
   "execution_count": null,
   "metadata": {
    "id": "GELV3NjF1TLS"
   },
   "outputs": [],
   "source": [
    "import numpy as np\n",
    "import matplotlib.pyplot as plt\n",
    "import pandas as pd\n",
    "\n",
    "# Importing the dataset\n",
    "dataset = pd.read_csv('https://s3.us-west-2.amazonaws.com/public.gamelab.fun/dataset/position_salaries.csv')\n",
    "X = dataset.iloc[:, 1:2].values\n",
    "y = dataset.iloc[:, 2].values"
   ]
  },
  {
   "cell_type": "code",
   "execution_count": null,
   "metadata": {
    "id": "n7JGWszT1V96"
   },
   "outputs": [],
   "source": [
    "from sklearn.model_selection import train_test_split \n",
    "X_train, X_test, y_train, y_test = train_test_split(X, y, test_size=0.2, random_state=0)"
   ]
  },
  {
   "cell_type": "code",
   "execution_count": null,
   "metadata": {
    "colab": {
     "base_uri": "https://localhost:8080/",
     "height": 295
    },
    "executionInfo": {
     "elapsed": 741,
     "status": "ok",
     "timestamp": 1631715744368,
     "user": {
      "displayName": "Max Tran",
      "photoUrl": "https://lh3.googleusercontent.com/a-/AOh14GizvxqyJoB1u7-ziYa84NBrD8WPm4wfPN-MArE16LM=s64",
      "userId": "08758706046209777252"
     },
     "user_tz": -420
    },
    "id": "AtfqioAF1gFV",
    "outputId": "2066e2ec-39b5-447f-917f-570f570c387d"
   },
   "outputs": [
    {
     "data": {
      "image/png": "[encoded data removed]",
      "text/plain": [
       "<Figure size 432x288 with 1 Axes>"
      ]
     },
     "metadata": {
      "needs_background": "light"
     },
     "output_type": "display_data"
    }
   ],
   "source": [
    "# Fitting Linear Regression to the dataset\n",
    "from sklearn.linear_model import LinearRegression\n",
    "lin_reg = LinearRegression()\n",
    "lin_reg.fit(X, y)\n",
    "\n",
    "# Visualizing the Linear Regression results\n",
    "def viz_linear():\n",
    "    plt.scatter(X, y, color='red')\n",
    "    plt.plot(X, lin_reg.predict(X), color='blue')\n",
    "    plt.title('Truth or Bluff (Linear Regression)')\n",
    "    plt.xlabel('Position level')\n",
    "    plt.ylabel('Salary')\n",
    "    plt.show()\n",
    "    return\n",
    "viz_linear()"
   ]
  },
  {
   "cell_type": "code",
   "execution_count": null,
   "metadata": {
    "colab": {
     "base_uri": "https://localhost:8080/"
    },
    "executionInfo": {
     "elapsed": 242,
     "status": "ok",
     "timestamp": 1631715829236,
     "user": {
      "displayName": "Max Tran",
      "photoUrl": "https://lh3.googleusercontent.com/a-/AOh14GizvxqyJoB1u7-ziYa84NBrD8WPm4wfPN-MArE16LM=s64",
      "userId": "08758706046209777252"
     },
     "user_tz": -420
    },
    "id": "9EU6E934100h",
    "outputId": "dd2bb61e-bae5-4ebf-a693-417cb2fe1a0d"
   },
   "outputs": [
    {
     "data": {
      "text/plain": [
       "0.6690412331929895"
      ]
     },
     "execution_count": 13,
     "metadata": {},
     "output_type": "execute_result"
    }
   ],
   "source": [
    "lin_reg.score(X,y)"
   ]
  },
  {
   "cell_type": "code",
   "execution_count": null,
   "metadata": {
    "colab": {
     "base_uri": "https://localhost:8080/",
     "height": 295
    },
    "executionInfo": {
     "elapsed": 310,
     "status": "ok",
     "timestamp": 1631715756941,
     "user": {
      "displayName": "Max Tran",
      "photoUrl": "https://lh3.googleusercontent.com/a-/AOh14GizvxqyJoB1u7-ziYa84NBrD8WPm4wfPN-MArE16LM=s64",
      "userId": "08758706046209777252"
     },
     "user_tz": -420
    },
    "id": "Sume1ZxF1lrB",
    "outputId": "f971150c-b6c7-4653-8d4a-bedc164a9df5"
   },
   "outputs": [
    {
     "data": {
      "image/png": "[encoded data removed]",
      "text/plain": [
       "<Figure size 432x288 with 1 Axes>"
      ]
     },
     "metadata": {
      "needs_background": "light"
     },
     "output_type": "display_data"
    }
   ],
   "source": [
    "# Fitting Polynomial Regression to the dataset\n",
    "from sklearn.preprocessing import PolynomialFeatures\n",
    "poly_reg = PolynomialFeatures(degree=4)\n",
    "X_poly = poly_reg.fit_transform(X)\n",
    "pol_reg = LinearRegression()\n",
    "pol_reg.fit(X_poly, y)\n",
    "\n",
    "# Visualizing the Polymonial Regression results\n",
    "def viz_polymonial():\n",
    "    plt.scatter(X, y, color='red')\n",
    "    plt.plot(X, pol_reg.predict(poly_reg.fit_transform(X)), color='blue')\n",
    "    plt.title('Truth or Bluff (Linear Regression)')\n",
    "    plt.xlabel('Position level')\n",
    "    plt.ylabel('Salary')\n",
    "    plt.show()\n",
    "    return\n",
    "viz_polymonial()"
   ]
  },
  {
   "cell_type": "code",
   "execution_count": null,
   "metadata": {
    "colab": {
     "base_uri": "https://localhost:8080/",
     "height": 295
    },
    "executionInfo": {
     "elapsed": 305,
     "status": "ok",
     "timestamp": 1631715891371,
     "user": {
      "displayName": "Max Tran",
      "photoUrl": "https://lh3.googleusercontent.com/a-/AOh14GizvxqyJoB1u7-ziYa84NBrD8WPm4wfPN-MArE16LM=s64",
      "userId": "08758706046209777252"
     },
     "user_tz": -420
    },
    "id": "EOlaQSoY2HEr",
    "outputId": "6d0e10f9-29b0-43c7-d275-d3194bfeba5d"
   },
   "outputs": [
    {
     "data": {
      "image/png": "[encoded data removed]",
      "text/plain": [
       "<Figure size 432x288 with 1 Axes>"
      ]
     },
     "metadata": {
      "needs_background": "light"
     },
     "output_type": "display_data"
    }
   ],
   "source": [
    "# Fitting Polynomial Regression to the dataset\n",
    "from sklearn.preprocessing import PolynomialFeatures\n",
    "poly_reg = PolynomialFeatures(degree=2)\n",
    "X_poly = poly_reg.fit_transform(X)\n",
    "pol_reg = LinearRegression()\n",
    "pol_reg.fit(X_poly, y)\n",
    "\n",
    "# Visualizing the Polymonial Regression results\n",
    "def viz_polymonial():\n",
    "    plt.scatter(X, y, color='red')\n",
    "    plt.plot(X, pol_reg.predict(poly_reg.fit_transform(X)), color='blue')\n",
    "    plt.title('Truth or Bluff (Linear Regression)')\n",
    "    plt.xlabel('Position level')\n",
    "    plt.ylabel('Salary')\n",
    "    plt.show()\n",
    "    return\n",
    "viz_polymonial()"
   ]
  },
  {
   "cell_type": "code",
   "execution_count": null,
   "metadata": {
    "colab": {
     "base_uri": "https://localhost:8080/",
     "height": 295
    },
    "executionInfo": {
     "elapsed": 327,
     "status": "ok",
     "timestamp": 1631715902725,
     "user": {
      "displayName": "Max Tran",
      "photoUrl": "https://lh3.googleusercontent.com/a-/AOh14GizvxqyJoB1u7-ziYa84NBrD8WPm4wfPN-MArE16LM=s64",
      "userId": "08758706046209777252"
     },
     "user_tz": -420
    },
    "id": "euf6YGKN2Kg6",
    "outputId": "e0ca761b-47c8-4cce-8fc3-9a5e2fb31f7c"
   },
   "outputs": [
    {
     "data": {
      "image/png": "[encoded data removed]",
      "text/plain": [
       "<Figure size 432x288 with 1 Axes>"
      ]
     },
     "metadata": {
      "needs_background": "light"
     },
     "output_type": "display_data"
    }
   ],
   "source": [
    "# Fitting Polynomial Regression to the dataset\n",
    "from sklearn.preprocessing import PolynomialFeatures\n",
    "poly_reg = PolynomialFeatures(degree=3)\n",
    "X_poly = poly_reg.fit_transform(X)\n",
    "pol_reg = LinearRegression()\n",
    "pol_reg.fit(X_poly, y)\n",
    "\n",
    "# Visualizing the Polymonial Regression results\n",
    "def viz_polymonial():\n",
    "    plt.scatter(X, y, color='red')\n",
    "    plt.plot(X, pol_reg.predict(poly_reg.fit_transform(X)), color='blue')\n",
    "    plt.title('Truth or Bluff (Linear Regression)')\n",
    "    plt.xlabel('Position level')\n",
    "    plt.ylabel('Salary')\n",
    "    plt.show()\n",
    "    return\n",
    "viz_polymonial()"
   ]
  },
  {
   "cell_type": "code",
   "execution_count": null,
   "metadata": {
    "colab": {
     "base_uri": "https://localhost:8080/",
     "height": 295
    },
    "executionInfo": {
     "elapsed": 316,
     "status": "ok",
     "timestamp": 1631715920114,
     "user": {
      "displayName": "Max Tran",
      "photoUrl": "https://lh3.googleusercontent.com/a-/AOh14GizvxqyJoB1u7-ziYa84NBrD8WPm4wfPN-MArE16LM=s64",
      "userId": "08758706046209777252"
     },
     "user_tz": -420
    },
    "id": "1rDbLLZt2Owr",
    "outputId": "b81e7601-ba8d-470c-e419-3f6e4d8f1640"
   },
   "outputs": [
    {
     "data": {
      "image/png": "[encoded data removed]",
      "text/plain": [
       "<Figure size 432x288 with 1 Axes>"
      ]
     },
     "metadata": {
      "needs_background": "light"
     },
     "output_type": "display_data"
    }
   ],
   "source": [
    "# Fitting Polynomial Regression to the dataset\n",
    "from sklearn.preprocessing import PolynomialFeatures\n",
    "poly_reg = PolynomialFeatures(degree=5)\n",
    "X_poly = poly_reg.fit_transform(X)\n",
    "pol_reg = LinearRegression()\n",
    "pol_reg.fit(X_poly, y)\n",
    "\n",
    "# Visualizing the Polymonial Regression results\n",
    "def viz_polymonial():\n",
    "    plt.scatter(X, y, color='red')\n",
    "    plt.plot(X, pol_reg.predict(poly_reg.fit_transform(X)), color='blue')\n",
    "    plt.title('Truth or Bluff (Linear Regression)')\n",
    "    plt.xlabel('Position level')\n",
    "    plt.ylabel('Salary')\n",
    "    plt.show()\n",
    "    return\n",
    "viz_polymonial()"
   ]
  },
  {
   "cell_type": "code",
   "execution_count": null,
   "metadata": {
    "colab": {
     "base_uri": "https://localhost:8080/"
    },
    "executionInfo": {
     "elapsed": 253,
     "status": "ok",
     "timestamp": 1631715866601,
     "user": {
      "displayName": "Max Tran",
      "photoUrl": "https://lh3.googleusercontent.com/a-/AOh14GizvxqyJoB1u7-ziYa84NBrD8WPm4wfPN-MArE16LM=s64",
      "userId": "08758706046209777252"
     },
     "user_tz": -420
    },
    "id": "7X9RAZyZ1_n6",
    "outputId": "289de862-bbda-4a7f-df84-abe00f11ecd1"
   },
   "outputs": [
    {
     "data": {
      "text/plain": [
       "0.9973922891706614"
      ]
     },
     "execution_count": 14,
     "metadata": {},
     "output_type": "execute_result"
    }
   ],
   "source": [
    "pol_reg.score(X_poly,y)"
   ]
  },
  {
   "cell_type": "code",
   "execution_count": null,
   "metadata": {
    "colab": {
     "base_uri": "https://localhost:8080/"
    },
    "executionInfo": {
     "elapsed": 249,
     "status": "ok",
     "timestamp": 1631715788524,
     "user": {
      "displayName": "Max Tran",
      "photoUrl": "https://lh3.googleusercontent.com/a-/AOh14GizvxqyJoB1u7-ziYa84NBrD8WPm4wfPN-MArE16LM=s64",
      "userId": "08758706046209777252"
     },
     "user_tz": -420
    },
    "id": "ThmcOF2W1vuz",
    "outputId": "aba501a9-7426-4c0c-83ac-da9cf7727dcf"
   },
   "outputs": [
    {
     "data": {
      "text/plain": [
       "array([132148.43750002])"
      ]
     },
     "execution_count": 11,
     "metadata": {},
     "output_type": "execute_result"
    }
   ],
   "source": [
    "# Predicting a new result with Linear Regression\n",
    "lin_reg.predict([[5.5]])\n",
    "#output should be 249500\n",
    "\n",
    "# Predicting a new result with Polymonial Regression\n",
    "pol_reg.predict(poly_reg.fit_transform([[5.5]]))\n",
    "#output should be 132148.43750003"
   ]
  },
  {
   "cell_type": "markdown",
   "metadata": {
    "id": "PHu7CWNO_2fy"
   },
   "source": [
    "**Exercise 1 Blue Gill Fish dataset**"
   ]
  },
  {
   "cell_type": "code",
   "execution_count": null,
   "metadata": {
    "id": "smljs14Q__xX"
   },
   "outputs": [],
   "source": [
    "import pandas as pd \n",
    "import numpy as np \n",
    "from sklearn.preprocessing import PolynomialFeatures\n",
    "import matplotlib.pyplot as plt\n",
    "from sklearn.metrics import mean_squared_error, r2_score\n"
   ]
  },
  {
   "cell_type": "code",
   "execution_count": null,
   "metadata": {
    "colab": {
     "base_uri": "https://localhost:8080/",
     "height": 359
    },
    "executionInfo": {
     "elapsed": 321,
     "status": "ok",
     "timestamp": 1631886496837,
     "user": {
      "displayName": "Max Tran",
      "photoUrl": "https://lh3.googleusercontent.com/a-/AOh14GizvxqyJoB1u7-ziYa84NBrD8WPm4wfPN-MArE16LM=s64",
      "userId": "08758706046209777252"
     },
     "user_tz": -420
    },
    "id": "TiXa5LdEAaqA",
    "outputId": "4e620823-a6ac-483a-cce4-dca617b00794"
   },
   "outputs": [
    {
     "data": {
      "text/html": [
       "<div>\n",
       "<style scoped>\n",
       "    .dataframe tbody tr th:only-of-type {\n",
       "        vertical-align: middle;\n",
       "    }\n",
       "\n",
       "    .dataframe tbody tr th {\n",
       "        vertical-align: top;\n",
       "    }\n",
       "\n",
       "    .dataframe thead th {\n",
       "        text-align: right;\n",
       "    }\n",
       "</style>\n",
       "<table border=\"1\" class=\"dataframe\">\n",
       "  <thead>\n",
       "    <tr style=\"text-align: right;\">\n",
       "      <th></th>\n",
       "      <th>age</th>\n",
       "      <th>length</th>\n",
       "    </tr>\n",
       "  </thead>\n",
       "  <tbody>\n",
       "    <tr>\n",
       "      <th>0</th>\n",
       "      <td>1</td>\n",
       "      <td>67</td>\n",
       "    </tr>\n",
       "    <tr>\n",
       "      <th>1</th>\n",
       "      <td>1</td>\n",
       "      <td>62</td>\n",
       "    </tr>\n",
       "    <tr>\n",
       "      <th>2</th>\n",
       "      <td>2</td>\n",
       "      <td>109</td>\n",
       "    </tr>\n",
       "    <tr>\n",
       "      <th>3</th>\n",
       "      <td>2</td>\n",
       "      <td>83</td>\n",
       "    </tr>\n",
       "    <tr>\n",
       "      <th>4</th>\n",
       "      <td>2</td>\n",
       "      <td>91</td>\n",
       "    </tr>\n",
       "    <tr>\n",
       "      <th>5</th>\n",
       "      <td>2</td>\n",
       "      <td>88</td>\n",
       "    </tr>\n",
       "    <tr>\n",
       "      <th>6</th>\n",
       "      <td>3</td>\n",
       "      <td>137</td>\n",
       "    </tr>\n",
       "    <tr>\n",
       "      <th>7</th>\n",
       "      <td>3</td>\n",
       "      <td>131</td>\n",
       "    </tr>\n",
       "    <tr>\n",
       "      <th>8</th>\n",
       "      <td>3</td>\n",
       "      <td>122</td>\n",
       "    </tr>\n",
       "    <tr>\n",
       "      <th>9</th>\n",
       "      <td>3</td>\n",
       "      <td>122</td>\n",
       "    </tr>\n",
       "  </tbody>\n",
       "</table>\n",
       "</div>"
      ],
      "text/plain": [
       "   age  length\n",
       "0    1      67\n",
       "1    1      62\n",
       "2    2     109\n",
       "3    2      83\n",
       "4    2      91\n",
       "5    2      88\n",
       "6    3     137\n",
       "7    3     131\n",
       "8    3     122\n",
       "9    3     122"
      ]
     },
     "execution_count": 9,
     "metadata": {},
     "output_type": "execute_result"
    }
   ],
   "source": [
    "dataset = pd.read_csv('https://online.stat.psu.edu/onlinecourses/sites/stat501/files/data/bluegills.txt',sep=\"\\t\")\n",
    "#X = dataset.iloc[:, 1:2].values\n",
    "#y = dataset.iloc[:, 2].values\n",
    "# dataframe\n",
    "dataset.head(10)"
   ]
  },
  {
   "cell_type": "code",
   "execution_count": null,
   "metadata": {
    "id": "6hpzFaHeBFb5"
   },
   "outputs": [],
   "source": [
    "X = np.array(dataset['age']).reshape(-1,1)\n",
    "y = np.array(dataset['length']).reshape(-1,1)"
   ]
  },
  {
   "cell_type": "code",
   "execution_count": null,
   "metadata": {
    "id": "Zkxa0zlQAxDo"
   },
   "outputs": [],
   "source": [
    "from sklearn.model_selection import train_test_split \n",
    "X_train, X_test, y_train, y_test = train_test_split(X, y, test_size=0.2, random_state=42)"
   ]
  },
  {
   "cell_type": "code",
   "execution_count": null,
   "metadata": {
    "colab": {
     "base_uri": "https://localhost:8080/",
     "height": 295
    },
    "executionInfo": {
     "elapsed": 367,
     "status": "ok",
     "timestamp": 1631886810050,
     "user": {
      "displayName": "Max Tran",
      "photoUrl": "https://lh3.googleusercontent.com/a-/AOh14GizvxqyJoB1u7-ziYa84NBrD8WPm4wfPN-MArE16LM=s64",
      "userId": "08758706046209777252"
     },
     "user_tz": -420
    },
    "id": "ld1Nv6XkBfFp",
    "outputId": "894cef67-dbfe-4a2a-9420-8de09385ac78"
   },
   "outputs": [
    {
     "data": {
      "image/png": "[encoded data removed]",
      "text/plain": [
       "<Figure size 432x288 with 1 Axes>"
      ]
     },
     "metadata": {
      "needs_background": "light"
     },
     "output_type": "display_data"
    }
   ],
   "source": [
    "from sklearn.linear_model import LinearRegression\n",
    "lin_reg = LinearRegression()\n",
    "lin_reg.fit(X, y)\n",
    "\n",
    "# Visualizing the Linear Regression results\n",
    "def viz_linear():\n",
    "    plt.scatter(X, y, color='red')\n",
    "    plt.plot(X, lin_reg.predict(X), color='blue')\n",
    "    plt.title('Truth or Bluff (Linear Regression)')\n",
    "    plt.xlabel('Age')\n",
    "    plt.ylabel('Length')\n",
    "    plt.show()\n",
    "    return\n",
    "viz_linear()"
   ]
  },
  {
   "cell_type": "code",
   "execution_count": null,
   "metadata": {
    "colab": {
     "base_uri": "https://localhost:8080/",
     "height": 295
    },
    "executionInfo": {
     "elapsed": 4,
     "status": "ok",
     "timestamp": 1631887166948,
     "user": {
      "displayName": "Max Tran",
      "photoUrl": "https://lh3.googleusercontent.com/a-/AOh14GizvxqyJoB1u7-ziYa84NBrD8WPm4wfPN-MArE16LM=s64",
      "userId": "08758706046209777252"
     },
     "user_tz": -420
    },
    "id": "WUXavBsvBorA",
    "outputId": "704dcc22-8bd8-40a5-c42b-9798918cf5d9"
   },
   "outputs": [
    {
     "data": {
      "image/png": "[encoded data removed]",
      "text/plain": [
       "<Figure size 432x288 with 1 Axes>"
      ]
     },
     "metadata": {
      "needs_background": "light"
     },
     "output_type": "display_data"
    }
   ],
   "source": [
    "# Fitting Polynomial Regression to the dataset\n",
    "from sklearn.preprocessing import PolynomialFeatures\n",
    "poly_reg = PolynomialFeatures(degree=4)\n",
    "X_poly = poly_reg.fit_transform(X)\n",
    "pol_reg = LinearRegression()\n",
    "pol_reg.fit(X_poly, y)\n",
    "\n",
    "# Visualizing the Polymonial Regression results\n",
    "def viz_polymonial():\n",
    "    plt.scatter(X, y, color='red')\n",
    "    plt.plot(X, pol_reg.predict(poly_reg.fit_transform(X)), color='blue')\n",
    "    plt.xlabel('Age')\n",
    "    plt.ylabel('Length')\n",
    "    plt.title('Polynomial Regression')\n",
    "    plt.show()\n",
    "    return\n",
    "viz_polymonial()"
   ]
  },
  {
   "cell_type": "code",
   "execution_count": null,
   "metadata": {
    "colab": {
     "base_uri": "https://localhost:8080/"
    },
    "executionInfo": {
     "elapsed": 340,
     "status": "ok",
     "timestamp": 1631886931385,
     "user": {
      "displayName": "Max Tran",
      "photoUrl": "https://lh3.googleusercontent.com/a-/AOh14GizvxqyJoB1u7-ziYa84NBrD8WPm4wfPN-MArE16LM=s64",
      "userId": "08758706046209777252"
     },
     "user_tz": -420
    },
    "id": "OSyl6QV2CaPA",
    "outputId": "3653f4c2-2887-45ee-f79a-9b8ae0b63728"
   },
   "outputs": [
    {
     "data": {
      "text/plain": [
       "LinearRegression(copy_X=True, fit_intercept=True, n_jobs=None, normalize=False)"
      ]
     },
     "execution_count": 28,
     "metadata": {},
     "output_type": "execute_result"
    }
   ],
   "source": [
    "from sklearn.preprocessing import PolynomialFeatures\n",
    "poly_reg = PolynomialFeatures(degree = 4)\n",
    "X_poly = poly_reg.fit_transform(X_train)\n",
    "poly_reg.fit(X_poly, y_train)\n",
    "lin_reg = LinearRegression()\n",
    "lin_reg.fit(X_poly, y_train)"
   ]
  },
  {
   "cell_type": "code",
   "execution_count": null,
   "metadata": {
    "colab": {
     "base_uri": "https://localhost:8080/"
    },
    "executionInfo": {
     "elapsed": 302,
     "status": "ok",
     "timestamp": 1631887002433,
     "user": {
      "displayName": "Max Tran",
      "photoUrl": "https://lh3.googleusercontent.com/a-/AOh14GizvxqyJoB1u7-ziYa84NBrD8WPm4wfPN-MArE16LM=s64",
      "userId": "08758706046209777252"
     },
     "user_tz": -420
    },
    "id": "_Hnp6-1dC1E2",
    "outputId": "304a2d28-6fce-4fc3-ecfa-a9acf3bc60a3"
   },
   "outputs": [
    {
     "data": {
      "text/plain": [
       "array([[4],\n",
       "       [4],\n",
       "       [4],\n",
       "       [4],\n",
       "       [3],\n",
       "       [3],\n",
       "       [6],\n",
       "       [5],\n",
       "       [4],\n",
       "       [3],\n",
       "       [4],\n",
       "       [4],\n",
       "       [2],\n",
       "       [4],\n",
       "       [4],\n",
       "       [4]])"
      ]
     },
     "execution_count": 33,
     "metadata": {},
     "output_type": "execute_result"
    }
   ],
   "source": [
    "X_test.reshape(-1,1)"
   ]
  },
  {
   "cell_type": "code",
   "execution_count": null,
   "metadata": {
    "colab": {
     "base_uri": "https://localhost:8080/"
    },
    "executionInfo": {
     "elapsed": 300,
     "status": "ok",
     "timestamp": 1631887016209,
     "user": {
      "displayName": "Max Tran",
      "photoUrl": "https://lh3.googleusercontent.com/a-/AOh14GizvxqyJoB1u7-ziYa84NBrD8WPm4wfPN-MArE16LM=s64",
      "userId": "08758706046209777252"
     },
     "user_tz": -420
    },
    "id": "KLWXghzLCn13",
    "outputId": "abbc805c-39c0-4e8d-aa51-6e81567f448a"
   },
   "outputs": [
    {
     "data": {
      "text/plain": [
       "array([[153.77419355]])"
      ]
     },
     "execution_count": 34,
     "metadata": {},
     "output_type": "execute_result"
    }
   ],
   "source": [
    "lin_reg.predict(poly_reg.fit_transform(X_test[0].reshape(-1,1)))\n",
    "lin_reg.predict(poly_reg.fit_transform(X_test[1].reshape(-1,1)))"
   ]
  },
  {
   "cell_type": "code",
   "execution_count": null,
   "metadata": {
    "colab": {
     "base_uri": "https://localhost:8080/",
     "height": 295
    },
    "executionInfo": {
     "elapsed": 375,
     "status": "ok",
     "timestamp": 1631887131039,
     "user": {
      "displayName": "Max Tran",
      "photoUrl": "https://lh3.googleusercontent.com/a-/AOh14GizvxqyJoB1u7-ziYa84NBrD8WPm4wfPN-MArE16LM=s64",
      "userId": "08758706046209777252"
     },
     "user_tz": -420
    },
    "id": "ZDvD3fkkC9Mf",
    "outputId": "97aea578-0f8a-4ebd-b4f9-3b586cbe1b07"
   },
   "outputs": [
    {
     "data": {
      "image/png": "[encoded data removed]",
      "text/plain": [
       "<Figure size 432x288 with 1 Axes>"
      ]
     },
     "metadata": {
      "needs_background": "light"
     },
     "output_type": "display_data"
    }
   ],
   "source": [
    "plt.scatter(X_train, y_train, color = 'red')\n",
    "plt.plot(X, lin_reg.predict(poly_reg.fit_transform(X)), color = 'blue')\n",
    "plt.title('Polynomial Regression')\n",
    "plt.xlabel('Age')\n",
    "plt.ylabel('Length')\n",
    "plt.show()\n",
    "\n"
   ]
  },
  {
   "cell_type": "code",
   "execution_count": null,
   "metadata": {
    "colab": {
     "base_uri": "https://localhost:8080/",
     "height": 295
    },
    "executionInfo": {
     "elapsed": 370,
     "status": "ok",
     "timestamp": 1631887233773,
     "user": {
      "displayName": "Max Tran",
      "photoUrl": "https://lh3.googleusercontent.com/a-/AOh14GizvxqyJoB1u7-ziYa84NBrD8WPm4wfPN-MArE16LM=s64",
      "userId": "08758706046209777252"
     },
     "user_tz": -420
    },
    "id": "IrVKbxgnDccI",
    "outputId": "2985152a-a5c2-469a-e58e-5a713140dd96"
   },
   "outputs": [
    {
     "data": {
      "image/png": "[encoded data removed]",
      "text/plain": [
       "<Figure size 432x288 with 1 Axes>"
      ]
     },
     "metadata": {
      "needs_background": "light"
     },
     "output_type": "display_data"
    }
   ],
   "source": [
    "X_grid = np.arange(min(X), max(X), 0.1)\n",
    "X_grid = X_grid.reshape((len(X_grid), 1))\n",
    "plt.scatter(X, y, color = 'red')\n",
    "plt.plot(X_grid, lin_reg.predict(poly_reg.fit_transform(X_grid)), color = 'blue')\n",
    "plt.title('Polynomial Regression')\n",
    "plt.xlabel('Age')\n",
    "plt.ylabel('Length')\n",
    "plt.show()"
   ]
  },
  {
   "cell_type": "code",
   "execution_count": null,
   "metadata": {
    "colab": {
     "base_uri": "https://localhost:8080/"
    },
    "executionInfo": {
     "elapsed": 304,
     "status": "ok",
     "timestamp": 1631887429362,
     "user": {
      "displayName": "Max Tran",
      "photoUrl": "https://lh3.googleusercontent.com/a-/AOh14GizvxqyJoB1u7-ziYa84NBrD8WPm4wfPN-MArE16LM=s64",
      "userId": "08758706046209777252"
     },
     "user_tz": -420
    },
    "id": "7uuwfAcSEEtE",
    "outputId": "c2b8e1b4-ec90-4d9f-99b4-3a389e037133"
   },
   "outputs": [
    {
     "data": {
      "text/plain": [
       "array([[164.14285714]])"
      ]
     },
     "execution_count": 57,
     "metadata": {},
     "output_type": "execute_result"
    }
   ],
   "source": [
    "lin_reg.predict(poly_reg.fit_transform([[5]]))"
   ]
  },
  {
   "cell_type": "markdown",
   "metadata": {
    "id": "7yW3lrRwl3Mm"
   },
   "source": [
    "**Gradient Descent **\n"
   ]
  },
  {
   "cell_type": "code",
   "execution_count": 16,
   "metadata": {
    "executionInfo": {
     "elapsed": 376,
     "status": "ok",
     "timestamp": 1660577156003,
     "user": {
      "displayName": "Hiếu Lê Đình",
      "userId": "13105593688172757065"
     },
     "user_tz": -420
    },
    "id": "Xpk2UnNkl8St"
   },
   "outputs": [],
   "source": [
    "from __future__ import division, print_function, unicode_literals\n",
    "import math\n",
    "import numpy as np \n",
    "import matplotlib.pyplot as plt"
   ]
  },
  {
   "cell_type": "markdown",
   "metadata": {
    "id": "xYgqFuSBmDyl"
   },
   "source": [
    "# J(w) = w^2 + 5sin(w)"
   ]
  },
  {
   "cell_type": "markdown",
   "metadata": {
    "id": "HOVLNmiEmVXV"
   },
   "source": [
    "=> J'(w) = 2w + 5cos(w)"
   ]
  },
  {
   "cell_type": "code",
   "execution_count": 17,
   "metadata": {
    "executionInfo": {
     "elapsed": 3,
     "status": "ok",
     "timestamp": 1660577157334,
     "user": {
      "displayName": "Hiếu Lê Đình",
      "userId": "13105593688172757065"
     },
     "user_tz": -420
    },
    "id": "xzB4sa9Il_UU"
   },
   "outputs": [],
   "source": [
    "def grad(w):\n",
    "    return 2*w+ 5*np.cos(w)\n",
    "\n",
    "def cost(w):\n",
    "    return w**2 + 5*np.sin(w)\n",
    "\n",
    "def myGD1(eta, w0):\n",
    "    w = [w0]\n",
    "    for it in range(100):\n",
    "        w_new = w[-1] - eta*grad(w[-1])\n",
    "        if abs(grad(w_new)) < 1e-3:\n",
    "            break\n",
    "        w.append(w_new)\n",
    "    return (w, it)"
   ]
  },
  {
   "cell_type": "code",
   "execution_count": 20,
   "metadata": {
    "colab": {
     "base_uri": "https://localhost:8080/"
    },
    "executionInfo": {
     "elapsed": 491,
     "status": "ok",
     "timestamp": 1660577222336,
     "user": {
      "displayName": "Hiếu Lê Đình",
      "userId": "13105593688172757065"
     },
     "user_tz": -420
    },
    "id": "6mM9WJ9nmgH0",
    "outputId": "ba331777-5ebf-4768-c583-4a0fd20a6be9"
   },
   "outputs": [
    {
     "name": "stdout",
     "output_type": "stream",
     "text": [
      "Solution w1 = -1.110667, cost = -3.246394, obtained after 11 iterations\n",
      "Solution w2 = -1.110341, cost = -3.246394, obtained after 29 iterations\n"
     ]
    }
   ],
   "source": [
    "(w1, it1) = myGD1(.1, -5)\n",
    "(w2, it2) = myGD1(.1, 5)\n",
    "print('Solution w1 = %f, cost = %f, obtained after %d iterations'%(w1[-1], cost(w1[-1]), it1))\n",
    "print('Solution w2 = %f, cost = %f, obtained after %d iterations'%(w2[-1], cost(w2[-1]), it2))"
   ]
  },
  {
   "cell_type": "code",
   "execution_count": null,
   "metadata": {
    "colab": {
     "base_uri": "https://localhost:8080/",
     "height": 438
    },
    "executionInfo": {
     "elapsed": 289,
     "status": "ok",
     "timestamp": 1632131772219,
     "user": {
      "displayName": "Max Tran",
      "photoUrl": "https://lh3.googleusercontent.com/a-/AOh14GizvxqyJoB1u7-ziYa84NBrD8WPm4wfPN-MArE16LM=s64",
      "userId": "08758706046209777252"
     },
     "user_tz": -420
    },
    "id": "7-jkV-kvm9Lc",
    "outputId": "034a9e89-cb7c-4fd1-9f6e-7aa91a2fa0f2"
   },
   "outputs": [
    {
     "name": "stdout",
     "output_type": "stream",
     "text": [
      "Small Learning rate\n"
     ]
    },
    {
     "data": {
      "text/html": [
       "<img src=\"https://machinelearningcoban.com/assets/GD/1dimg_5_0.01_-5.gif\">"
      ],
      "text/plain": [
       "<IPython.core.display.HTML object>"
      ]
     },
     "execution_count": 12,
     "metadata": {},
     "output_type": "execute_result"
    }
   ],
   "source": [
    "import IPython\n",
    "print('Small Learning rate')\n",
    "IPython.display.HTML('<img src=\"https://machinelearningcoban.com/assets/GD/1dimg_5_0.01_-5.gif\">') \n"
   ]
  },
  {
   "cell_type": "code",
   "execution_count": null,
   "metadata": {
    "colab": {
     "base_uri": "https://localhost:8080/",
     "height": 438
    },
    "executionInfo": {
     "elapsed": 290,
     "status": "ok",
     "timestamp": 1632131760384,
     "user": {
      "displayName": "Max Tran",
      "photoUrl": "https://lh3.googleusercontent.com/a-/AOh14GizvxqyJoB1u7-ziYa84NBrD8WPm4wfPN-MArE16LM=s64",
      "userId": "08758706046209777252"
     },
     "user_tz": -420
    },
    "id": "uOIAb3sTnahr",
    "outputId": "b8a0ecd7-6ecc-4ae2-ad1a-c065c8ffd6a6"
   },
   "outputs": [
    {
     "name": "stdout",
     "output_type": "stream",
     "text": [
      "Big learning raterate\n"
     ]
    },
    {
     "data": {
      "text/html": [
       "<img src=\"https://machinelearningcoban.com/assets/GD/1dimg_5_0.5_-5.gif\">"
      ],
      "text/plain": [
       "<IPython.core.display.HTML object>"
      ]
     },
     "execution_count": 10,
     "metadata": {},
     "output_type": "execute_result"
    }
   ],
   "source": [
    "print('Big learning raterate')\n",
    "IPython.display.HTML('<img src=\"https://machinelearningcoban.com/assets/GD/1dimg_5_0.5_-5.gif\">') "
   ]
  },
  {
   "cell_type": "markdown",
   "metadata": {
    "id": "XV2Ct6rgprZ2"
   },
   "source": [
    "Cho đường thẳng y = 4 + 3x"
   ]
  },
  {
   "cell_type": "code",
   "execution_count": null,
   "metadata": {
    "id": "akcvX4mTpYM6"
   },
   "outputs": [],
   "source": [
    "# To support both python 2 and python 3\n",
    "from __future__ import division, print_function, unicode_literals\n",
    "import numpy as np \n",
    "import matplotlib\n",
    "import matplotlib.pyplot as plt\n",
    "np.random.seed(2)"
   ]
  },
  {
   "cell_type": "code",
   "execution_count": null,
   "metadata": {
    "colab": {
     "base_uri": "https://localhost:8080/",
     "height": 286
    },
    "executionInfo": {
     "elapsed": 1414,
     "status": "ok",
     "timestamp": 1632132109291,
     "user": {
      "displayName": "Max Tran",
      "photoUrl": "https://lh3.googleusercontent.com/a-/AOh14GizvxqyJoB1u7-ziYa84NBrD8WPm4wfPN-MArE16LM=s64",
      "userId": "08758706046209777252"
     },
     "user_tz": -420
    },
    "id": "seYb6EIOpo5C",
    "outputId": "37c54bfc-94a3-41c6-f2d0-1ed2538551ad"
   },
   "outputs": [
    {
     "name": "stdout",
     "output_type": "stream",
     "text": [
      "Solution found by formula: w =  [[4.0071715  2.98225924]]\n"
     ]
    },
    {
     "data": {
      "image/png": "[encoded data removed]",
      "text/plain": [
       "<Figure size 432x288 with 1 Axes>"
      ]
     },
     "metadata": {
      "needs_background": "light"
     },
     "output_type": "display_data"
    }
   ],
   "source": [
    "X = np.random.rand(1000, 1)\n",
    "y = 4 + 3 * X + .2*np.random.randn(1000, 1) # noise added\n",
    "\n",
    "# Building Xbar \n",
    "one = np.ones((X.shape[0],1))\n",
    "Xbar = np.concatenate((one, X), axis = 1)\n",
    "\n",
    "A = np.dot(Xbar.T, Xbar)\n",
    "b = np.dot(Xbar.T, y)\n",
    "w_lr = np.dot(np.linalg.pinv(A), b)\n",
    "print('Solution found by formula: w = ',w_lr.T)\n",
    "\n",
    "# Display result\n",
    "w = w_lr\n",
    "w_0 = w[0][0]\n",
    "w_1 = w[1][0]\n",
    "x0 = np.linspace(0, 1, 2, endpoint=True)\n",
    "y0 = w_0 + w_1*x0\n",
    "\n",
    "# Draw the fitting line \n",
    "plt.plot(X.T, y.T, 'b.')     # data \n",
    "plt.plot(x0, y0, 'y', linewidth = 2)   # the fitting line\n",
    "plt.axis([0, 1, 0, 10])\n",
    "plt.show()"
   ]
  },
  {
   "cell_type": "code",
   "execution_count": null,
   "metadata": {
    "id": "tSaA6SsBqNwN"
   },
   "outputs": [],
   "source": [
    "def grad(w):\n",
    "    N = Xbar.shape[0]\n",
    "    return 1/N * Xbar.T.dot(Xbar.dot(w) - y)\n",
    "\n",
    "def cost(w):\n",
    "    N = Xbar.shape[0]\n",
    "    return .5/N*np.linalg.norm(y - Xbar.dot(w), 2)**2;\n",
    "\n"
   ]
  },
  {
   "cell_type": "code",
   "execution_count": null,
   "metadata": {
    "colab": {
     "base_uri": "https://localhost:8080/"
    },
    "executionInfo": {
     "elapsed": 305,
     "status": "ok",
     "timestamp": 1632132295163,
     "user": {
      "displayName": "Max Tran",
      "photoUrl": "https://lh3.googleusercontent.com/a-/AOh14GizvxqyJoB1u7-ziYa84NBrD8WPm4wfPN-MArE16LM=s64",
      "userId": "08758706046209777252"
     },
     "user_tz": -420
    },
    "id": "DRlzD3yop6Kr",
    "outputId": "2fce9ea7-1f14-4cab-ba60-c4d057dd3391"
   },
   "outputs": [
    {
     "name": "stdout",
     "output_type": "stream",
     "text": [
      "Checking gradient... True\n"
     ]
    }
   ],
   "source": [
    "def numerical_grad(w, cost):\n",
    "    eps = 1e-4\n",
    "    g = np.zeros_like(w)\n",
    "    for i in range(len(w)):\n",
    "        w_p = w.copy()\n",
    "        w_n = w.copy()\n",
    "        w_p[i] += eps \n",
    "        w_n[i] -= eps\n",
    "        g[i] = (cost(w_p) - cost(w_n))/(2*eps)\n",
    "    return g \n",
    "\n",
    "def check_grad(w, cost, grad):\n",
    "    w = np.random.rand(w.shape[0], w.shape[1])\n",
    "    grad1 = grad(w)\n",
    "    grad2 = numerical_grad(w, cost)\n",
    "    return True if np.linalg.norm(grad1 - grad2) < 1e-6 else False \n",
    "\n",
    "print( 'Checking gradient...', check_grad(np.random.rand(2, 1), cost, grad))"
   ]
  },
  {
   "cell_type": "code",
   "execution_count": null,
   "metadata": {
    "colab": {
     "base_uri": "https://localhost:8080/"
    },
    "executionInfo": {
     "elapsed": 308,
     "status": "ok",
     "timestamp": 1632132318021,
     "user": {
      "displayName": "Max Tran",
      "photoUrl": "https://lh3.googleusercontent.com/a-/AOh14GizvxqyJoB1u7-ziYa84NBrD8WPm4wfPN-MArE16LM=s64",
      "userId": "08758706046209777252"
     },
     "user_tz": -420
    },
    "id": "rHfcLe-Rqrbr",
    "outputId": "8805ceff-e9ce-4d1f-9d29-f4b6f9b64515"
   },
   "outputs": [
    {
     "name": "stdout",
     "output_type": "stream",
     "text": [
      "Solution found by GD: w =  [[4.02199496 2.95380036]] ,\n",
      "after 50 iterations.\n"
     ]
    }
   ],
   "source": [
    "def myGD(w_init, grad, eta):\n",
    "    w = [w_init]\n",
    "    for it in range(100):\n",
    "        w_new = w[-1] - eta*grad(w[-1])\n",
    "        if np.linalg.norm(grad(w_new))/len(w_new) < 1e-3:\n",
    "            break \n",
    "        w.append(w_new)\n",
    "    return (w, it) \n",
    "\n",
    "w_init = np.array([[2], [1]])\n",
    "(w1, it1) = myGD(w_init, grad, 1)\n",
    "print('Solution found by GD: w = ', w1[-1].T, ',\\nafter %d iterations.' %(it1+1))"
   ]
  },
  {
   "cell_type": "code",
   "execution_count": null,
   "metadata": {
    "colab": {
     "base_uri": "https://localhost:8080/",
     "height": 438
    },
    "executionInfo": {
     "elapsed": 307,
     "status": "ok",
     "timestamp": 1632132445432,
     "user": {
      "displayName": "Max Tran",
      "photoUrl": "https://lh3.googleusercontent.com/a-/AOh14GizvxqyJoB1u7-ziYa84NBrD8WPm4wfPN-MArE16LM=s64",
      "userId": "08758706046209777252"
     },
     "user_tz": -420
    },
    "id": "NZhXPH-grAY2",
    "outputId": "51b9725b-2700-447d-d77e-b5ed13a80447"
   },
   "outputs": [
    {
     "name": "stdout",
     "output_type": "stream",
     "text": [
      "Vector learning raterate\n"
     ]
    },
    {
     "data": {
      "text/html": [
       "<img src=\"https://machinelearningcoban.com/assets/GD/img1_1.gif\">"
      ],
      "text/plain": [
       "<IPython.core.display.HTML object>"
      ]
     },
     "execution_count": 24,
     "metadata": {},
     "output_type": "execute_result"
    }
   ],
   "source": [
    "import IPython\n",
    "print('Vector learning raterate')\n",
    "IPython.display.HTML('<img src=\"https://machinelearningcoban.com/assets/GD/img1_1.gif\">') \n"
   ]
  }
 ],
 "metadata": {
  "colab": {
   "collapsed_sections": [],
   "name": "Class 2 Regression- Hieu.ipynb",
   "provenance": [
    {
     "file_id": "1lL-2IFEuJxh4RKf4QMjJPsQ8XoZBjwo5",
     "timestamp": 1632402056086
    }
   ]
  },
  "kernelspec": {
   "display_name": "Python 3 (ipykernel)",
   "language": "python",
   "name": "python3"
  },
  "language_info": {
   "codemirror_mode": {
    "name": "ipython",
    "version": 3
   },
   "file_extension": ".py",
   "mimetype": "text/x-python",
   "name": "python",
   "nbconvert_exporter": "python",
   "pygments_lexer": "ipython3",
   "version": "3.9.12"
  }
 },
 "nbformat": 4,
 "nbformat_minor": 1
}
