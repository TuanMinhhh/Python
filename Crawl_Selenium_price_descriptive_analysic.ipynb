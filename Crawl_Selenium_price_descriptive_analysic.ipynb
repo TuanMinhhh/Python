{
 "cells": [
  {
   "cell_type": "code",
   "execution_count": 1,
   "metadata": {},
   "outputs": [],
   "source": [
    "# !pip install selenium\n",
    "# !pip install re\n",
    "# !pip install time\n",
    "# !pip install sys"
   ]
  },
  {
   "cell_type": "code",
   "execution_count": 1,
   "metadata": {},
   "outputs": [],
   "source": [
    "import time\n",
    "from selenium import webdriver\n",
    "from selenium.webdriver.common.by import By\n",
    "from selenium.webdriver.chrome.service import Service\n",
    "import numpy as np\n",
    "import pandas as pd\n",
    "# import logging\n",
    "import sys\n",
    "import re \n",
    "import plotly.express as px\n",
    "import plotly.graph_objects as go"
   ]
  },
  {
   "cell_type": "code",
   "execution_count": 2,
   "metadata": {},
   "outputs": [],
   "source": [
    "s = Service(r\"E:\\DA\\Mindx\\K3\\Thực_Hành\\Ecommerce_Scrapping\\chromedriver.exe\")  ##download chromedirver to run\n",
    "# logging.basicConfig(format='%asctimne)s | %(levelname)s :  %(message)s', level=logging.INFO, stream=sys.stdout)"
   ]
  },
  {
   "cell_type": "code",
   "execution_count": 3,
   "metadata": {},
   "outputs": [],
   "source": [
    "def crawl_page(page_index):\n",
    "    # get chromedriver and setup driver\n",
    "    driver = webdriver.Chrome(service=s)\n",
    "    driver.get(f\"https://shopee.vn/search?keyword=tai%20nghe%20bluetooth&page={page_index}&sortBy=sales\")\n",
    "    time.sleep(3)\n",
    "    # cuộn chuột \n",
    "    for n in range(1,6):\n",
    "        driver.execute_script(\"window.scrollTo({top: \"+str(n*1000)+\",behavior: 'smooth'})\") #top: \"+str(...)\": độ dài mỗi lần cuộn\n",
    "        time.sleep(3)\n",
    "\n",
    "    #lấy tên sản phẩm bằng class_name\n",
    "    name = []\n",
    "    for e in driver.find_elements(by=By.CLASS_NAME, value='dpiR4u'):\n",
    "        name_item = e.text.split('\\n')\n",
    "        name.append(name_item[0])  \n",
    "        \n",
    "    ##lấy giá sản phẩm bằng class_name\n",
    "    selling_price_text = []\n",
    "    for e in driver.find_elements(by=By.CLASS_NAME, value='hpDKMN'):\n",
    "        price = e.text\n",
    "        selling_price_text.append(price)\n",
    "        \n",
    "    original_price = []\n",
    "    selling_price_1 = []\n",
    "    selling_price_2 = []\n",
    "\n",
    "    regex = re.compile('[^a-zA-Z]')\n",
    "    for i in selling_price_text:\n",
    "        if i.find('-') > 0:\n",
    "            slit_price = i.split(' - ')\n",
    "            s1 = ''.join(filter(str.isalnum, slit_price[0]))\n",
    "            s2 = ''.join(filter(str.isalnum, slit_price[1]))\n",
    "            selling_price_1.append(s1)\n",
    "            selling_price_2.append(s2)\n",
    "            original_price.append('0')\n",
    "        else:\n",
    "            slit_price = i.split('\\n')\n",
    "            s1 = ''.join(filter(str.isalnum, slit_price[0]))\n",
    "            try:\n",
    "                s2 = ''.join(filter(str.isalnum, slit_price[1]))\n",
    "            except:\n",
    "                s2 = s1\n",
    "            selling_price_1.append(s2)\n",
    "            selling_price_2.append('0')\n",
    "            original_price.append(s1)\n",
    "            \n",
    "    seller_location = []\n",
    "    for e in driver.find_elements(by=By.CLASS_NAME, value='zGGwiV'):\n",
    "        location = e.text\n",
    "        seller_location.append(location)\n",
    "    driver.close()\n",
    "    df = pd.DataFrame({'name':name , 'original_price': original_price, 'selling_price_1': selling_price_1, 'selling_price_2': selling_price_2, 'location': seller_location})\n",
    "    return df"
   ]
  },
  {
   "cell_type": "code",
   "execution_count": 4,
   "metadata": {},
   "outputs": [
    {
     "name": "stdout",
     "output_type": "stream",
     "text": [
      "Page 0 done!\n",
      "Page 1 done!\n",
      "Page 2 done!\n",
      "Page 3 done!\n",
      "Page 4 done!\n",
      "Page 5 done!\n",
      "Page 6 done!\n",
      "Page 7 done!\n",
      "Page 8 done!\n"
     ]
    },
    {
     "data": {
      "text/html": [
       "<div>\n",
       "<style scoped>\n",
       "    .dataframe tbody tr th:only-of-type {\n",
       "        vertical-align: middle;\n",
       "    }\n",
       "\n",
       "    .dataframe tbody tr th {\n",
       "        vertical-align: top;\n",
       "    }\n",
       "\n",
       "    .dataframe thead th {\n",
       "        text-align: right;\n",
       "    }\n",
       "</style>\n",
       "<table border=\"1\" class=\"dataframe\">\n",
       "  <thead>\n",
       "    <tr style=\"text-align: right;\">\n",
       "      <th></th>\n",
       "      <th>name</th>\n",
       "      <th>original_price</th>\n",
       "      <th>selling_price_1</th>\n",
       "      <th>selling_price_2</th>\n",
       "      <th>location</th>\n",
       "    </tr>\n",
       "  </thead>\n",
       "  <tbody>\n",
       "    <tr>\n",
       "      <th>0</th>\n",
       "      <td>Tai Nghe Bluetooth AP2 TWS Không Dây Bản Quốc ...</td>\n",
       "      <td>400000</td>\n",
       "      <td>269000</td>\n",
       "      <td>0</td>\n",
       "      <td>Hà Nội</td>\n",
       "    </tr>\n",
       "    <tr>\n",
       "      <th>1</th>\n",
       "      <td>Tai Nghe Bluetooth EP2 Cao Cấp Định Vị Đổi Tên...</td>\n",
       "      <td>299000</td>\n",
       "      <td>235000</td>\n",
       "      <td>0</td>\n",
       "      <td>Hà Nội</td>\n",
       "    </tr>\n",
       "    <tr>\n",
       "      <th>2</th>\n",
       "      <td>Tai nghe bluetooth l12 TWS 5.0 tai nghe l12 kh...</td>\n",
       "      <td>189000</td>\n",
       "      <td>129000</td>\n",
       "      <td>0</td>\n",
       "      <td>Hà Nội</td>\n",
       "    </tr>\n",
       "    <tr>\n",
       "      <th>3</th>\n",
       "      <td>Tai Nghe Bluetooth không dây AP3 Cảm Biến Đa Đ...</td>\n",
       "      <td>0</td>\n",
       "      <td>293000</td>\n",
       "      <td>332000</td>\n",
       "      <td>Hà Nội</td>\n",
       "    </tr>\n",
       "    <tr>\n",
       "      <th>4</th>\n",
       "      <td>Tai Nghe Bluetooth P2 Cao Cấp Định Vị Đổi Tên ...</td>\n",
       "      <td>0</td>\n",
       "      <td>229000</td>\n",
       "      <td>245000</td>\n",
       "      <td>TP. Hồ Chí Minh</td>\n",
       "    </tr>\n",
       "    <tr>\n",
       "      <th>...</th>\n",
       "      <td>...</td>\n",
       "      <td>...</td>\n",
       "      <td>...</td>\n",
       "      <td>...</td>\n",
       "      <td>...</td>\n",
       "    </tr>\n",
       "    <tr>\n",
       "      <th>14</th>\n",
       "      <td>Tai Nghe Gaming Bluetooth DH-01 TWS Bluetooth ...</td>\n",
       "      <td>300000</td>\n",
       "      <td>165000</td>\n",
       "      <td>0</td>\n",
       "      <td>Hà Nội</td>\n",
       "    </tr>\n",
       "    <tr>\n",
       "      <th>15</th>\n",
       "      <td>Tai nghe bluetooth Chụp Tai Headphone P47 Lắp ...</td>\n",
       "      <td>120000</td>\n",
       "      <td>66000</td>\n",
       "      <td>0</td>\n",
       "      <td>Hải Dương</td>\n",
       "    </tr>\n",
       "    <tr>\n",
       "      <th>16</th>\n",
       "      <td>Tai nghe Bluetooth chụp tai có mic T7, Tai ngh...</td>\n",
       "      <td>529000</td>\n",
       "      <td>269000</td>\n",
       "      <td>0</td>\n",
       "      <td>Hà Nội</td>\n",
       "    </tr>\n",
       "    <tr>\n",
       "      <th>17</th>\n",
       "      <td>Tai nghe không dây Bluetooth 5.2 chip chuyên g...</td>\n",
       "      <td>239000</td>\n",
       "      <td>159000</td>\n",
       "      <td>0</td>\n",
       "      <td>TP. Hồ Chí Minh</td>\n",
       "    </tr>\n",
       "    <tr>\n",
       "      <th>18</th>\n",
       "      <td>Tai Nghe Hổ Vằn 1562E Bản Cao Cấp Nhất Của Dòn...</td>\n",
       "      <td>0</td>\n",
       "      <td>625000</td>\n",
       "      <td>785000</td>\n",
       "      <td>Hà Nội</td>\n",
       "    </tr>\n",
       "  </tbody>\n",
       "</table>\n",
       "<p>427 rows × 5 columns</p>\n",
       "</div>"
      ],
      "text/plain": [
       "                                                 name original_price  \\\n",
       "0   Tai Nghe Bluetooth AP2 TWS Không Dây Bản Quốc ...         400000   \n",
       "1   Tai Nghe Bluetooth EP2 Cao Cấp Định Vị Đổi Tên...         299000   \n",
       "2   Tai nghe bluetooth l12 TWS 5.0 tai nghe l12 kh...         189000   \n",
       "3   Tai Nghe Bluetooth không dây AP3 Cảm Biến Đa Đ...              0   \n",
       "4   Tai Nghe Bluetooth P2 Cao Cấp Định Vị Đổi Tên ...              0   \n",
       "..                                                ...            ...   \n",
       "14  Tai Nghe Gaming Bluetooth DH-01 TWS Bluetooth ...         300000   \n",
       "15  Tai nghe bluetooth Chụp Tai Headphone P47 Lắp ...         120000   \n",
       "16  Tai nghe Bluetooth chụp tai có mic T7, Tai ngh...         529000   \n",
       "17  Tai nghe không dây Bluetooth 5.2 chip chuyên g...         239000   \n",
       "18  Tai Nghe Hổ Vằn 1562E Bản Cao Cấp Nhất Của Dòn...              0   \n",
       "\n",
       "   selling_price_1 selling_price_2         location  \n",
       "0           269000               0           Hà Nội  \n",
       "1           235000               0           Hà Nội  \n",
       "2           129000               0           Hà Nội  \n",
       "3           293000          332000           Hà Nội  \n",
       "4           229000          245000  TP. Hồ Chí Minh  \n",
       "..             ...             ...              ...  \n",
       "14          165000               0           Hà Nội  \n",
       "15           66000               0        Hải Dương  \n",
       "16          269000               0           Hà Nội  \n",
       "17          159000               0  TP. Hồ Chí Minh  \n",
       "18          625000          785000           Hà Nội  \n",
       "\n",
       "[427 rows x 5 columns]"
      ]
     },
     "execution_count": 4,
     "metadata": {},
     "output_type": "execute_result"
    }
   ],
   "source": [
    "df_shopee_crawl = []\n",
    "page = 0\n",
    "while True:\n",
    "    try:\n",
    "        df = crawl_page(page)\n",
    "        df_shopee_crawl.append(df)\n",
    "        print(f'Page {page} done!')\n",
    "        page += 1\n",
    "    except:\n",
    "        print('Done!')\n",
    "        break\n",
    "\n",
    "df_shopee_crawl = pd.concat(df_shopee_crawl)\n",
    "df_shopee_crawl"
   ]
  },
  {
   "cell_type": "code",
   "execution_count": null,
   "metadata": {},
   "outputs": [
    {
     "data": {
      "text/html": [
       "<div>\n",
       "<style scoped>\n",
       "    .dataframe tbody tr th:only-of-type {\n",
       "        vertical-align: middle;\n",
       "    }\n",
       "\n",
       "    .dataframe tbody tr th {\n",
       "        vertical-align: top;\n",
       "    }\n",
       "\n",
       "    .dataframe thead th {\n",
       "        text-align: right;\n",
       "    }\n",
       "</style>\n",
       "<table border=\"1\" class=\"dataframe\">\n",
       "  <thead>\n",
       "    <tr style=\"text-align: right;\">\n",
       "      <th></th>\n",
       "      <th>name</th>\n",
       "      <th>original_price</th>\n",
       "      <th>selling_price_1</th>\n",
       "      <th>selling_price_2</th>\n",
       "      <th>location</th>\n",
       "    </tr>\n",
       "  </thead>\n",
       "  <tbody>\n",
       "    <tr>\n",
       "      <th>0</th>\n",
       "      <td>Tai nghe Bluetooth không dây đeo quàng cổ Blue...</td>\n",
       "      <td>0</td>\n",
       "      <td>39900</td>\n",
       "      <td>45000</td>\n",
       "      <td>Hà Nội</td>\n",
       "    </tr>\n",
       "    <tr>\n",
       "      <th>1</th>\n",
       "      <td>Tai Nghe Bluetooth Lenovo HE05X II thể thao 5....</td>\n",
       "      <td>199000</td>\n",
       "      <td>142000</td>\n",
       "      <td>0</td>\n",
       "      <td>Nước ngoài</td>\n",
       "    </tr>\n",
       "    <tr>\n",
       "      <th>2</th>\n",
       "      <td>Kính râm thông minh GOOJODOQ kết nối bluetooth...</td>\n",
       "      <td>950000</td>\n",
       "      <td>403000</td>\n",
       "      <td>0</td>\n",
       "      <td>Nước ngoài</td>\n",
       "    </tr>\n",
       "    <tr>\n",
       "      <th>3</th>\n",
       "      <td>Tai nghe thể thao Bluetooth uốn dẻo 360 độ, hỗ...</td>\n",
       "      <td>95000</td>\n",
       "      <td>95000</td>\n",
       "      <td>0</td>\n",
       "      <td>TP. Hồ Chí Minh</td>\n",
       "    </tr>\n",
       "    <tr>\n",
       "      <th>4</th>\n",
       "      <td>Tai nghe không dây Bluetooth 5.0 RGA Sport Hea...</td>\n",
       "      <td>126660</td>\n",
       "      <td>59530</td>\n",
       "      <td>0</td>\n",
       "      <td>Nước ngoài</td>\n",
       "    </tr>\n",
       "    <tr>\n",
       "      <th>5</th>\n",
       "      <td>Tai nghe Bluetooth AMOI F9 TWS 5.0 bản QUỐC TẾ...</td>\n",
       "      <td>198000</td>\n",
       "      <td>99000</td>\n",
       "      <td>0</td>\n",
       "      <td>Hà Nội</td>\n",
       "    </tr>\n",
       "    <tr>\n",
       "      <th>6</th>\n",
       "      <td>Tai nghe bluetooth gaming S10 Pro cao cấp, cảm...</td>\n",
       "      <td>300000</td>\n",
       "      <td>169000</td>\n",
       "      <td>0</td>\n",
       "      <td>Hà Nội</td>\n",
       "    </tr>\n",
       "    <tr>\n",
       "      <th>7</th>\n",
       "      <td>Tai nghe không dây bluetooth P3 Pro chất lượng...</td>\n",
       "      <td>0</td>\n",
       "      <td>99000</td>\n",
       "      <td>179000</td>\n",
       "      <td>Hà Nội</td>\n",
       "    </tr>\n",
       "    <tr>\n",
       "      <th>8</th>\n",
       "      <td>Tai nghe không dây Bluetooth 5.2 chip chuyên g...</td>\n",
       "      <td>239000</td>\n",
       "      <td>145000</td>\n",
       "      <td>0</td>\n",
       "      <td>TP. Hồ Chí Minh</td>\n",
       "    </tr>\n",
       "    <tr>\n",
       "      <th>9</th>\n",
       "      <td>Tai Nghe Chụp Tai Bluetooth P47, Tai Không Dây...</td>\n",
       "      <td>0</td>\n",
       "      <td>58000</td>\n",
       "      <td>58500</td>\n",
       "      <td>TP. Hồ Chí Minh</td>\n",
       "    </tr>\n",
       "    <tr>\n",
       "      <th>10</th>\n",
       "      <td>Tai nghe nhét tai Disney F9 bluetooth 5.2 khôn...</td>\n",
       "      <td>390000</td>\n",
       "      <td>208000</td>\n",
       "      <td>0</td>\n",
       "      <td>Nước ngoài</td>\n",
       "    </tr>\n",
       "    <tr>\n",
       "      <th>11</th>\n",
       "      <td>Tai Nghe Nkodok Bluetooth 5.2 Đeo Cổ Giảm Tiến...</td>\n",
       "      <td>62842</td>\n",
       "      <td>45500</td>\n",
       "      <td>0</td>\n",
       "      <td>Nước ngoài</td>\n",
       "    </tr>\n",
       "    <tr>\n",
       "      <th>12</th>\n",
       "      <td>Tai nghe gaming bluetooth không dây TWS có mic...</td>\n",
       "      <td>330000</td>\n",
       "      <td>169000</td>\n",
       "      <td>0</td>\n",
       "      <td>Hà Nội</td>\n",
       "    </tr>\n",
       "    <tr>\n",
       "      <th>13</th>\n",
       "      <td>tai nghe bluetooth doraemon in-ear không dây â...</td>\n",
       "      <td>790000</td>\n",
       "      <td>690000</td>\n",
       "      <td>0</td>\n",
       "      <td>TP. Hồ Chí Minh</td>\n",
       "    </tr>\n",
       "    <tr>\n",
       "      <th>14</th>\n",
       "      <td>Tai Nghe Pro 6 Tai Nghe Bluetooth Không Dây Pr...</td>\n",
       "      <td>199000</td>\n",
       "      <td>97000</td>\n",
       "      <td>0</td>\n",
       "      <td>Hải Dương</td>\n",
       "    </tr>\n",
       "    <tr>\n",
       "      <th>15</th>\n",
       "      <td>Tai nghe Bluetooth 5.0 hình tai mèo phát sáng ...</td>\n",
       "      <td>0</td>\n",
       "      <td>106000</td>\n",
       "      <td>268000</td>\n",
       "      <td>Nước ngoài</td>\n",
       "    </tr>\n",
       "    <tr>\n",
       "      <th>16</th>\n",
       "      <td>Tai Nghe Bluetooth Pro 4, Tai Nghe Không Dây N...</td>\n",
       "      <td>0</td>\n",
       "      <td>92000</td>\n",
       "      <td>119000</td>\n",
       "      <td>Hà Nội</td>\n",
       "    </tr>\n",
       "    <tr>\n",
       "      <th>17</th>\n",
       "      <td>Tai Nghe Bluetooth Pro 6 - Tai Nghe Không Dây ...</td>\n",
       "      <td>250000</td>\n",
       "      <td>119000</td>\n",
       "      <td>0</td>\n",
       "      <td>Hà Nội</td>\n",
       "    </tr>\n",
       "    <tr>\n",
       "      <th>18</th>\n",
       "      <td>Tai nghe Bluetooth Redmi Buds 3 Lite</td>\n",
       "      <td>590000</td>\n",
       "      <td>390000</td>\n",
       "      <td>0</td>\n",
       "      <td>Nước ngoài</td>\n",
       "    </tr>\n",
       "    <tr>\n",
       "      <th>19</th>\n",
       "      <td>Tai nghe ELOUGH Y50 TWS không dây bluetooth 5....</td>\n",
       "      <td>152000</td>\n",
       "      <td>71000</td>\n",
       "      <td>0</td>\n",
       "      <td>Nước ngoài</td>\n",
       "    </tr>\n",
       "  </tbody>\n",
       "</table>\n",
       "</div>"
      ],
      "text/plain": [
       "                                                 name original_price  \\\n",
       "0   Tai nghe Bluetooth không dây đeo quàng cổ Blue...              0   \n",
       "1   Tai Nghe Bluetooth Lenovo HE05X II thể thao 5....         199000   \n",
       "2   Kính râm thông minh GOOJODOQ kết nối bluetooth...         950000   \n",
       "3   Tai nghe thể thao Bluetooth uốn dẻo 360 độ, hỗ...          95000   \n",
       "4   Tai nghe không dây Bluetooth 5.0 RGA Sport Hea...         126660   \n",
       "5   Tai nghe Bluetooth AMOI F9 TWS 5.0 bản QUỐC TẾ...         198000   \n",
       "6   Tai nghe bluetooth gaming S10 Pro cao cấp, cảm...         300000   \n",
       "7   Tai nghe không dây bluetooth P3 Pro chất lượng...              0   \n",
       "8   Tai nghe không dây Bluetooth 5.2 chip chuyên g...         239000   \n",
       "9   Tai Nghe Chụp Tai Bluetooth P47, Tai Không Dây...              0   \n",
       "10  Tai nghe nhét tai Disney F9 bluetooth 5.2 khôn...         390000   \n",
       "11  Tai Nghe Nkodok Bluetooth 5.2 Đeo Cổ Giảm Tiến...          62842   \n",
       "12  Tai nghe gaming bluetooth không dây TWS có mic...         330000   \n",
       "13  tai nghe bluetooth doraemon in-ear không dây â...         790000   \n",
       "14  Tai Nghe Pro 6 Tai Nghe Bluetooth Không Dây Pr...         199000   \n",
       "15  Tai nghe Bluetooth 5.0 hình tai mèo phát sáng ...              0   \n",
       "16  Tai Nghe Bluetooth Pro 4, Tai Nghe Không Dây N...              0   \n",
       "17  Tai Nghe Bluetooth Pro 6 - Tai Nghe Không Dây ...         250000   \n",
       "18               Tai nghe Bluetooth Redmi Buds 3 Lite         590000   \n",
       "19  Tai nghe ELOUGH Y50 TWS không dây bluetooth 5....         152000   \n",
       "\n",
       "   selling_price_1 selling_price_2         location  \n",
       "0            39900           45000           Hà Nội  \n",
       "1           142000               0       Nước ngoài  \n",
       "2           403000               0       Nước ngoài  \n",
       "3            95000               0  TP. Hồ Chí Minh  \n",
       "4            59530               0       Nước ngoài  \n",
       "5            99000               0           Hà Nội  \n",
       "6           169000               0           Hà Nội  \n",
       "7            99000          179000           Hà Nội  \n",
       "8           145000               0  TP. Hồ Chí Minh  \n",
       "9            58000           58500  TP. Hồ Chí Minh  \n",
       "10          208000               0       Nước ngoài  \n",
       "11           45500               0       Nước ngoài  \n",
       "12          169000               0           Hà Nội  \n",
       "13          690000               0  TP. Hồ Chí Minh  \n",
       "14           97000               0        Hải Dương  \n",
       "15          106000          268000       Nước ngoài  \n",
       "16           92000          119000           Hà Nội  \n",
       "17          119000               0           Hà Nội  \n",
       "18          390000               0       Nước ngoài  \n",
       "19           71000               0       Nước ngoài  "
      ]
     },
     "execution_count": 23,
     "metadata": {},
     "output_type": "execute_result"
    }
   ],
   "source": [
    "df_shopee_crawl.to_csv('raw.csv')\n",
    "df-sh"
   ]
  },
  {
   "cell_type": "code",
   "execution_count": null,
   "metadata": {},
   "outputs": [],
   "source": [
    "df_shopee_crawl['selling_price_1'] = pd.to_numeric(df_shopee_crawl['selling_price_1'])\n",
    "df_shopee_crawl['selling_price_2'] = pd.to_numeric(df_shopee_crawl['selling_price_2'])\n",
    "\n",
    "con = [df_shopee_crawl['selling_price_2'] == 0, df_shopee_crawl['selling_price_2'] != 0]\n",
    "val = [df_shopee_crawl['selling_price_1'] , (df_shopee_crawl['selling_price_1'] + df_shopee_crawl['selling_price_2'])/2]\n",
    "\n",
    "df_shopee_crawl['selling_price'] = np.select(con,val,0)"
   ]
  },
  {
   "cell_type": "code",
   "execution_count": null,
   "metadata": {},
   "outputs": [
    {
     "data": {
      "application/vnd.plotly.v1+json": {
       "config": {
        "plotlyServerURL": "https://plot.ly"
       },
       "data": [
        {
         "alignmentgroup": "True",
         "bingroup": "x",
         "histnorm": "probability",
         "hovertemplate": "selling_price=%{x}<br>probability=%{y}<extra></extra>",
         "legendgroup": "",
         "marker": {
          "color": "#636efa",
          "pattern": {
           "shape": ""
          }
         },
         "name": "",
         "offsetgroup": "",
         "orientation": "v",
         "showlegend": false,
         "type": "histogram",
         "x": [
          245000,
          185000,
          269000,
          312500,
          129000,
          125000,
          239000,
          269000,
          229000,
          129000,
          129000,
          269000,
          279000,
          269000,
          269000,
          129000,
          250000,
          219000,
          129000,
          299000,
          240000,
          315500,
          145000,
          239000,
          259000,
          55000,
          239000,
          450000,
          119000,
          319000,
          239900,
          239000,
          185000,
          259000,
          59000,
          232500,
          265000,
          259000,
          598000,
          81500,
          99000,
          698000,
          129000,
          498000,
          273000,
          339500,
          259000,
          223000,
          55000,
          99000,
          152500,
          242500,
          239450,
          185000,
          85000,
          229000,
          269000,
          239000,
          315500,
          129000,
          269000,
          250000,
          232500,
          265000,
          145000,
          62000,
          69750,
          131500,
          158000,
          355000,
          145000,
          180000,
          61900,
          100000,
          135000,
          160750,
          815000,
          123000,
          81000,
          49500,
          1000,
          155000,
          159000,
          329000,
          43750,
          80500,
          109000,
          165000,
          88000,
          189000,
          294000,
          84000,
          48500,
          84000,
          95000,
          55000,
          42400,
          64000,
          40175,
          660000,
          289000,
          139000,
          109000,
          144000,
          40300,
          299000,
          179000,
          299000,
          115000,
          92000,
          149000,
          108000,
          299900,
          169000,
          169000,
          259000,
          179000,
          242500,
          273000,
          223000,
          368000,
          185000,
          180000,
          325000,
          240000,
          225000,
          239000,
          349999.5,
          95000,
          125050,
          70000,
          161000,
          60950,
          165000,
          283500,
          39575,
          291500,
          315000,
          198000,
          62450,
          174500,
          290000,
          281000,
          114000,
          224000,
          73000,
          123500,
          63000,
          199000,
          119000,
          169000,
          39000,
          159000,
          159000,
          33000,
          255000,
          119000,
          1500000,
          150000,
          139000,
          268000,
          255000,
          119000,
          129000,
          264000,
          498000,
          368000,
          89500,
          269000,
          76000,
          159000,
          119000,
          149000,
          45000,
          45500,
          488000,
          165000,
          230000,
          509000,
          222500,
          101500,
          176410,
          57000,
          498000,
          265000,
          475000,
          349000,
          247500,
          239000,
          90000,
          235000,
          179000,
          169000,
          290000,
          249000,
          165000,
          314000,
          95000,
          299000,
          249000,
          249000,
          249000,
          425000,
          189000,
          99000,
          175000,
          109000,
          137000,
          259000,
          604500,
          114000,
          270000,
          224900,
          298000,
          488000,
          3590000,
          319000,
          199000,
          160000,
          300000,
          300000,
          370000,
          450000,
          369600,
          2100000,
          84500,
          96500,
          63500,
          269000,
          263000,
          18750,
          266500,
          300000,
          415000,
          228000,
          380000,
          189000,
          99000,
          280000,
          64298,
          259000,
          266500,
          288000,
          207000,
          47500,
          135000,
          359000,
          99000,
          52000,
          87500,
          249000,
          225000,
          824500,
          607000,
          282000,
          102000,
          80500,
          348000,
          159000,
          100500,
          119000,
          169000,
          300000,
          194000,
          68000,
          549000,
          189000,
          367000,
          359000,
          102000,
          107000,
          157000,
          64010,
          234000,
          152000,
          630000,
          659000,
          315000,
          119000,
          355000,
          288000,
          47500,
          135000,
          207000,
          359000,
          99000,
          52000,
          87500,
          249000,
          8900,
          225000,
          824500,
          607000,
          282000,
          8250,
          102000,
          80500,
          348000,
          159000,
          100500,
          39000,
          119000,
          300000,
          169000,
          14000,
          14000,
          194000,
          15000,
          68000,
          549000,
          367000,
          189000,
          359000,
          102000,
          157000,
          107000,
          64010,
          234000,
          42000,
          152000,
          179000,
          464000,
          75000,
          244000,
          85000,
          102900,
          135000,
          140500,
          88000,
          45000,
          747500,
          68000,
          65998,
          129000,
          259000,
          9500,
          54500,
          135000,
          110000,
          126000,
          152500,
          20000,
          88500,
          22500,
          137000,
          125000,
          94950,
          79000,
          982000,
          145000,
          155000,
          339000,
          291000,
          175000,
          88750,
          182390,
          525000,
          177000,
          74500,
          169000,
          282000,
          350000,
          125000,
          325000,
          104000,
          88000,
          235000,
          55000,
          207500,
          418000,
          27500,
          125000,
          98000,
          550000,
          109000,
          279000,
          60000,
          299000,
          129000,
          44000,
          105000,
          129000,
          64000,
          104000,
          329000,
          155000,
          152000,
          269000,
          89000,
          26641,
          68000,
          249000,
          62500,
          244000,
          299000,
          99000,
          59000,
          365805,
          415000,
          35750,
          42450,
          142000,
          403000,
          95000,
          59530,
          99000,
          169000,
          139000,
          145000,
          58250,
          208000,
          45500,
          169000,
          690000,
          97000,
          187000,
          105500,
          119000,
          390000,
          71000
         ],
         "xaxis": "x",
         "yaxis": "y"
        }
       ],
       "layout": {
        "barmode": "relative",
        "legend": {
         "tracegroupgap": 0
        },
        "margin": {
         "t": 60
        },
        "template": {
         "data": {
          "bar": [
           {
            "error_x": {
             "color": "#2a3f5f"
            },
            "error_y": {
             "color": "#2a3f5f"
            },
            "marker": {
             "line": {
              "color": "#E5ECF6",
              "width": 0.5
             },
             "pattern": {
              "fillmode": "overlay",
              "size": 10,
              "solidity": 0.2
             }
            },
            "type": "bar"
           }
          ],
          "barpolar": [
           {
            "marker": {
             "line": {
              "color": "#E5ECF6",
              "width": 0.5
             },
             "pattern": {
              "fillmode": "overlay",
              "size": 10,
              "solidity": 0.2
             }
            },
            "type": "barpolar"
           }
          ],
          "carpet": [
           {
            "aaxis": {
             "endlinecolor": "#2a3f5f",
             "gridcolor": "white",
             "linecolor": "white",
             "minorgridcolor": "white",
             "startlinecolor": "#2a3f5f"
            },
            "baxis": {
             "endlinecolor": "#2a3f5f",
             "gridcolor": "white",
             "linecolor": "white",
             "minorgridcolor": "white",
             "startlinecolor": "#2a3f5f"
            },
            "type": "carpet"
           }
          ],
          "choropleth": [
           {
            "colorbar": {
             "outlinewidth": 0,
             "ticks": ""
            },
            "type": "choropleth"
           }
          ],
          "contour": [
           {
            "colorbar": {
             "outlinewidth": 0,
             "ticks": ""
            },
            "colorscale": [
             [
              0,
              "#0d0887"
             ],
             [
              0.1111111111111111,
              "#46039f"
             ],
             [
              0.2222222222222222,
              "#7201a8"
             ],
             [
              0.3333333333333333,
              "#9c179e"
             ],
             [
              0.4444444444444444,
              "#bd3786"
             ],
             [
              0.5555555555555556,
              "#d8576b"
             ],
             [
              0.6666666666666666,
              "#ed7953"
             ],
             [
              0.7777777777777778,
              "#fb9f3a"
             ],
             [
              0.8888888888888888,
              "#fdca26"
             ],
             [
              1,
              "#f0f921"
             ]
            ],
            "type": "contour"
           }
          ],
          "contourcarpet": [
           {
            "colorbar": {
             "outlinewidth": 0,
             "ticks": ""
            },
            "type": "contourcarpet"
           }
          ],
          "heatmap": [
           {
            "colorbar": {
             "outlinewidth": 0,
             "ticks": ""
            },
            "colorscale": [
             [
              0,
              "#0d0887"
             ],
             [
              0.1111111111111111,
              "#46039f"
             ],
             [
              0.2222222222222222,
              "#7201a8"
             ],
             [
              0.3333333333333333,
              "#9c179e"
             ],
             [
              0.4444444444444444,
              "#bd3786"
             ],
             [
              0.5555555555555556,
              "#d8576b"
             ],
             [
              0.6666666666666666,
              "#ed7953"
             ],
             [
              0.7777777777777778,
              "#fb9f3a"
             ],
             [
              0.8888888888888888,
              "#fdca26"
             ],
             [
              1,
              "#f0f921"
             ]
            ],
            "type": "heatmap"
           }
          ],
          "heatmapgl": [
           {
            "colorbar": {
             "outlinewidth": 0,
             "ticks": ""
            },
            "colorscale": [
             [
              0,
              "#0d0887"
             ],
             [
              0.1111111111111111,
              "#46039f"
             ],
             [
              0.2222222222222222,
              "#7201a8"
             ],
             [
              0.3333333333333333,
              "#9c179e"
             ],
             [
              0.4444444444444444,
              "#bd3786"
             ],
             [
              0.5555555555555556,
              "#d8576b"
             ],
             [
              0.6666666666666666,
              "#ed7953"
             ],
             [
              0.7777777777777778,
              "#fb9f3a"
             ],
             [
              0.8888888888888888,
              "#fdca26"
             ],
             [
              1,
              "#f0f921"
             ]
            ],
            "type": "heatmapgl"
           }
          ],
          "histogram": [
           {
            "marker": {
             "pattern": {
              "fillmode": "overlay",
              "size": 10,
              "solidity": 0.2
             }
            },
            "type": "histogram"
           }
          ],
          "histogram2d": [
           {
            "colorbar": {
             "outlinewidth": 0,
             "ticks": ""
            },
            "colorscale": [
             [
              0,
              "#0d0887"
             ],
             [
              0.1111111111111111,
              "#46039f"
             ],
             [
              0.2222222222222222,
              "#7201a8"
             ],
             [
              0.3333333333333333,
              "#9c179e"
             ],
             [
              0.4444444444444444,
              "#bd3786"
             ],
             [
              0.5555555555555556,
              "#d8576b"
             ],
             [
              0.6666666666666666,
              "#ed7953"
             ],
             [
              0.7777777777777778,
              "#fb9f3a"
             ],
             [
              0.8888888888888888,
              "#fdca26"
             ],
             [
              1,
              "#f0f921"
             ]
            ],
            "type": "histogram2d"
           }
          ],
          "histogram2dcontour": [
           {
            "colorbar": {
             "outlinewidth": 0,
             "ticks": ""
            },
            "colorscale": [
             [
              0,
              "#0d0887"
             ],
             [
              0.1111111111111111,
              "#46039f"
             ],
             [
              0.2222222222222222,
              "#7201a8"
             ],
             [
              0.3333333333333333,
              "#9c179e"
             ],
             [
              0.4444444444444444,
              "#bd3786"
             ],
             [
              0.5555555555555556,
              "#d8576b"
             ],
             [
              0.6666666666666666,
              "#ed7953"
             ],
             [
              0.7777777777777778,
              "#fb9f3a"
             ],
             [
              0.8888888888888888,
              "#fdca26"
             ],
             [
              1,
              "#f0f921"
             ]
            ],
            "type": "histogram2dcontour"
           }
          ],
          "mesh3d": [
           {
            "colorbar": {
             "outlinewidth": 0,
             "ticks": ""
            },
            "type": "mesh3d"
           }
          ],
          "parcoords": [
           {
            "line": {
             "colorbar": {
              "outlinewidth": 0,
              "ticks": ""
             }
            },
            "type": "parcoords"
           }
          ],
          "pie": [
           {
            "automargin": true,
            "type": "pie"
           }
          ],
          "scatter": [
           {
            "fillpattern": {
             "fillmode": "overlay",
             "size": 10,
             "solidity": 0.2
            },
            "type": "scatter"
           }
          ],
          "scatter3d": [
           {
            "line": {
             "colorbar": {
              "outlinewidth": 0,
              "ticks": ""
             }
            },
            "marker": {
             "colorbar": {
              "outlinewidth": 0,
              "ticks": ""
             }
            },
            "type": "scatter3d"
           }
          ],
          "scattercarpet": [
           {
            "marker": {
             "colorbar": {
              "outlinewidth": 0,
              "ticks": ""
             }
            },
            "type": "scattercarpet"
           }
          ],
          "scattergeo": [
           {
            "marker": {
             "colorbar": {
              "outlinewidth": 0,
              "ticks": ""
             }
            },
            "type": "scattergeo"
           }
          ],
          "scattergl": [
           {
            "marker": {
             "colorbar": {
              "outlinewidth": 0,
              "ticks": ""
             }
            },
            "type": "scattergl"
           }
          ],
          "scattermapbox": [
           {
            "marker": {
             "colorbar": {
              "outlinewidth": 0,
              "ticks": ""
             }
            },
            "type": "scattermapbox"
           }
          ],
          "scatterpolar": [
           {
            "marker": {
             "colorbar": {
              "outlinewidth": 0,
              "ticks": ""
             }
            },
            "type": "scatterpolar"
           }
          ],
          "scatterpolargl": [
           {
            "marker": {
             "colorbar": {
              "outlinewidth": 0,
              "ticks": ""
             }
            },
            "type": "scatterpolargl"
           }
          ],
          "scatterternary": [
           {
            "marker": {
             "colorbar": {
              "outlinewidth": 0,
              "ticks": ""
             }
            },
            "type": "scatterternary"
           }
          ],
          "surface": [
           {
            "colorbar": {
             "outlinewidth": 0,
             "ticks": ""
            },
            "colorscale": [
             [
              0,
              "#0d0887"
             ],
             [
              0.1111111111111111,
              "#46039f"
             ],
             [
              0.2222222222222222,
              "#7201a8"
             ],
             [
              0.3333333333333333,
              "#9c179e"
             ],
             [
              0.4444444444444444,
              "#bd3786"
             ],
             [
              0.5555555555555556,
              "#d8576b"
             ],
             [
              0.6666666666666666,
              "#ed7953"
             ],
             [
              0.7777777777777778,
              "#fb9f3a"
             ],
             [
              0.8888888888888888,
              "#fdca26"
             ],
             [
              1,
              "#f0f921"
             ]
            ],
            "type": "surface"
           }
          ],
          "table": [
           {
            "cells": {
             "fill": {
              "color": "#EBF0F8"
             },
             "line": {
              "color": "white"
             }
            },
            "header": {
             "fill": {
              "color": "#C8D4E3"
             },
             "line": {
              "color": "white"
             }
            },
            "type": "table"
           }
          ]
         },
         "layout": {
          "annotationdefaults": {
           "arrowcolor": "#2a3f5f",
           "arrowhead": 0,
           "arrowwidth": 1
          },
          "autotypenumbers": "strict",
          "coloraxis": {
           "colorbar": {
            "outlinewidth": 0,
            "ticks": ""
           }
          },
          "colorscale": {
           "diverging": [
            [
             0,
             "#8e0152"
            ],
            [
             0.1,
             "#c51b7d"
            ],
            [
             0.2,
             "#de77ae"
            ],
            [
             0.3,
             "#f1b6da"
            ],
            [
             0.4,
             "#fde0ef"
            ],
            [
             0.5,
             "#f7f7f7"
            ],
            [
             0.6,
             "#e6f5d0"
            ],
            [
             0.7,
             "#b8e186"
            ],
            [
             0.8,
             "#7fbc41"
            ],
            [
             0.9,
             "#4d9221"
            ],
            [
             1,
             "#276419"
            ]
           ],
           "sequential": [
            [
             0,
             "#0d0887"
            ],
            [
             0.1111111111111111,
             "#46039f"
            ],
            [
             0.2222222222222222,
             "#7201a8"
            ],
            [
             0.3333333333333333,
             "#9c179e"
            ],
            [
             0.4444444444444444,
             "#bd3786"
            ],
            [
             0.5555555555555556,
             "#d8576b"
            ],
            [
             0.6666666666666666,
             "#ed7953"
            ],
            [
             0.7777777777777778,
             "#fb9f3a"
            ],
            [
             0.8888888888888888,
             "#fdca26"
            ],
            [
             1,
             "#f0f921"
            ]
           ],
           "sequentialminus": [
            [
             0,
             "#0d0887"
            ],
            [
             0.1111111111111111,
             "#46039f"
            ],
            [
             0.2222222222222222,
             "#7201a8"
            ],
            [
             0.3333333333333333,
             "#9c179e"
            ],
            [
             0.4444444444444444,
             "#bd3786"
            ],
            [
             0.5555555555555556,
             "#d8576b"
            ],
            [
             0.6666666666666666,
             "#ed7953"
            ],
            [
             0.7777777777777778,
             "#fb9f3a"
            ],
            [
             0.8888888888888888,
             "#fdca26"
            ],
            [
             1,
             "#f0f921"
            ]
           ]
          },
          "colorway": [
           "#636efa",
           "#EF553B",
           "#00cc96",
           "#ab63fa",
           "#FFA15A",
           "#19d3f3",
           "#FF6692",
           "#B6E880",
           "#FF97FF",
           "#FECB52"
          ],
          "font": {
           "color": "#2a3f5f"
          },
          "geo": {
           "bgcolor": "white",
           "lakecolor": "white",
           "landcolor": "#E5ECF6",
           "showlakes": true,
           "showland": true,
           "subunitcolor": "white"
          },
          "hoverlabel": {
           "align": "left"
          },
          "hovermode": "closest",
          "mapbox": {
           "style": "light"
          },
          "paper_bgcolor": "white",
          "plot_bgcolor": "#E5ECF6",
          "polar": {
           "angularaxis": {
            "gridcolor": "white",
            "linecolor": "white",
            "ticks": ""
           },
           "bgcolor": "#E5ECF6",
           "radialaxis": {
            "gridcolor": "white",
            "linecolor": "white",
            "ticks": ""
           }
          },
          "scene": {
           "xaxis": {
            "backgroundcolor": "#E5ECF6",
            "gridcolor": "white",
            "gridwidth": 2,
            "linecolor": "white",
            "showbackground": true,
            "ticks": "",
            "zerolinecolor": "white"
           },
           "yaxis": {
            "backgroundcolor": "#E5ECF6",
            "gridcolor": "white",
            "gridwidth": 2,
            "linecolor": "white",
            "showbackground": true,
            "ticks": "",
            "zerolinecolor": "white"
           },
           "zaxis": {
            "backgroundcolor": "#E5ECF6",
            "gridcolor": "white",
            "gridwidth": 2,
            "linecolor": "white",
            "showbackground": true,
            "ticks": "",
            "zerolinecolor": "white"
           }
          },
          "shapedefaults": {
           "line": {
            "color": "#2a3f5f"
           }
          },
          "ternary": {
           "aaxis": {
            "gridcolor": "white",
            "linecolor": "white",
            "ticks": ""
           },
           "baxis": {
            "gridcolor": "white",
            "linecolor": "white",
            "ticks": ""
           },
           "bgcolor": "#E5ECF6",
           "caxis": {
            "gridcolor": "white",
            "linecolor": "white",
            "ticks": ""
           }
          },
          "title": {
           "x": 0.05
          },
          "xaxis": {
           "automargin": true,
           "gridcolor": "white",
           "linecolor": "white",
           "ticks": "",
           "title": {
            "standoff": 15
           },
           "zerolinecolor": "white",
           "zerolinewidth": 2
          },
          "yaxis": {
           "automargin": true,
           "gridcolor": "white",
           "linecolor": "white",
           "ticks": "",
           "title": {
            "standoff": 15
           },
           "zerolinecolor": "white",
           "zerolinewidth": 2
          }
         }
        },
        "xaxis": {
         "anchor": "y",
         "domain": [
          0,
          1
         ],
         "title": {
          "text": "selling_price"
         }
        },
        "yaxis": {
         "anchor": "x",
         "domain": [
          0,
          1
         ],
         "title": {
          "text": "probability"
         }
        }
       }
      }
     },
     "metadata": {},
     "output_type": "display_data"
    }
   ],
   "source": [
    "fig = px.histogram(df_shopee_crawl, x='selling_price', histnorm='probability')\n",
    "fig.show()"
   ]
  },
  {
   "cell_type": "code",
   "execution_count": null,
   "metadata": {},
   "outputs": [],
   "source": [
    "df_filter = df_shopee_crawl[(df_shopee_crawl['location'] == 'Hà Nội') | (df_shopee_crawl['location'] == 'TP. Hồ Chí Minh') |(df_shopee_crawl['location'] == 'Nước ngoài') ]"
   ]
  },
  {
   "cell_type": "code",
   "execution_count": null,
   "metadata": {},
   "outputs": [
    {
     "data": {
      "application/vnd.plotly.v1+json": {
       "config": {
        "plotlyServerURL": "https://plot.ly"
       },
       "data": [
        {
         "alignmentgroup": "True",
         "bingroup": "x",
         "hovertemplate": "location=Hà Nội<br>selling_price=%{x}<br>count=%{y}<extra></extra>",
         "legendgroup": "",
         "marker": {
          "color": "#636efa",
          "pattern": {
           "shape": ""
          }
         },
         "name": "",
         "offsetgroup": "",
         "orientation": "v",
         "showlegend": false,
         "type": "histogram",
         "x": [
          245000,
          185000,
          269000,
          312500,
          129000,
          239000,
          269000,
          229000,
          129000,
          129000,
          269000,
          279000,
          269000,
          269000,
          129000,
          219000,
          129000,
          299000,
          240000,
          315500,
          239000,
          239000,
          450000,
          239000,
          185000,
          259000,
          59000,
          259000,
          598000,
          81500,
          698000,
          129000,
          498000,
          273000,
          339500,
          55000,
          99000,
          242500,
          185000,
          229000,
          269000,
          239000,
          315500,
          129000,
          269000,
          131500,
          158000,
          355000,
          100000,
          160750,
          123000,
          1000,
          155000,
          80500,
          109000,
          165000,
          84000,
          48500,
          84000,
          95000,
          64000,
          660000,
          139000,
          109000,
          144000,
          169000,
          259000,
          179000,
          242500,
          273000,
          185000,
          325000,
          240000,
          225000,
          239000,
          95000,
          161000,
          165000,
          283500,
          291500,
          315000,
          198000,
          290000,
          281000,
          114000,
          63000,
          199000,
          169000,
          159000,
          159000,
          119000,
          1500000,
          150000,
          139000,
          268000,
          255000,
          129000,
          498000,
          269000,
          119000,
          149000,
          488000,
          165000,
          230000,
          222500,
          176410,
          498000,
          475000,
          349000,
          239000,
          90000,
          169000,
          290000,
          249000,
          314000,
          249000,
          425000,
          99000,
          137000,
          259000,
          604500,
          270000,
          298000,
          488000,
          319000,
          160000,
          370000,
          450000,
          84500,
          63500,
          266500,
          300000,
          415000,
          380000,
          189000,
          99000,
          280000,
          259000,
          266500,
          288000,
          207000,
          47500,
          249000,
          225000,
          824500,
          607000,
          282000,
          348000,
          159000,
          119000,
          300000,
          194000,
          359000,
          157000,
          234000,
          315000,
          119000,
          355000,
          288000,
          47500,
          207000,
          249000,
          225000,
          824500,
          607000,
          282000,
          8250,
          348000,
          159000,
          39000,
          119000,
          300000,
          14000,
          14000,
          194000,
          359000,
          157000,
          234000,
          179000,
          244000,
          135000,
          45000,
          747500,
          68000,
          129000,
          54500,
          135000,
          126000,
          88500,
          79000,
          982000,
          291000,
          525000,
          74500,
          350000,
          325000,
          104000,
          235000,
          27500,
          550000,
          109000,
          60000,
          299000,
          129000,
          105000,
          129000,
          329000,
          152000,
          269000,
          249000,
          62500,
          244000,
          299000,
          99000,
          59000,
          365805,
          415000,
          42450,
          99000,
          169000,
          139000,
          169000,
          105500,
          119000
         ],
         "xaxis": "x",
         "yaxis": "y"
        },
        {
         "alignmentgroup": "True",
         "customdata": [
          [
           "Tai Nghe Bluetooth EP2 Cao Cấp Định Vị Đổi Tên Tai Nghe Không Dây Tự Động Kết Nối Chạm Cảm Ứng,Dùng Cho Các Máy Điện Th",
           "299000",
           245000,
           0,
           "Hà Nội"
          ],
          [
           "Tai Nghe Bluetooth M10 Pro, Tai Nghe Không Dây M10 Pro Phiên Bản Nâng Cấp Pin Trâu, Nút Cảm Ứng Tự Động Kết Nối",
           "299000",
           185000,
           0,
           "Hà Nội"
          ],
          [
           "Tai Nghe Bluetooth PRO- Không Dây Bản Cao Cấp Định Vị, Đổi Tên,Cảm Ứng Dùng Cho Tất Cả Các Máy Điện Thoại",
           "355000",
           269000,
           0,
           "Hà Nội"
          ],
          [
           "Tai Nghe Bluetooth không dây AP3 Cảm Biến Đa Điểm Không Dây 5.0 Định Vị - Đổi Tên - Sạc Không Dây",
           "0",
           293000,
           332000,
           "Hà Nội"
          ],
          [
           "Tai Nghe Bluetooth i12 - Bản Mới Nhất Không Dây Tự Động Kết Nối Đầy Đủ Tính Năng Âm Thanh Chuẩn",
           "200000",
           129000,
           0,
           "Hà Nội"
          ],
          [
           "Tai nghe bluetooth HD2 - Tai nghe không dây Full Chức Năng, Đổi Tên, Định Vị, Pin Trâu dùng cho mọi dòng máy",
           "330000",
           239000,
           0,
           "Hà Nội"
          ],
          [
           "Tai Nghe Bluetooth PRO- Không Dây Bản Cao Cấp Định Vị, Đổi Tên,Cảm Ứng Dùng Cho Tất Cả Các Máy Điện Thoại",
           "355000",
           269000,
           0,
           "Hà Nội"
          ],
          [
           "Tai Nghe Bluetooth Không Dây AQ2 - Tai Nghe Không Dây Bản Cao Cấp Nhất, Nghe Gọi Cực Đỉnh, Có Mic, Đổi Tên-Định Vị .",
           "329000",
           229000,
           0,
           "Hà Nội"
          ],
          [
           "Tai Nghe Bluetooth i12 TQS - Không Dây Cảm Ứng Cực Nhạy Đầy đủ Tính Năng Âm Thanh Chuẩn.",
           "225000",
           129000,
           0,
           "Hà Nội"
          ],
          [
           "Tai Nghe Bluetooth i12 - Bản Mới Nhất Không Dây Tự Động Kết Nối Đầy Đủ Tính Năng Âm Thanh Chuẩn",
           "200000",
           129000,
           0,
           "Hà Nội"
          ],
          [
           "Tai Nghe Bluetooth PRO Bản Cao Cấp Định Vị Đổi Tên Tai Nghe Không Dây Tự Động Kết Nối Dùng Cho IOS Và Android",
           "390000",
           269000,
           0,
           "Hà Nội"
          ],
          [
           "Tai nghe Bluetooth không dây Pr0 đời mới Âm thanh hay- Cảm ứng - đổi tên cao cấp dùng cho các dòng điện thoại",
           "370000",
           279000,
           0,
           "Hà Nội"
          ],
          [
           "Tai Nghe Bluetooth AP2 TWS Không Dây Bản Quốc Tế Định Vị Đổi Tên Tự Động Kết Nối Chạm Cảm Ứng Dùng Cho ĐT",
           "400000",
           269000,
           0,
           "Hà Nội"
          ],
          [
           "Tai Nghe Bluetooth PRO - Bản Cao Cấp Định Vị Đổi Tên Tai Nghe Không Dây,Cảm Ứng Dùng Cho Tất Cả Các Máy Điện Thoại",
           "480000",
           269000,
           0,
           "Hà Nội"
          ],
          [
           "Tai nghe bluetooth l12 TWS 5.0 tai nghe l12 không dây âm thanh chuẩn HIFI chạm cảm ứng có mic dùng cho mọi điện thoại",
           "189000",
           129000,
           0,
           "Hà Nội"
          ],
          [
           "Tai nghe Bluetooth không dâyAleister A68 chống ồn định vị đổi tên chơi game thể thao,tích hợp míc lọc âm khi đàm thoại",
           "0",
           209000,
           229000,
           "Hà Nội"
          ],
          [
           "Tai nghe bluetooth l12 TWS 5.0 tai nghe l12 không dây âm thanh chuẩn HIFI chạm cảm ứng có mic dùng cho IOS và Android",
           "170000",
           129000,
           0,
           "Hà Nội"
          ],
          [
           "Tai Nghe Bluetooth không dây AP3 Cảm Biến Đa Điểm Không Dây 5.0 Định Vị - Đổi Tên - Sạc Không Dây",
           "400000",
           299000,
           0,
           "Hà Nội"
          ],
          [
           "Tai nghe bluetooth EP2, Tai nghe không dây Full Chức Năng, Đổi Tên, Định Vị, Pin Trâu dùng cho mọi dòng máy",
           "0",
           235000,
           245000,
           "Hà Nội"
          ],
          [
           "Tai Nghe Bluetooth không dây P3 Cảm Biến Đa Điểm Không Dây 5.0 Định Vị - Đổi Tên - Sạc Không Dây",
           "0",
           299000,
           332000,
           "Hà Nội"
          ],
          [
           "Tai Nghe Bluetooth Q2 Cao Cấp Định Vị Đổi Tên Tai Nghe Không Dây Tự Động Kết Nối Chạm Cảm Ứng Dùng Cho IOS Và Android",
           "340000",
           239000,
           0,
           "Hà Nội"
          ],
          [
           "Tai Nghe Bluetooth AP2 Cao Cấp Định Vị Đổi Tên Tai Nghe Không Dây Tự Động Kết Nối Chạm Cảm Ứng Dùng Cho IOS Và Android",
           "350000",
           239000,
           0,
           "Hà Nội"
          ],
          [
           "Tai nghe bluetooth AlP3 Tai nghe không dây Pin Trâu 4-6h, định vị, đổi tên Dành cho các dòng ĐT và PC, BẢO HÀNH 6 THÁNG",
           "450000",
           450000,
           0,
           "Hà Nội"
          ],
          [
           "Tai Nghe Bluetooth AP2 Cao Cấp Định Vị Đổi Tên Tai Nghe Không Dây Tự Động Kết Nối Chạm Cảm Ứng Dùng Cho IOS Và Android",
           "350000",
           239000,
           0,
           "Hà Nội"
          ],
          [
           "Tai Nghe Bluetooth M10 Pro, Tai Nghe Không Dây M10 Pro Phiên Bản Nâng Cấp Pin Trâu, Nút Cảm Ứng Tự Động Kết Nối",
           "299000",
           185000,
           0,
           "Hà Nội"
          ],
          [
           "Tai Nghe Bluetooth không dây AP3 Cảm Biến Đa Điểm Không Dây 5.0 Định Vị - Đổi Tên - Sạc Không Dây",
           "380000",
           259000,
           0,
           "Hà Nội"
          ],
          [
           "Tai Nghe i12 TWS Bluetooth 5.0 Chính Hãng Nghe Nhạc Không Dây Kết Nối Thiệt Bị Nhanh Dễ Sử Dụng",
           "100000",
           59000,
           0,
           "Hà Nội"
          ],
          [
           "Tai nghe bluetooth EPR, Tai nghe không dây Full Chức Năng, Đổi Tên, Định Vị,Chống Ồn Pin Trâu Dùng Cho Mọi Dòng Máy",
           "350000",
           259000,
           0,
           "Hà Nội"
          ],
          [
           "Tai Nghe Bluetooth R2 - Bản Cao Cấp Nhất - Đầy Đủ Tất Cả Các Chức Năng - Có Micro - Sạc Không Dây - Tặng Vỏ Silicon",
           "800000",
           598000,
           0,
           "Hà Nội"
          ],
          [
           "Combo tai nghe bluetooth không dây i12 kèm vỏ bảo vệ bao đựng case tws v5.0 nút cảm ứng âm thanh HIFI có mic đàm thoại",
           "0",
           64000,
           99000,
           "Hà Nội"
          ],
          [
           "Tai Nghe Bluetooth R PRO - Chống Ồn ANC Cao Cấp Nhất - Đầy Đủ Các Chức Năng - Sạc Không Dây - Tặng Ốp Silicon Bảo Vệ",
           "900000",
           698000,
           0,
           "Hà Nội"
          ],
          [
           "Tai Nghe Bluetooth i12 TWS 5.0 Không Dây Cảm Ứng Cực Nhạy Tăng Chỉnh Âm Lượng 1 Đổi 1 Trong 30 Ngày",
           "200000",
           129000,
           0,
           "Hà Nội"
          ],
          [
           "Tai Nghe Bluetooth R3 - Bản Cao Cấp Nhất - Đầy Đủ Tất Cả Các Chức Năng - Có Micro - Sạc Không Dây - Tặng Vỏ Silicon",
           "700000",
           498000,
           0,
           "Hà Nội"
          ],
          [
           "Tai Nghe Bluetooth không dây AP3 Cảm Biến Đa Điểm Không Dây 5.0 Định Vị - Đổi Tên - Sạc Không Dây",
           "500000",
           273000,
           0,
           "Hà Nội"
          ],
          [
           "Tai nghe bluetooth không dây True WireLess Thế Hệ 3, Pro - Tai Nghe Không Dây Thể Thao TWS Chơi Game Có Mic",
           "0",
           310000,
           369000,
           "Hà Nội"
          ],
          [
           "Tai Nghe Bluetooth TWS, Tai Nghe I12 Cảm Ứng Âm Thanh Có Mic Đàm Thoại Bảo Hành 6 Tháng 1 Đổi 1",
           "100000",
           55000,
           0,
           "Hà Nội"
          ],
          [
           "Tai nghe không dây Bluetooth TWS AMoi F9 Pro - Chống nước IP67 - Pin 2000maH - Dùng 600 tiếng",
           "200000",
           99000,
           0,
           "Hà Nội"
          ],
          [
           "Tai Nghe Bluetooth EP2 Cao Cấp Định Vị Đổi Tên Tai Nghe Không Dây Tự Động Kết Nối - Dùng Cho IOS Và Android",
           "0",
           235000,
           250000,
           "Hà Nội"
          ],
          [
           "Tai Nghe Bluetooth M10 Pro Tai Nghe Không M10 Pro Phiên Bản Nâng Cấp Pin Trâu, Nút Cảm Ứng Tự Động Kết Nối",
           "299000",
           185000,
           0,
           "Hà Nội"
          ],
          [
           "Tai Nghe Bluetooth Không Dây AQ2 - Tai Nghe Không Dây Bản Cao Cấp Nhất, Nghe Gọi Cực Đỉnh, Có Mic, Đổi Tên-Định Vị .",
           "329000",
           229000,
           0,
           "Hà Nội"
          ],
          [
           "Tai Nghe Bluetooth PRO Bản Cao Cấp Định Vị Đổi Tên Tai Nghe Không Dây Tự Động Kết Nối Dùng Cho IOS Và Android",
           "390000",
           269000,
           0,
           "Hà Nội"
          ],
          [
           "Tai nghe bluetooth HD2 - Tai nghe không dây Full Chức Năng, Đổi Tên, Định Vị, Pin Trâu dùng cho mọi dòng máy",
           "330000",
           239000,
           0,
           "Hà Nội"
          ],
          [
           "Tai Nghe Bluetooth không dây P3 Cảm Biến Đa Điểm Không Dây 5.0 Định Vị - Đổi Tên - Sạc Không Dây",
           "0",
           299000,
           332000,
           "Hà Nội"
          ],
          [
           "Tai Nghe Bluetooth i12 TQS - Không Dây Cảm Ứng Cực Nhạy Đầy đủ Tính Năng Âm Thanh Chuẩn.",
           "225000",
           129000,
           0,
           "Hà Nội"
          ],
          [
           "Tai Nghe Bluetooth PRO - Bản Cao Cấp Định Vị Đổi Tên Tai Nghe Không Dây,Cảm Ứng Dùng Cho Tất Cả Các Máy Điện Thoại",
           "480000",
           269000,
           0,
           "Hà Nội"
          ],
          [
           "Tai nghe chụp tai không dây bluetooth STN28 màu sắc cute,âm thanh ấm bass mạnh- Phụ Kiện 123",
           "0",
           76000,
           187000,
           "Hà Nội"
          ],
          [
           "Tai nghe bluetooth gaming S10 Pro cao cấp, cảm ứng, hỗ trợ đàm thoại, nghe nhạc, kiêm sạc dự phòng",
           "300000",
           158000,
           0,
           "Hà Nội"
          ],
          [
           "Tai Nghe Bluetooth A3 - Chính Hãng NEXTAGE - Âm Thanh Không Gian - Cảm Biến Đa Điểm - Định Vị - Đổi Tên - Sạc Không Dây",
           "585000",
           355000,
           0,
           "Hà Nội"
          ],
          [
           "Tai nghe Không dây Amoi F9 / F9 pro - Bluetooth 5.3 - Pin 280 giờ - Chống nước IPX7",
           "0",
           99000,
           101000,
           "Hà Nội"
          ],
          [
           "Tai Nghe Mèo Bluetooth P47M, chụp Tai STN28, Tai Mèo Dễ Thương Có Mic, Âm Bass Mạnh Mẽ Nghe Nhạc, Chơi Game Cực Hay",
           "0",
           147000,
           174500,
           "Hà Nội"
          ],
          [
           "Tai nghe bluetooth l12 TWS 5.0 tai nghe l12 không dây âm thanh chuẩn HIFI chạm cảm ứng có mic dùng cho IOS và Android",
           "190000",
           123000,
           0,
           "Hà Nội"
          ],
          [
           "Tai Nghe Bluetooth không dây AP 3 Cảm Biến Đa Điểm Không Dây 5.0 Định Vị - Đổi Tên - Đầy đủ chức năng ( Bảo hành 6th )",
           "1000",
           1000,
           0,
           "Hà Nội"
          ],
          [
           "Tai Nghe Bluetooth M19 Pin 5h (Tặng găng tay) Chống Nước IPX7 Cảm Ứng Nghe Gọi Chống Ồn Tốt Bass Mạnh ( BH 3 Tháng)",
           "275000",
           155000,
           0,
           "Hà Nội"
          ],
          [
           "Tai nghe bluetooth không dây Gutek inpods i12 v5.0 nút cảm ứng âm thanh HiFi",
           "0",
           72000,
           89000,
           "Hà Nội"
          ],
          [
           "Tai nghe bluetooth tws Inp12/l12 không dây mini kèm vỏ case cute âm thanh hifi cảm ứng thông minh- LinkeeTech",
           "0",
           89000,
           129000,
           "Hà Nội"
          ],
          [
           "Tai nghe bluetooth M90 Pro cảm ứng, màn hình led, chống nước, có mic đàm thoại, nghe nhạc, kiêm sạc dự phòng",
           "279000",
           165000,
           0,
           "Hà Nội"
          ],
          [
           "Tai Nghe Bluetooth Không Dây i12 inpods12 TWS 5.0 Âm Thanh HIFI, Cửa Sổ Tự Động Kết Nối, Hỗ Trợ Nhiều Dòng Máy",
           "0",
           69000,
           99000,
           "Hà Nội"
          ],
          [
           "Tai Nghe Mèo Bluetooth P47M MZ47 Tai Mèo Dễ Thương Có Mic, Âm Bass Mạnh Mẽ Nghe Nhạc Cực Hay FullBox",
           "0",
           25000,
           72000,
           "Hà Nội"
          ],
          [
           "Tai nghe bluetooth l12 TWS 5.0 tai nghe không dây âm thanh chuẩn HIFI chạm cảm ứng có mic dùng cho IOS và Android",
           "0",
           69000,
           99000,
           "Hà Nội"
          ],
          [
           "Tai nghe Bluetooth AMOI F9 TWS 5.0 bản QUỐC TẾ không dây cảm ứng chống nước IPX5, chống ồn tích hợp sạc dự phòng 2500mAh",
           "180000",
           95000,
           0,
           "Hà Nội"
          ],
          [
           "Tai Nghe Chụp Tai Bluetooth P47 - P47M Tai Mèo - Có Khe Cắm Thẻ Nhớ - Có Mic",
           "0",
           63000,
           65000,
           "Hà Nội"
          ],
          [
           "Tai Nghe Bluetooth Không Dây, REPI PRO, Cao Cấp Nhất, Đầy Đủ Các Chức Năng, Sạc Không Dây, Tai Nghe REPI PRO",
           "0",
           635000,
           685000,
           "Hà Nội"
          ],
          [
           "Tai Nghe Bluetooth M10 Pro Tai Nghe Không M10 Pro Phiên Bản Nâng Cấp Pin Trâu, Nút Cảm Ứng Tự Động Kết Nối",
           "250000",
           139000,
           0,
           "Hà Nội"
          ],
          [
           "Tai Nghe Bluetooth F9 Pro Cảm Ứng Thông Minh Playtime Đến 22H Chống Nước Hàng Chính Hãng",
           "179000",
           109000,
           0,
           "Hà Nội"
          ],
          [
           "Tai nghe bluetooth F9 Plus TWS 5.0 bản Quốc tế không dây cảm ứng chống nước IPX5, chống ồn tích hợp sạc dự phòng 3500mAh",
           "0",
           109000,
           179000,
           "Hà Nội"
          ],
          [
           "TWS Pro 4 Tai Nghe Nhét Tai Không Dây Bluetooth Có Bass Mic Hộp Sạc Tai Nghe Bluetooth 5.0 Cho Hầu Hết Điện Thoại",
           "195000",
           169000,
           0,
           "Hà Nội"
          ],
          [
           "Tai nghe bluetooth EPR, Tai nghe không dây Full Chức Năng, Đổi Tên, Định Vị,Chống Ồn Pin Trâu Dùng Cho Mọi Dòng Máy",
           "350000",
           259000,
           0,
           "Hà Nội"
          ],
          [
           "Tai nghe bluetooth M19,Tai nghe không dây nhét tai ,Độ Trễ Thấp,Chống Ồn,chống nước, Âm Thanh Hay,Pin 6-8h",
           "299000",
           179000,
           0,
           "Hà Nội"
          ],
          [
           "Tai Nghe Bluetooth EP2 Cao Cấp Định Vị Đổi Tên Tai Nghe Không Dây Tự Động Kết Nối - Dùng Cho IOS Và Android",
           "0",
           235000,
           250000,
           "Hà Nội"
          ],
          [
           "Tai Nghe Bluetooth không dây AP3 Cảm Biến Đa Điểm Không Dây 5.0 Định Vị - Đổi Tên - Sạc Không Dây",
           "500000",
           273000,
           0,
           "Hà Nội"
          ],
          [
           "Tai Nghe Bluetooth M10 Pro Tai Nghe Không M10 Pro Phiên Bản Nâng Cấp Pin Trâu, Nút Cảm Ứng Tự Động Kết Nối",
           "299000",
           185000,
           0,
           "Hà Nội"
          ],
          [
           "Tai Nghe Bluetooth AP Pro - Chính Hãng NEXTAGE - Pin 5h Định Vị -Đổi Tên - Chống Ồn - Xuyên Âm - Âm Thanh Không Gian",
           "565000",
           325000,
           0,
           "Hà Nội"
          ],
          [
           "Tai nghe bluetooth EP2, Tai nghe không dây Full Chức Năng, Đổi Tên, Định Vị, Pin Trâu dùng cho mọi dòng máy",
           "0",
           235000,
           245000,
           "Hà Nội"
          ],
          [
           "Tai Nghe Bluetooth EP2 cao cấp, Tai Nghe không dây Full chức năng, Định Vị, Đổi Tên, Pin Trâu, Dùng cho mọi dòng máy",
           "369000",
           225000,
           0,
           "Hà Nội"
          ],
          [
           "Tai Nghe Bluetooth P2 Cao Cấp Định Vị Đổi Tên Tai Nghe Không Dây Tự Động Kết Nối Chạm Cảm Ứng Dùng Cho IOS Và Android",
           "350000",
           239000,
           0,
           "Hà Nội"
          ],
          [
           "Tai Nghe Bluetooth Amoi F9 Pro Bản Quốc Tế Cao Cấp, Cảm Biến Vân Tay, Kiêm Sạc Dự Phòng",
           "119000",
           95000,
           0,
           "Hà Nội"
          ],
          [
           "Tai nghe IP 7 Hoco L7,chân cắm cáp sạc dẹt hỗ trợ mic đàm thoại dành cho IP 7,8,X,11,12,13 tự động kết nối bluetooth",
           "259000",
           161000,
           0,
           "Hà Nội"
          ],
          [
           "Tai nghe bluetooth AMOI F9 TWS 5.0 bản Quốc tế không dây cảm ứng chống nước IPX5, chống ồn tích hợp sạc dự",
           "300000",
           165000,
           0,
           "Hà Nội"
          ],
          [
           "Tai Nghe Bluetooth 5.0 Baseus WM02 / Baseus WM01 / Baseus w3 / Baseus W12 TWS Chống Ồn - Hshop365",
           "0",
           248000,
           319000,
           "Hà Nội"
          ],
          [
           "Tai nghe Không Dây Baseus Bowie WM01/WM02 TWS Bluetooth 5.3 Điều Khiển Cảm Ứng Loại Bỏ Tiếng Ồn Tai Nghe Chơi Game",
           "0",
           268000,
           315000,
           "Hà Nội"
          ],
          [
           "Tai Nghe Bluetooth A2 Bản Cao Cấp - Đầy Đủ Chức Năng - Định Vị - Có Mic - Đổi Tên - Cảm Biến Đa Điểm -Chính Hãng NEXTAGE",
           "399000",
           315000,
           0,
           "Hà Nội"
          ],
          [
           "Tai nghe Bluetooth Mini xiaomi True Wireless chính hãng BH-12T free ship toàn quốc",
           "198000",
           198000,
           0,
           "Hà Nội"
          ],
          [
           "Tai Nghe Bluetooth Không Dây A3 Pro - Vi Trình 4B - Âm Thanh Vòm - Cảm Biến Đa Điểm - Định Vị - Đổi Tên - Sạc Không Dây",
           "390000",
           290000,
           0,
           "Hà Nội"
          ],
          [
           "Tai Nghe Nhét Tai Không Dây Baseus Bowie WM02 Bluetooth 5.3 TWS/ Baseus WM01 TWS Chống Ồn Bluetooth 5.0",
           "0",
           248000,
           314000,
           "Hà Nội"
          ],
          [
           "Tai Nghe Bluetooth Không Dây True Wireless F9 PRO Bluetooth 5.0 Bản Quốc Tế Cảm Ứng Chống Nước",
           "0",
           99000,
           129000,
           "Hà Nội"
          ],
          [
           "Tai nghe bluetooth không dây TWS cảm ứng điều khiển cảm biến âm thanh HIFI cho tất cả điện thoại",
           "0",
           58000,
           68000,
           "Hà Nội"
          ],
          [
           "Tai nghe bluetooth không dây chụp tai Air Max P9 Chống Ồn – Kết Nối Với Tất Cả Các Hệ Điều Hành Androi và IOS - BH 1 năm",
           "200000",
           199000,
           0,
           "Hà Nội"
          ],
          [
           "Tai Nghe Bluetooth AMOI F9 TWS 5.0 Không Dây Cao Cấp Chạm Cảm Ứng Pin 2500mAh Chống Nước IPX5 Dùng Cho IOS Và Android",
           "300000",
           169000,
           0,
           "Hà Nội"
          ],
          [
           "Tai Nghe Nhét Tai Không Dây M21 Bluetooth 5.3 TWS Chống Ồn Cảm Ứng Dùng Cho IOS Android- LinkeeTech",
           "300000",
           159000,
           0,
           "Hà Nội"
          ],
          [
           "Tai Nghe Gaming Apro366 Tws Bluetooth 5.0 - Không Dây Có Mic Với Độ Trễ Thấp - Chính Hãng HD DESIGN",
           "250000",
           159000,
           0,
           "Hà Nội"
          ],
          [
           "Tai nghe bluetooth 5.0 True Wireless Amoi F9 Pro bản quốc tế cao cấp cảm biến vân tay , kiêm sạc dự phòng",
           "150000",
           119000,
           0,
           "Hà Nội"
          ],
          [
           "Tai nghe Bluetooth Velasboost MAY 2 TWS QCC 3040 Aptx Qualcomm Nhỏ Gọn Pin Trâu dùng cho IOS và Androi",
           "1500000",
           1500000,
           0,
           "Hà Nội"
          ],
          [
           "Tai nghe bluetooth amoi F9 không dây true wireless blutooth TWS",
           "250000",
           150000,
           0,
           "Hà Nội"
          ],
          [
           "Tai Nghe Bluetooth l12 Tai nghe không dây l12 âm thanh chuẩn HIFI chạm cảm ứng có mic dùng cho IOS và Android",
           "185000",
           139000,
           0,
           "Hà Nội"
          ],
          [
           "Tai nghe bluetooth AP3- Sạc không dây- Cảm Biến Đa Điểm- Pin trâu- Định Vị - Đổi Tên",
           "298000",
           268000,
           0,
           "Hà Nội"
          ],
          [
           "Tai Nghe Bluetooth P2 Cao Cấp Định Vị Đổi Tên Tai Nghe Không Dây Tự Động Kết Nối - Dùng Cho IOS Và Android",
           "0",
           235000,
           275000,
           "Hà Nội"
          ],
          [
           "Tai nghe Bluetooth i12 TWS 5.0 tai nghe i12 không dây bản Quốc tế âm thanh chuẩn HIFI dùng cho IOS Android",
           "179000",
           129000,
           0,
           "Hà Nội"
          ],
          [
           "Tai Nghe Bluetooth Buds 2 Cao Cấp Phiên Bản Mới Sạc Không Dây Âm Thanh Tuyệt Đỉnh - BẢO HÀNH ĐỔI MỚI",
           "665000",
           498000,
           0,
           "Hà Nội"
          ],
          [
           "Tai Nghe Bluetooth QP2 TWS Không Dây Bản Quốc Tế Định Vị Đổi Tên Tự Động Kết Nối Chạm Cảm Ứng Dùng Cho ĐT",
           "400000",
           269000,
           0,
           "Hà Nội"
          ],
          [
           "Tai Nghe Bluetooth PULIERDE Y08 Chip 5.2 TOPSTORE ,Tai Nghe Chụp Tai Âm Thanh HiFi Có Mic,Chống Ồn Hiệu Quả",
           "0",
           79000,
           159000,
           "Hà Nội"
          ],
          [
           "Tai nghe bluetooth chụp tai Led B39 - bluetooth 5.0 tặng kèm jack cắm PC",
           "200000",
           149000,
           0,
           "Hà Nội"
          ],
          [
           "Tai Nghe Bluetooth Buds Live Cao Cấp / Tai Nghe Galaxy Buds Live Hạt Đậu Âm Thanh Tuyệt Đỉnh - BẢO HÀNH ĐỔI MỚI",
           "638000",
           488000,
           0,
           "Hà Nội"
          ],
          [
           "Tai nghe bluetooth F9 TWS 5.0 bản Quốc tế không dây cảm ứng chống nước IPX5, chống ồn tích hợp sạc dự phòng 2500mAh",
           "300000",
           165000,
           0,
           "Hà Nội"
          ],
          [
           "Tai nghe bluetooth không dây JBL Tune 220 TWS, Tai Nghe nhét tai bản Quốc Tế đỉnh cao chống ồn dùng cho IOS Và Android",
           "450000",
           230000,
           0,
           "Hà Nội"
          ],
          [
           "Tai nghe Bluetooth nhét tai không dây AP2 thế hệ 2 âm trong bass mạnh kết nối TWS 5.1 định vị đổi tên BH 6 tháng",
           "0",
           190000,
           255000,
           "Hà Nội"
          ],
          [
           "Tai nghe bluetooth M90 pro, Tai nghe không dây Gaming M90 pro 5.2 Âm bass cực to Chống ồn Chống nước",
           "299000",
           176410,
           0,
           "Hà Nội"
          ],
          [
           "{ BẢN 2022 }Tai Nghe Bluetooth Không Dây Galaxy Buds Pro, Sạc Không Dây, Âm Thanh Tuyệt Đỉnh - BẢO HÀNH ĐỔI MỚI",
           "669000",
           498000,
           0,
           "Hà Nội"
          ],
          [
           "Tai nghe Blutooth nhét tai HOCO.EW23 TWS bluetooth 5.3 điều khiển cảm ứng kèm micro-BẢO HÀNH CHÍNH HÃNG",
           "568000",
           475000,
           0,
           "Hà Nội"
          ],
          [
           "[Mã ELMALL5 giảm 5% đơn 300K] Tai nghe bluetooth Beartek Bearpods B68 có đổi tên, chạm cảm ứng, bass mạnh",
           "598000",
           349000,
           0,
           "Hà Nội"
          ],
          [
           "Tai nghe bluetooth không dây Gutek J18 tws 5.2 IPX5 chạm cảm ứng bass mạnh có mic đàm thoại",
           "390000",
           239000,
           0,
           "Hà Nội"
          ],
          [
           "Tai nghe bluetooth f9 ,i12 ,pro4,... tất cả các bản pin trâu âm thanh HD kết nối nhanh với tất cả các dòng máy",
           "0",
           80000,
           100000,
           "Hà Nội"
          ],
          [
           "Tai Nghe Bluetooth 5.0 Không Dây Mini Pro 4/5 Tws Tiện Dụng",
           "299000",
           169000,
           0,
           "Hà Nội"
          ],
          [
           "Tai Nghe Bluetooth không dây Pro Cảm Biến Đa Điểm Không Dây 5.0 Định Vị - Đổi Tên - Sạc Không Dây hỗ trợ bảo hành 12T",
           "490000",
           290000,
           0,
           "Hà Nội"
          ],
          [
           "Tai Nghe Bluetooth Không Dây 5.1 TWS Gaming K86 - Có Mic - Độ Trễ Thấp - Pin Trâu - Chính Hãng HD DESIGN",
           "450000",
           249000,
           0,
           "Hà Nội"
          ],
          [
           "Tai Nghe Bluetooth Không Dây Baseus WM02/WM01 - Bluetooth 5.3, Kháng Nước IPX5, Chống Ồn, Nghe Nhạc Liên Tục 25 Giờ",
           "0",
           274000,
           354000,
           "Hà Nội"
          ],
          [
           "Tai nghe chụp tai bluetooth Hoco W25 chính hãng pin 300mAh",
           "249000",
           249000,
           0,
           "Hà Nội"
          ],
          [
           "Tai nghe bluetooth MARSHALL MODE III Kiểu Dáng Hiện Đại Bass Căng BẢO HÀNH ĐỔI MỚI",
           "638000",
           425000,
           0,
           "Hà Nội"
          ],
          [
           "[Mã ELMS10 giảm 6% đơn 50K] Tai Nghe Bluetooth 5.0 Chụp Tai có micro Headphone không dây thời trang màu sắc Y08 DL TECH",
           "150000",
           99000,
           0,
           "Hà Nội"
          ],
          [
           "Tai nghe bluetooth không dây Gutek i12 pro v5.0 nút cảm ứng có mic đàm thoại âm thanh HIFI",
           "0",
           129000,
           145000,
           "Hà Nội"
          ],
          [
           "Tai Nghe Bluetooth P2 Cao Cấp Định Vị Đổi Tên Tai Nghe Không Dây Tự Động Kết Nối Chạm Cảm Ứng Dùng Cho IOS Và Android",
           "289000",
           259000,
           0,
           "Hà Nội"
          ],
          [
           "Tai nghe không dây bluetooth hổ vằn E2 chip louda 1562M check setting cảm biến hồng ngoại pin trâu định vị",
           "0",
           525000,
           684000,
           "Hà Nội"
          ],
          [
           "Tai nghe bluetooth không dây TWS Magicsee R11 - Âm Bass to - Âm Treble Trong - Pin Trâu - Sạc Type-C",
           "400000",
           270000,
           0,
           "Hà Nội"
          ],
          [
           "Tai Nghe Bluetooth Hoco EW19 FULL V5.1 - Bảo hành 12 tháng",
           "350000",
           298000,
           0,
           "Hà Nội"
          ],
          [
           "{BẢN 2022 }Tai Nghe Bluetooth Hạt Đậu BUDS LIVE Phiên Bản Mới Nhất Kiểu Dáng Đỉnh Cao - BẢO HÀNH ĐỔI MỚI",
           "628000",
           488000,
           0,
           "Hà Nội"
          ],
          [
           "Tai nghe bluetooth không dây 5TECH TWS thiết kế kiểu dáng nắp mở 2 cánh bay Lamborghini cho âm thanh sống động sắc nét",
           "549000",
           319000,
           0,
           "Hà Nội"
          ],
          [
           "Tai nghe Bluetooth AMOI F9 TWS 5.0 bản QUỐC TẾ không dây cảm ứng chống nước IPX5, chống ồn tích hợp sạc dự phòng 2500mAh",
           "250000",
           160000,
           0,
           "Hà Nội"
          ],
          [
           "Tai Nghe Ambie Còng Tai Nghe Bluetooth 5.2 Không Dây AM-Mw01 TWS AMTW01 TW-01 Mới Hot 2022",
           "500000",
           370000,
           0,
           "Hà Nội"
          ],
          [
           "Tai Nghe Bluetooth AP Pro Gen 2 - Định Vị -Đổi Tên - Chống Ồn - Xuyên Âm - Âm Thanh Không Gian - Chính Hãng NEXTAGE",
           "799000",
           450000,
           0,
           "Hà Nội"
          ],
          [
           "Tai Nghe Chụp Tai Bluetooth Headphone Không Dây 5.0 P47 TUEMAN Dễ Thương Trend Tiktok",
           "0",
           59000,
           110000,
           "Hà Nội"
          ],
          [
           "Tai nghe bluetooth không dây inpods i12 tws v5.0 cảm ứng âm thanh HIFI micro đàm thoại",
           "0",
           63000,
           64000,
           "Hà Nội"
          ],
          [
           "Tai nghe bluetooth AP PRO nhét tai cảm ứng chống ồn kháng nước hỗ trợ sạc không dây full box bảo hành 6 tháng",
           "0",
           198000,
           335000,
           "Hà Nội"
          ],
          [
           "Tai Nghe Bluetooth không dây AP3 Cảm Biến Đa Điểm Không Dây 5.0 Định Vị - Đổi Tên - Sạc Không Dây",
           "0",
           285000,
           315000,
           "Hà Nội"
          ],
          [
           "Tai Nghe Bluetooth Nhét Tai Thể Thao Không Dây Marshall Mode II Kết Nối Bluetooth Kèm Mic Bảo Hành 12 Tháng",
           "568000",
           415000,
           0,
           "Hà Nội"
          ],
          [
           "Tai Nghe Bluetooth 5.0 AUKEY EP-T25 TWS Chống Ồn Sạc không dây IPX5 chống nước Tuổi thọ pin 30H",
           "760000",
           380000,
           0,
           "Hà Nội"
          ],
          [
           "FREESHIP_Đơn_50k Tai Nghe Bluetooth AirDots Redmi2 Đen True Wireless Công Nghệ 5.0 Kèm Đốc Sạc ,Cảm Biến Tự Động Kết Nối",
           "250000",
           189000,
           0,
           "Hà Nội"
          ],
          [
           "Tai nghe chụp tai mèo bluetooth 5.0 cute, Headphone tai mèo 7 màu led phát sáng không dây có mic chính hãng - MINPRO",
           "0",
           79000,
           119000,
           "Hà Nội"
          ],
          [
           "Tai nghe bluetooth phiên bản Pro, Tai nghe không dây Full Chức Năng, Đổi Tên, Định Vị, Pin trâu dùng cho mọi dòng máy",
           "0",
           265000,
           295000,
           "Hà Nội"
          ],
          [
           "Tai Nghe Bluetooth A2 Bản Cao Cấp - Đầy Đủ Chức Năng - Định Vị - Sạc Không Dây - Có Mic - Đổi Tên - Cảm Ứng Đa Điểm",
           "329000",
           259000,
           0,
           "Hà Nội"
          ],
          [
           "Tai nghe bluetooth Gen 3 AP3 nhét tai âm thanh không gian sống động định vị đổi tên hàng mới full box bảo hành 6 tháng",
           "0",
           198000,
           335000,
           "Hà Nội"
          ],
          [
           "Tai Nghe Bluetooth A3 - Âm Thanh Không Gian - Cảm Biến Đa Điểm - Định Vị - Đổi Tên - Sạc Không Dây BẢO HÀNH ĐỔI MỚI",
           "488000",
           288000,
           0,
           "Hà Nội"
          ],
          [
           "Tai nghe bluetooth gaming không dây âm bass hay có mic độ trễ thấp - Gutek M2 tws v5.3",
           "0",
           169000,
           245000,
           "Hà Nội"
          ],
          [
           "Tai Nghe Mèo Bluetooth P47 P47M, Tai Mèo Chụp Tai Có Mic, Âm Bass Mạnh Mẽ Nghe Nhạc Cực Hay jack cắm 3.5mm",
           "0",
           20000,
           75000,
           "Hà Nội"
          ],
          [
           "Tai Nghe Không Dây Baseus W3 Bluetooth Pro 5.0 Âm Thanh Nổi, giảm tiếng ồn, chống thấm nước, độ bền cao",
           "400000",
           249000,
           0,
           "Hà Nội"
          ],
          [
           "Tai nghe bluetooth AP Gen2, Tai nghe không dây Full Chức Năng, Đổi Tên, Định Vị, Pin trâu dùng cho mọi dòng máy",
           "0",
           215000,
           235000,
           "Hà Nội"
          ],
          [
           "Tai nghe bluetooth Gen3 Hổ vằn Bản Cao Cấp, Full chức năng, Âm thanh cực hay, Pin trâu dùng cho IOS Và Android",
           "0",
           799000,
           850000,
           "Hà Nội"
          ],
          [
           "Tai nghe bluetooth Gen2 Hổ vằn Bản Cao Cấp, Full chức năng, Âm thanh cực hay, Pin trâu dùng cho IOS Và Android",
           "0",
           499000,
           715000,
           "Hà Nội"
          ],
          [
           "Tai nghe bluetooth AP3, Tai nghe không dây Full Chức Năng, Đổi Tên, Định Vị, dùng cho mọi dòng máy",
           "470000",
           282000,
           0,
           "Hà Nội"
          ],
          [
           "Bản Giới Hạn BUDS PLUS 2022 Tai Nghe Bluetooth Cao Cấp Bass Căng Âm Thanh Đỉnh - BẢO HÀNH ĐỔI MỚI",
           "458000",
           348000,
           0,
           "Hà Nội"
          ],
          [
           "Tai Nghe Bluetooth AMOI F9 TWS 5.0 Bản QUỐC TẾ Không Dây Cảm Ứng Chống Nước IPX5, Chống Ồn Pin 2500mAh",
           "300000",
           159000,
           0,
           "Hà Nội"
          ],
          [
           "Tai nghe bluetooth true Wireless F9 PRO Bluetooth 5.0 Bản Quốc Tế Cảm Ứng Chống Nước Công nghệ âm thanh vovc 8D",
           "190000",
           119000,
           0,
           "Hà Nội"
          ],
          [
           "Tai nghe bluetooth gaming S10 Pro cao cấp, cảm ứng, hỗ trợ đàm thoại, nghe nhạc, kiêm sạc dự phòng",
           "300000",
           300000,
           0,
           "Hà Nội"
          ],
          [
           "Tai Nghe Bluetooth Không Dây GE04 PLUS Âm Thanh Vòm - Định Vị - Đổi Tên - Sạc Không Dây - Cảm Biến - Chính Hãng HD DES",
           "0",
           189000,
           199000,
           "Hà Nội"
          ],
          [
           "Tai nghe bluetooth Hoco ES34 thiết kế tinh tế âm thanh siêu chất Hàng chính hãng Bảo hành 12 tháng",
           "359000",
           359000,
           0,
           "Hà Nội"
          ],
          [
           "Tai nghe bluetooth amoi F9 TM Shop không dây true wireless chống ồn dành cho samsung IP chính hãng giá rẻ",
           "0",
           99000,
           215000,
           "Hà Nội"
          ],
          [
           "Tai Nghe Bluetooth APT2 TWS Không Dây Bản Quốc Tế Định Vị Đổi Tên Tự Động Kết Nối",
           "390000",
           234000,
           0,
           "Hà Nội"
          ],
          [
           "Tai Nghe Bluetooth A2 Bản Cao Cấp - Đầy Đủ Chức Năng - Định Vị - Có Mic - Đổi Tên - Cảm Biến Đa Điểm -Chính Hãng NEXTAGE",
           "399000",
           315000,
           0,
           "Hà Nội"
          ],
          [
           "Tai nghe bluetooth không dây M10 Pro bass mạnh nút chạm cảm ứng âm thanh HIFI dùng cho iphone samsung android ios",
           "0",
           99000,
           139000,
           "Hà Nội"
          ],
          [
           "Tai Nghe Bluetooth A3 - Chính Hãng NEXTAGE - Âm Thanh Không Gian - Cảm Biến Đa Điểm - Định Vị - Đổi Tên - Sạc Không Dây",
           "585000",
           355000,
           0,
           "Hà Nội"
          ],
          [
           "Tai Nghe Bluetooth A3 - Âm Thanh Không Gian - Cảm Biến Đa Điểm - Định Vị - Đổi Tên - Sạc Không Dây BẢO HÀNH ĐỔI MỚI",
           "488000",
           288000,
           0,
           "Hà Nội"
          ],
          [
           "Tai Nghe Mèo Bluetooth P47 P47M, Tai Mèo Chụp Tai Có Mic, Âm Bass Mạnh Mẽ Nghe Nhạc Cực Hay jack cắm 3.5mm",
           "0",
           20000,
           75000,
           "Hà Nội"
          ],
          [
           "Tai nghe bluetooth gaming không dây âm bass hay có mic độ trễ thấp - Gutek M2 tws v5.3",
           "0",
           169000,
           245000,
           "Hà Nội"
          ],
          [
           "Tai Nghe Không Dây Baseus W3 Bluetooth Pro 5.0 Âm Thanh Nổi, giảm tiếng ồn, chống thấm nước, độ bền cao",
           "400000",
           249000,
           0,
           "Hà Nội"
          ],
          [
           "Tai nghe bluetooth AP Gen2, Tai nghe không dây Full Chức Năng, Đổi Tên, Định Vị, Pin trâu dùng cho mọi dòng máy",
           "0",
           215000,
           235000,
           "Hà Nội"
          ],
          [
           "Tai nghe bluetooth Gen3 Hổ vằn Bản Cao Cấp, Full chức năng, Âm thanh cực hay, Pin trâu dùng cho IOS Và Android",
           "0",
           799000,
           850000,
           "Hà Nội"
          ],
          [
           "Tai nghe bluetooth Gen2 Hổ vằn Bản Cao Cấp, Full chức năng, Âm thanh cực hay, Pin trâu dùng cho IOS Và Android",
           "0",
           499000,
           715000,
           "Hà Nội"
          ],
          [
           "Tai nghe bluetooth AP3, Tai nghe không dây Full Chức Năng, Đổi Tên, Định Vị, dùng cho mọi dòng máy",
           "470000",
           282000,
           0,
           "Hà Nội"
          ],
          [
           "🌳 AIRPODS 1 2 3 PRO 2022 🌳 Skin Miếng Dán Kim Loại PPF Bảo Vệ Hộp sạc Tai Nghe Bluetooth Airpod Tính Năng Chống Bụi Bẩn",
           "0",
           7500,
           9000,
           "Hà Nội"
          ],
          [
           "Bản Giới Hạn BUDS PLUS 2022 Tai Nghe Bluetooth Cao Cấp Bass Căng Âm Thanh Đỉnh - BẢO HÀNH ĐỔI MỚI",
           "458000",
           348000,
           0,
           "Hà Nội"
          ],
          [
           "Tai Nghe Bluetooth AMOI F9 TWS 5.0 Bản QUỐC TẾ Không Dây Cảm Ứng Chống Nước IPX5, Chống Ồn Pin 2500mAh",
           "300000",
           159000,
           0,
           "Hà Nội"
          ],
          [
           "Vỏ bao đựng bảo vệ tai nghe bluetooth AP 2/3/PRO silicone siêu dễ thương cute, hình cực chất",
           "59000",
           39000,
           0,
           "Hà Nội"
          ],
          [
           "Tai nghe bluetooth true Wireless F9 PRO Bluetooth 5.0 Bản Quốc Tế Cảm Ứng Chống Nước Công nghệ âm thanh vovc 8D",
           "190000",
           119000,
           0,
           "Hà Nội"
          ],
          [
           "Tai nghe bluetooth gaming S10 Pro cao cấp, cảm ứng, hỗ trợ đàm thoại, nghe nhạc, kiêm sạc dự phòng",
           "300000",
           300000,
           0,
           "Hà Nội"
          ],
          [
           "Bóp Bao Đựng Cho Phụ Kiện Tai Nghe Bluetooth Dây Cáp Sạc Iphone Pin Dự Phòng - Awifi Case H1-3",
           "14000",
           14000,
           0,
           "Hà Nội"
          ],
          [
           "Vỏ Ốp Case airpod airpods pro bảo vệ, bao đựng tai nghe không dây bluetooth Tặng kèm móc",
           "0",
           9000,
           19000,
           "Hà Nội"
          ],
          [
           "Tai Nghe Bluetooth Không Dây GE04 PLUS Âm Thanh Vòm - Định Vị - Đổi Tên - Sạc Không Dây - Cảm Biến - Chính Hãng HD DES",
           "0",
           189000,
           199000,
           "Hà Nội"
          ],
          [
           "Tai nghe bluetooth Hoco ES34 thiết kế tinh tế âm thanh siêu chất Hàng chính hãng Bảo hành 12 tháng",
           "359000",
           359000,
           0,
           "Hà Nội"
          ],
          [
           "Tai nghe bluetooth amoi F9 TM Shop không dây true wireless chống ồn dành cho samsung IP chính hãng giá rẻ",
           "0",
           99000,
           215000,
           "Hà Nội"
          ],
          [
           "Tai Nghe Bluetooth APT2 TWS Không Dây Bản Quốc Tế Định Vị Đổi Tên Tự Động Kết Nối",
           "390000",
           234000,
           0,
           "Hà Nội"
          ],
          [
           "Tai Nghe Bluetooth M90 Cảm Ứng Thông Minh Chống Ồn Tốt Bass Mạnh Pin 1200mah- LINKEETECH",
           "300000",
           179000,
           0,
           "Hà Nội"
          ],
          [
           "Tai Nghe Bluetooth EP2, Không Dây Bản Cao Cấp, Sạc Không Dây, Định Vị, Đổi Tên,Cảm Ứng Dùng Cho Tất Cả Các Máy",
           "0",
           239000,
           249000,
           "Hà Nội"
          ],
          [
           "Tai Nghe Bluetooth HOCO E63 NEW - Bảo hành 12 tháng chính hãng",
           "180000",
           135000,
           0,
           "Hà Nội"
          ],
          [
           "Tai nghe dây bluetooth nhét tai cho điện thoại màu trắng chân dẹt có tích hợp micro đàm thoại nghe nhạc",
           "45000",
           45000,
           0,
           "Hà Nội"
          ],
          [
           "Tai Nghe Bluetooth Pro Hổ Vằn công nghệ TWS Chip Louda tai nghe nhét tai full chức năng chống ồn định vị đổi tên",
           "0",
           295000,
           1200000,
           "Hà Nội"
          ],
          [
           "Tai nghe bluetooth Chụp Tai Headphone P47 ⚡Âm Thanh Đỉnh Cao⚡",
           "79000",
           68000,
           0,
           "Hà Nội"
          ],
          [
           "Tai Nghe Dây H8 Chính Hãng SD DESIGN dùng cho điện thoại 7 đến 13 Pro Max - Kết Nối Bluetooth Mới Dùng Được",
           "165000",
           129000,
           0,
           "Hà Nội"
          ],
          [
           "Vỏ Ốp Case Bảo Vệ Bao Đựng Tai Nghe Không Dây Bluetooth Airpod 1/2/3/Pro/i12/i9/i7/tws - Moncase",
           "0",
           20000,
           89000,
           "Hà Nội"
          ],
          [
           "Tai nghe nhét tai Hoco E63 bluetooth 5.0 âm thanh sống động không dây phong cách doanh nhân - Bảo hành 12 tháng",
           "200000",
           135000,
           0,
           "Hà Nội"
          ],
          [
           "Tai Nghe Bluetooth GAMING Không Dây X15 TWS, Tai Nghe Chơi Game Không Có Độ Trễ Âm Thanh (Bản Quốc tế 2022)",
           "0",
           112000,
           140000,
           "Hà Nội"
          ],
          [
           "Tai Nghe Bluetooth 5.0 Chụp Tai có micro Headphone không dây thời trang màu sắc Y08 Head shop",
           "0",
           82000,
           95000,
           "Hà Nội"
          ],
          [
           "Tai nghe bluetooth chụp tai P47, tai nghe không dây tích hợp thẻ nhớ và mic dùng cho tất cả dòng điện thoại, máy tính",
           "129000",
           79000,
           0,
           "Hà Nội"
          ],
          [
           "Tai Nghe Bluetooth APro Hổ Vằn 1562AE Chống Ồn ANC 40DB - Xuyên Âm - Âm Thanh Vòm Thật - Pin 8H",
           "0",
           965000,
           999000,
           "Hà Nội"
          ],
          [
           "Tai Nghe Chụp Tai ❤️FREESHIP❤️Tai Nghe Tai Mèo Kết Nối Bluetooth BT028C ,Headphone Dễ Thương Có Mic, Âm Bass Mạnh Mẽ",
           "430000",
           291000,
           0,
           "Hà Nội"
          ],
          [
           "💎💎Tai nghe Bluetooth chụp tai Gaming có míc 💎CAO CẤP💎Chính hãng Remax RB-750HB V5.0 hỗ trợ thẻ nhớ không dây Giá rẻ",
           "580000",
           525000,
           0,
           "Hà Nội"
          ],
          [
           "Tai nghe bluetooth không dây i13 tws 5.0 nút cảm ứng âm thanh HIFI micro đàm thoại",
           "0",
           64000,
           85000,
           "Hà Nội"
          ],
          [
           "[Mã ELHACE giảm 4% đơn 300K] 🌟🌟Tai Nghe Bluetooth JBL H6 Bản Mới Nhất🌈Chống ồn🌈3 Micro🌈Pin 20H",
           "550000",
           350000,
           0,
           "Hà Nội"
          ],
          [
           "Tai Nghe Gaming Bluetooth WEEKOME V51 - Độ trễ cực thấp, Bass mạnh, Thiết kế chuẩn gaming | Bảo hành 12 tháng",
           "460000",
           325000,
           0,
           "Hà Nội"
          ],
          [
           "Tai Nghe Có Dây Nhét Tai NAHU Gaming Có Mic Chống Ồn Táo 7 8 Plus X XR XS Max 11 12 13 Pro SE Kết Nối Bluetooth D111",
           "0",
           59000,
           149000,
           "Hà Nội"
          ],
          [
           "Tai Nghe Bluetooth S10 Pro Có Vân Tay , Kiêm Sạc Dự Phòng 2200mAh Bản Quốc Tế Pin Cực Trâu - HiNan Shop",
           "289000",
           235000,
           0,
           "Hà Nội"
          ],
          [
           "Tai Nghe Bluetooth Công Nghệ V4.0 (Model 2019), Tai Mini Hạt Đậu Siêu Xinh",
           "0",
           27000,
           28000,
           "Hà Nội"
          ],
          [
           "[Mã INCU300] IROCK GEN2 LOUDA 1562M - TAI NGHE BLUETOOTH SẠC KHÔNG DÂY - MIC ĐÀM THOẠI",
           "0",
           480000,
           620000,
           "Hà Nội"
          ],
          [
           "Combo Tai nghe bluetooth không dây Gutek i12 Pro TWS nút cảm ứng âm thanh HIFI có mic kèm case vỏ bảo vệ bao đựng",
           "190000",
           109000,
           0,
           "Hà Nội"
          ],
          [
           "Tai Nghe Chụp Tai Bluetooth P47, Tai Không Dây Có Mic, Có Thẻ Nhớ, Âm Bass Cực Chất, Nghe Nhạc Cực Hay Bảo Hành 6 Tháng",
           "114000",
           60000,
           0,
           "Hà Nội"
          ],
          [
           "tai nghe nhét tai bluetooth Ap2 nghe gọi định vị đổi tên chính hãng eshuan",
           "299000",
           299000,
           0,
           "Hà Nội"
          ],
          [
           "Tai nghe bluetooth i12 TWS 5.0 cao cấp tai nghe không dây âm thanh chuẩn HIF, cửa sổ tự động kết nối, tai nghe Y12 trắng",
           "179000",
           129000,
           0,
           "Hà Nội"
          ],
          [
           "Tai nghe Bluetooth không dây 5.0 MINPRO - AMOI F9 PRO nút cảm biến vân tay chống nước kèm sạc 2.000mAh",
           "150000",
           105000,
           0,
           "Hà Nội"
          ],
          [
           "Tai nghe True Wireless Amoi F9 PRO Bluetooth 5.0 | Bản Quốc Tế | Cảm Ứng | Chống Nước",
           "199000",
           129000,
           0,
           "Hà Nội"
          ],
          [
           "Tai nghe bluetooth không dây Hoco nghe nhạc liên tục trong 3-5 giờ, công nghệ 5.0, hỗ trợ đàm thoại, định vị, đổi tên",
           "599000",
           329000,
           0,
           "Hà Nội"
          ],
          [
           "Tai Nghe Bluetooth Không Dây S11- Tai Nghe Nhét Tai Bluetooth 5.0 Tích Hợp Sạc Dự Phòng 4800mah",
           "0",
           99000,
           205000,
           "Hà Nội"
          ],
          [
           "Tai nghe Bluetooth chụp tai có mic T7, Tai nghe không dây bass mạnh, đàm thoại rõ ràng hỗ trợ học tập, giải trí",
           "529000",
           269000,
           0,
           "Hà Nội"
          ],
          [
           "Tai Nghe Bluetooth P2 Cao Cấp Định Vị Đổi Tên Tai Nghe Không Dây Tự Động Kết Nối Chạm Cảm Ứng Dùng Cho IOS Và Android",
           "340000",
           249000,
           0,
           "Hà Nội"
          ],
          [
           "Tai Nghe Bluetooth Nhiều Màu Sắc Cảm Biến 5.0",
           "0",
           60000,
           65000,
           "Hà Nội"
          ],
          [
           "Tai nghe bluetooth không dây Gutek Pro12 tws 5.0 hình minion nút cảm ứng chống ồn nghe nhạc âm thanh HIFI",
           "390000",
           244000,
           0,
           "Hà Nội"
          ],
          [
           "Tai Nghe Bluetooth AP3 Chính Hãng NAHU Giá rẻ Không Dây Nhét Tai Có Mic Chống Ồn Dây Nguyên Seal Bảo Hành Lỗi 1 Đổi 1",
           "430000",
           299000,
           0,
           "Hà Nội"
          ],
          [
           "Tai Nghe Bluetooth Amoi F9 Pro Bản Quốc Tế Cao Cấp, Cảm Biến Vân Tay, Kiêm Sạc Dự Phòng, Chống Nước, Chống Ồn",
           "190000",
           99000,
           0,
           "Hà Nội"
          ],
          [
           "Tai Nghe ai phôn dùng cho 7/8/7 Plus/8 Plus/X/Xsmax/11promax/12/13promax/14promax Tự Bắt Bluetooth",
           "80000",
           59000,
           0,
           "Hà Nội"
          ],
          [
           "[Mã ELMALL5 giảm 5% đơn 300K] Tai nghe không dây Baseus Bowie WM02 True Wireless Earphones (Bluetooth V5.3, 25h sử dụng)",
           "0",
           362110,
           369500,
           "Hà Nội"
          ],
          [
           "[Mã ELHACE giảm 4% đơn 300K] Tai Nghe Bluetooth BUDS LIVE Phiên Bản Mới Nhất - BẢO HÀNH ĐỔI MỚI",
           "550000",
           415000,
           0,
           "Hà Nội"
          ],
          [
           "Tai nghe Bluetooth không dây đeo quàng cổ Bluetooth 5.2 thể thao pin trâu từ tính khử tiếng ồn mã G01 Gemini Shop",
           "0",
           39900,
           45000,
           "Hà Nội"
          ],
          [
           "Tai nghe Bluetooth AMOI F9 TWS 5.0 bản QUỐC TẾ không dây cảm ứng chống nước IPX5, chống ồn tích hợp sạc dự phòng 2500mAh",
           "198000",
           99000,
           0,
           "Hà Nội"
          ],
          [
           "Tai nghe bluetooth gaming S10 Pro cao cấp, cảm ứng, hỗ trợ đàm thoại, nghe nhạc, kiêm sạc dự phòng 2200mAh - Audio365",
           "300000",
           169000,
           0,
           "Hà Nội"
          ],
          [
           "Tai nghe không dây bluetooth P3 Pro chất lượng âm thanh trầm tuyệt vời tích hợp micro- LinkeeTech",
           "0",
           99000,
           179000,
           "Hà Nội"
          ],
          [
           "Tai nghe gaming bluetooth không dây TWS có mic độ trễ thấp pin trâu âm bass mạnh mẽ - Gutek G7S",
           "330000",
           169000,
           0,
           "Hà Nội"
          ],
          [
           "Tai Nghe Bluetooth Pro 4, Tai Nghe Không Dây Nhét Tai Bluetooth 5.0 Bản Quốc Tế Tương Thích Tất Cả Dòng Máy",
           "0",
           92000,
           119000,
           "Hà Nội"
          ],
          [
           "Tai Nghe Bluetooth Pro 6 - Tai Nghe Không Dây Nhét Tai Bluetooth 5.0 Nhiều Màu Sắc Tương Thích Tất Cả Dòng Máy",
           "250000",
           119000,
           0,
           "Hà Nội"
          ]
         ],
         "hovertemplate": "location=%{customdata[4]}<br>selling_price=%{x}<br>name=%{customdata[0]}<br>original_price=%{customdata[1]}<br>selling_price_1=%{customdata[2]}<br>selling_price_2=%{customdata[3]}<extra></extra>",
         "legendgroup": "",
         "marker": {
          "color": "#636efa"
         },
         "name": "",
         "notched": true,
         "offsetgroup": "",
         "showlegend": false,
         "type": "box",
         "x": [
          245000,
          185000,
          269000,
          312500,
          129000,
          239000,
          269000,
          229000,
          129000,
          129000,
          269000,
          279000,
          269000,
          269000,
          129000,
          219000,
          129000,
          299000,
          240000,
          315500,
          239000,
          239000,
          450000,
          239000,
          185000,
          259000,
          59000,
          259000,
          598000,
          81500,
          698000,
          129000,
          498000,
          273000,
          339500,
          55000,
          99000,
          242500,
          185000,
          229000,
          269000,
          239000,
          315500,
          129000,
          269000,
          131500,
          158000,
          355000,
          100000,
          160750,
          123000,
          1000,
          155000,
          80500,
          109000,
          165000,
          84000,
          48500,
          84000,
          95000,
          64000,
          660000,
          139000,
          109000,
          144000,
          169000,
          259000,
          179000,
          242500,
          273000,
          185000,
          325000,
          240000,
          225000,
          239000,
          95000,
          161000,
          165000,
          283500,
          291500,
          315000,
          198000,
          290000,
          281000,
          114000,
          63000,
          199000,
          169000,
          159000,
          159000,
          119000,
          1500000,
          150000,
          139000,
          268000,
          255000,
          129000,
          498000,
          269000,
          119000,
          149000,
          488000,
          165000,
          230000,
          222500,
          176410,
          498000,
          475000,
          349000,
          239000,
          90000,
          169000,
          290000,
          249000,
          314000,
          249000,
          425000,
          99000,
          137000,
          259000,
          604500,
          270000,
          298000,
          488000,
          319000,
          160000,
          370000,
          450000,
          84500,
          63500,
          266500,
          300000,
          415000,
          380000,
          189000,
          99000,
          280000,
          259000,
          266500,
          288000,
          207000,
          47500,
          249000,
          225000,
          824500,
          607000,
          282000,
          348000,
          159000,
          119000,
          300000,
          194000,
          359000,
          157000,
          234000,
          315000,
          119000,
          355000,
          288000,
          47500,
          207000,
          249000,
          225000,
          824500,
          607000,
          282000,
          8250,
          348000,
          159000,
          39000,
          119000,
          300000,
          14000,
          14000,
          194000,
          359000,
          157000,
          234000,
          179000,
          244000,
          135000,
          45000,
          747500,
          68000,
          129000,
          54500,
          135000,
          126000,
          88500,
          79000,
          982000,
          291000,
          525000,
          74500,
          350000,
          325000,
          104000,
          235000,
          27500,
          550000,
          109000,
          60000,
          299000,
          129000,
          105000,
          129000,
          329000,
          152000,
          269000,
          249000,
          62500,
          244000,
          299000,
          99000,
          59000,
          365805,
          415000,
          42450,
          99000,
          169000,
          139000,
          169000,
          105500,
          119000
         ],
         "xaxis": "x4",
         "yaxis": "y4"
        },
        {
         "alignmentgroup": "True",
         "bingroup": "x",
         "hovertemplate": "location=TP. Hồ Chí Minh<br>selling_price=%{x}<br>count=%{y}<extra></extra>",
         "legendgroup": "",
         "marker": {
          "color": "#636efa",
          "pattern": {
           "shape": ""
          }
         },
         "name": "",
         "offsetgroup": "",
         "orientation": "v",
         "showlegend": false,
         "type": "histogram",
         "x": [
          125000,
          250000,
          145000,
          55000,
          119000,
          232500,
          265000,
          99000,
          259000,
          152500,
          85000,
          250000,
          232500,
          265000,
          145000,
          145000,
          180000,
          135000,
          815000,
          88000,
          189000,
          55000,
          289000,
          299000,
          179000,
          115000,
          108000,
          169000,
          180000,
          349999.5,
          60950,
          119000,
          255000,
          119000,
          159000,
          45000,
          509000,
          265000,
          235000,
          179000,
          299000,
          249000,
          249000,
          175000,
          3590000,
          369600,
          2100000,
          96500,
          263000,
          135000,
          99000,
          80500,
          169000,
          68000,
          549000,
          189000,
          367000,
          659000,
          135000,
          99000,
          8900,
          80500,
          169000,
          15000,
          68000,
          549000,
          367000,
          189000,
          102900,
          140500,
          88000,
          110000,
          152500,
          125000,
          145000,
          155000,
          175000,
          177000,
          282000,
          125000,
          88000,
          207500,
          418000,
          125000,
          104000,
          89000,
          95000,
          145000,
          58250,
          690000
         ],
         "xaxis": "x2",
         "yaxis": "y2"
        },
        {
         "alignmentgroup": "True",
         "customdata": [
          [
           "Tai Nghe Bluetooth Công Nghệ Mới Âm Thanh Sống Động Không Dây J12 Phiên Chuẩn Bản Quốc Tế J12_Mau -xanhrongnjnj",
           "150000",
           125000,
           0,
           "TP. Hồ Chí Minh"
          ],
          [
           "Tai Nghe Bluetooth P2 Cao Cấp Định Vị Đổi Tên Tai Nghe Không Dây Tự Động Kết Nối - Dùng Cho IOS Và Android MÃ A2",
           "0",
           235000,
           265000,
           "TP. Hồ Chí Minh"
          ],
          [
           "Tai nghe Bluetooth AMOI F9 TWS 5.0 bản QUỐC TẾ không dây cảm ứng chống nước ,chống ồn tích hợp sạc dự phòng 2500mA MÃ F9",
           "145000",
           145000,
           0,
           "TP. Hồ Chí Minh"
          ],
          [
           "Tai Nghe Bluetooth Công Nghệ Mới Âm Thanh Sống Động Không Dây J12 Phiên Chuẩn Bản Quốc Tế - J12_Trang xanhrongnjnj",
           "110000",
           55000,
           0,
           "TP. Hồ Chí Minh"
          ],
          [
           "Tai Nghe Bluetooth True Wireless F9 PRO Bluetooth 5.0 | Bản Quốc Tế | Cảm Ứng | Chống Nước(Loại mới)",
           "200000",
           119000,
           0,
           "TP. Hồ Chí Minh"
          ],
          [
           "Tai Nghe Bluetooth P2 Cao Cấp Định Vị Đổi Tên Tai Nghe Không Dây Tự Động Kết Nối - Dùng Cho IOS Và Android MÃ A2",
           "0",
           225000,
           240000,
           "TP. Hồ Chí Minh"
          ],
          [
           "Tai Nghe Bluetooth không dây AP3 Cảm Biến Đa Điểm Không Dây 5.0 Định Vị - Đổi Tên - Sạc Không Dây MÃ A3",
           "275000",
           265000,
           0,
           "TP. Hồ Chí Minh"
          ],
          [
           "Tai Nghe Bluetooth True Wireless F9 PRO Bluetooth 5.0 | Bản Quốc Tế | Cảm Ứng | Chống Nước(Loại mới)",
           "170000",
           99000,
           0,
           "TP. Hồ Chí Minh"
          ],
          [
           "[Loại tốt] Tai nghe Bluetooth không dây đời mới Âm thanh hay- Cảm ứng - đổi tên cao cấp",
           "500000",
           259000,
           0,
           "TP. Hồ Chí Minh"
          ],
          [
           "Tai Nghe Bluetooth M10 Pro Tai Nghe Không M10 Pro Phiên Bản Nâng Cấp Pin Trâu, Nút Cảm Ứng Tự Động Kết Nối mã m10",
           "0",
           135000,
           170000,
           "TP. Hồ Chí Minh"
          ],
          [
           "Tai Nghe Bluetooth True Wireless F9 PRO Bluetooth 5.0 | Bản Quốc Tế | Cảm Ứng | Chống Nước(Loại mới) MÃ F9 PRO",
           "115000",
           85000,
           0,
           "TP. Hồ Chí Minh"
          ],
          [
           "Tai Nghe Bluetooth P2 Cao Cấp Định Vị Đổi Tên Tai Nghe Không Dây Tự Động Kết Nối - Dùng Cho IOS Và Android MÃ A2",
           "0",
           235000,
           265000,
           "TP. Hồ Chí Minh"
          ],
          [
           "Tai Nghe Bluetooth P2 Cao Cấp Định Vị Đổi Tên Tai Nghe Không Dây Tự Động Kết Nối - Dùng Cho IOS Và Android MÃ A2",
           "0",
           225000,
           240000,
           "TP. Hồ Chí Minh"
          ],
          [
           "Tai Nghe Bluetooth không dây AP3 Cảm Biến Đa Điểm Không Dây 5.0 Định Vị - Đổi Tên - Sạc Không Dây MÃ A3",
           "275000",
           265000,
           0,
           "TP. Hồ Chí Minh"
          ],
          [
           "Tai nghe Bluetooth AMOI F9 TWS 5.0 bản QUỐC TẾ không dây cảm ứng chống nước ,chống ồn tích hợp sạc dự phòng 2500mA MÃ F9",
           "145000",
           145000,
           0,
           "TP. Hồ Chí Minh"
          ],
          [
           "Tai nghe bluetooth S10 Pro V5.2 cao cấp, cảm ứng vân tay, Chống nước IPX7 , nghe nhạc 10h, kiêm sạc dự phòng MÃ S10",
           "175000",
           145000,
           0,
           "TP. Hồ Chí Minh"
          ],
          [
           "Tai nghe bluetooth SGC SM10 Pin Trâu 3500maH âm thanh trung thực, đèn Led đẹp mắt, hộp sạc có màn hình",
           "350000",
           180000,
           0,
           "TP. Hồ Chí Minh"
          ],
          [
           "Tai Nghe Bluetooth True Wireless F9 PRO Bluetooth 5.0 | Cảm Ứng | Bản Quốc Tế 2022 Nút Cảm Ứng Chống Nước IP67",
           "135000",
           135000,
           0,
           "TP. Hồ Chí Minh"
          ],
          [
           "Tai Nghe Bluetooth GEN 3 1562E l Âm Thanh Hay l Định vị - Đổi tên l Tháo Tai Ngắt Kết Nối l Chuyển Đổi Đa Thiết Bị",
           "0",
           790000,
           840000,
           "TP. Hồ Chí Minh"
          ],
          [
           "Tai Nghe Bluetooth J12 TWS 5.0 Có Micro Không Dây Nghe Gọi Thanh Sống Động Kết Nối Mạnh Mẽ - J12_Trang aluca_store",
           "150000",
           88000,
           0,
           "TP. Hồ Chí Minh"
          ],
          [
           "Tai Nghe Bluetooth Không Dây X15 TWS 5.0 Có Micro Nghe Gọi Cảm Ứng Chạm Chơi Game Giảm Tiếng Ồn - X15 aluca_store",
           "300000",
           189000,
           0,
           "TP. Hồ Chí Minh"
          ],
          [
           "Tai nghe bluetooth Âm Thanh Sống Động Hay Không Dây J12 Phiên Bản Quốc Tế Có Mic Nghe Gọi Tốt - J12_Trang- Datoo_shop",
           "110000",
           55000,
           0,
           "TP. Hồ Chí Minh"
          ],
          [
           "Tai Nghe Bluetooth không dây P3 Cảm Biến Đa Điểm Không Dây 5.0 Định Vị - Đổi Tên - Sạc Không Dây MÃ A3",
           "289000",
           289000,
           0,
           "TP. Hồ Chí Minh"
          ],
          [
           "Tai Nghe Bluetooth P PRO- Không Dây Bản Cao Cấp Định Vị, Đổi Tên,Cảm Ứng Dùng Cho Tất Cả Các Máy Điện Thoại MÃ A PRO",
           "299000",
           299000,
           0,
           "TP. Hồ Chí Minh"
          ],
          [
           "Tai nghe Bluetooth Gaming Không dây X15 TWS công nghệ Bluetooth 5.0 cảm biến chạm, không có độ trễ âm (Bản Quốc tế 2022)",
           "0",
           139000,
           219000,
           "TP. Hồ Chí Minh"
          ],
          [
           "Tai Nghe Không Dây Bluetooth Thể Thao X15 TWS 5.0 Nghe Nhạc, Chơi Game Độ Trể Thấp - X15 vibes_shop",
           "230000",
           115000,
           0,
           "TP. Hồ Chí Minh"
          ],
          [
           "Tai Nghe Bluetooth Chính Hãng I12 Không Dây Nhét Tai Phụ Kiện Tai Nghe Điện Thoại IOS Và Android phanduyen25",
           "150000",
           108000,
           0,
           "TP. Hồ Chí Minh"
          ],
          [
           "Tai Nghe TWS Bluetooth 5.3 M90 Pro - Độ trễ cực thấp, âm thanh nổi thể thao với thanh trượt hiển MÃ M90",
           "175000",
           169000,
           0,
           "TP. Hồ Chí Minh"
          ],
          [
           "Tai nghe bluetooth SGC SM10 Pin Trâu 3500maH âm thanh trung thực, đèn Led đẹp mắt, hộp sạc có màn hình",
           "350000",
           180000,
           0,
           "TP. Hồ Chí Minh"
          ],
          [
           "Tai nghe không dây Disney x Tsum Tsum D10 LK-10 bluetooth 5.2 5.3 độ trễ thấp có micro hỗ trợ chơi game chống nước",
           "0",
           300000,
           399999,
           "TP. Hồ Chí Minh"
          ],
          [
           "Tai nghe bluetooth gaming i12 tws chống ồn, tay nghe không dây nhét tai thể thao giá rẻ cho samsung phone điện thoại",
           "0",
           32900,
           89000,
           "TP. Hồ Chí Minh"
          ],
          [
           "Tai nghe không dây F9 Tws 5.0 bản quốc tế không dây cảm ứng, tai nghe bluetooth f9 chống nước (ma f9)",
           "220000",
           119000,
           0,
           "TP. Hồ Chí Minh"
          ],
          [
           "Tai nghe Bluetooth Thế Hệ Mới - Tai Nghe Không Dây- Âm Thanh HD9.0",
           "400000",
           255000,
           0,
           "TP. Hồ Chí Minh"
          ],
          [
           "Tai Nghe Bluetooth True Wireless F9 PRO Bluetooth 5.0 | Bản Quốc Tế | Cảm Ứng | Chống Nước(Loại mới)",
           "200000",
           119000,
           0,
           "TP. Hồ Chí Minh"
          ],
          [
           "Tai Nghe Bluetooth Gaming Có Mic Âm Thanh Nổi Hifi Headphone Không Dây Bluetooth Chơi Game, Học Online",
           "0",
           149000,
           169000,
           "TP. Hồ Chí Minh"
          ],
          [
           "Tai Nghe Bluetooth Âm Thanh Sống Động Hay Không Dây J12 Phiên Bản Quốc Tế Có Mic Nghe Gọi Tốt - J12_Trang- Datoo_shop",
           "0",
           15000,
           75000,
           "TP. Hồ Chí Minh"
          ],
          [
           "Tai nghe mèo Chụp tai chơi game ONIKUMA K9 hồng có Mic,cho PC Laptop Máy tính,Tay Headphone Bluetooth Gaming Không dây",
           "0",
           449000,
           569000,
           "TP. Hồ Chí Minh"
          ],
          [
           "Tai nghe Bluetooth Chụp Tai Sendem K33, Headphone Không Dây, Có Khe Cắm Thẻ Nhớ - Cửa Hàng Phụ Kiện Online",
           "300000",
           265000,
           0,
           "TP. Hồ Chí Minh"
          ],
          [
           "Tai Nghe Gaming K98, Bluetooth, Bass Hay, Độ Trễ Thấp - Cửa hàng phụ kiện online",
           "0",
           225000,
           245000,
           "TP. Hồ Chí Minh"
          ],
          [
           "Tai Nghe Không Dây Pro 6 TW5.0, Tai Nghe Bluetooth, Cảm Biến, Đổi Tên, Hỗ Trợ Tất Cả HĐH",
           "240000",
           179000,
           0,
           "TP. Hồ Chí Minh"
          ],
          [
           "Tai Nghe Bluetooth AB 3 - Âm Thanh Không Gian - Cảm Biến Đa Điểm - Định Vị - Đổi Tên - Sạc Không Dây- BH 1 Đổi 1",
           "299000",
           299000,
           0,
           "TP. Hồ Chí Minh"
          ],
          [
           "Tai Nghe Bluetooth AB 2 Bản Cao Cấp Âm Thanh Chuẩn Tai Nghe Không Dây Kết Nối Tự Động Dùng Cho Mọi dòng điện thoại",
           "249000",
           249000,
           0,
           "TP. Hồ Chí Minh"
          ],
          [
           "Tai nghe Bluetooth Lenovo XT80 Tai nghe thể thao không dây Bluetooth 5.3 với Móc micrô âm thanh nổi HiFi",
           "329000",
           249000,
           0,
           "TP. Hồ Chí Minh"
          ],
          [
           "Tai nghe Bluetooth Gaming 5.1 kèm găng tay game cao cấp, tai nghe không dây X7 không trễ âm có chế độ kép ( Bản quốc tế)",
           "0",
           100000,
           250000,
           "TP. Hồ Chí Minh"
          ],
          [
           "[Mã ELMALL4 giảm 4% đơn 500K] Tai Nghe Không Dây TWS Enco X2 - Hàng Chính Hãng",
           "3990000",
           3590000,
           0,
           "TP. Hồ Chí Minh"
          ],
          [
           "Siêu Phẩm Tai Nghe Bluetooth Hỗ Vằn 1562M TWS2 - Bản Đa Chức Năng, Xuyên Âm, Chống Ồn, Pin 8h - TSMART",
           "480000",
           369600,
           0,
           "TP. Hồ Chí Minh"
          ],
          [
           "[HEADSET] Tai nghe Jabra Evolve 40 Stereo MS (Type A)",
           "0",
           2000000,
           2200000,
           "TP. Hồ Chí Minh"
          ],
          [
           "Tai nghe Bluetooth Sony h.ear in 2 WI-H700 Sport Màu ĐEN 🔥FREESHIP🔥 âm thanh chuẩn HIFI bass treble rõ ràng",
           "0",
           34000,
           159000,
           "TP. Hồ Chí Minh"
          ],
          [
           "CHÍNH HÃNG Tai nghe Bluetooth V5.0 Hoco DES08, DES08 Pro hỗ trợ hạn chế tiếng ồn, cảm biến, định vị, đổi tên poogroup",
           "500000",
           263000,
           0,
           "TP. Hồ Chí Minh"
          ],
          [
           "Tai nghe bluetooth VG58 phát sáng-Tai nghe không dây bluetooth 5.1 MÃ VG58",
           "145000",
           135000,
           0,
           "TP. Hồ Chí Minh"
          ],
          [
           "Tai Nghe Bluetooth J12 TWS 5.0 Có Micro Không Dây Nghe Gọi Cảm Ứng Chạm Âm Thanh Sống Động - J12_Trang",
           "100000",
           99000,
           0,
           "TP. Hồ Chí Minh"
          ],
          [
           "Tai Nghe Bluetooth 5.0 Không Dây i12,Kèm Vỏ Bảo Vệ Hoạt Hình Siêu Dễ Thương, Tương Thích Android\\iOs",
           "0",
           66000,
           95000,
           "TP. Hồ Chí Minh"
          ],
          [
           "Tai nghe Bluetooth chơi game 5.0 pro4 HiFi âm nhạc Giảm tiếng ồn tốt Ko có độ trễ và Chống nước mang theo tiện lợi",
           "169000",
           169000,
           0,
           "TP. Hồ Chí Minh"
          ],
          [
           "Tai nghe Bluetooth không dây i7s-Tws loại 2 tai nghe Có Mic Đàm Thoại kèm hộp sạc âm thanh cực hay",
           "102000",
           68000,
           0,
           "TP. Hồ Chí Minh"
          ],
          [
           "Tai Nghe TWS Defunc True Basic, Bluetooth 5.2, Cảm Ứng, Kháng Nước IPX4, Nghe Đến 22H - Chính Hãng BH 12 Tháng Dizigear",
           "690000",
           549000,
           0,
           "TP. Hồ Chí Minh"
          ],
          [
           "Tai Nghe Bluetooth X15 TWS 5.0 Có Micro Không Dây Nghe Gọi Cảm Ứng Chạm Âm Thanh Sống Động - X15 - Hoaingocaz97",
           "238000",
           189000,
           0,
           "TP. Hồ Chí Minh"
          ],
          [
           "Tai nghe bluetooth Borofone BW03 TWS V5.0⚡️ Hàng chính hãng⚡️Bảo hành 6 tháng",
           "460000",
           367000,
           0,
           "TP. Hồ Chí Minh"
          ],
          [
           "Tai Nghe Bluetooth True WIreless TWS Cảm Ứng TCT-S18 Chống Ồn ENC - Mic Đàm Thoại- Chế Độ Nhạc vs Gaming -Chỉnh Âm ượng",
           "800000",
           659000,
           0,
           "TP. Hồ Chí Minh"
          ],
          [
           "Tai nghe bluetooth VG58 phát sáng-Tai nghe không dây bluetooth 5.1 MÃ VG58",
           "145000",
           135000,
           0,
           "TP. Hồ Chí Minh"
          ],
          [
           "Tai Nghe Bluetooth J12 TWS 5.0 Có Micro Không Dây Nghe Gọi Cảm Ứng Chạm Âm Thanh Sống Động - J12_Trang",
           "100000",
           99000,
           0,
           "TP. Hồ Chí Minh"
          ],
          [
           "Hộp bao vỏ đựng tai nghe tai phone có dây in ear, cáp sạc, tai nghe airpods 1/2 bluetooth blutooth inpods i12 dễ thương",
           "13000",
           8900,
           0,
           "TP. Hồ Chí Minh"
          ],
          [
           "Tai Nghe Bluetooth 5.0 Không Dây i12,Kèm Vỏ Bảo Vệ Hoạt Hình Siêu Dễ Thương, Tương Thích Android\\iOs",
           "0",
           66000,
           95000,
           "TP. Hồ Chí Minh"
          ],
          [
           "Tai nghe Bluetooth chơi game 5.0 pro4 HiFi âm nhạc Giảm tiếng ồn tốt Ko có độ trễ và Chống nước mang theo tiện lợi",
           "169000",
           169000,
           0,
           "TP. Hồ Chí Minh"
          ],
          [
           "Vỏ ốp case Airpod silicon trong suốt bảo vệ bao đựng tai nghe không dây bluetooth 1/2/Pro/i12/i9/i7/tws - ORIO",
           "25000",
           15000,
           0,
           "TP. Hồ Chí Minh"
          ],
          [
           "Tai nghe Bluetooth không dây i7s-Tws loại 2 tai nghe Có Mic Đàm Thoại kèm hộp sạc âm thanh cực hay",
           "102000",
           68000,
           0,
           "TP. Hồ Chí Minh"
          ],
          [
           "Tai Nghe TWS Defunc True Basic, Bluetooth 5.2, Cảm Ứng, Kháng Nước IPX4, Nghe Đến 22H - Chính Hãng BH 12 Tháng Dizigear",
           "690000",
           549000,
           0,
           "TP. Hồ Chí Minh"
          ],
          [
           "Tai nghe bluetooth Borofone BW03 TWS V5.0⚡️ Hàng chính hãng⚡️Bảo hành 6 tháng",
           "460000",
           367000,
           0,
           "TP. Hồ Chí Minh"
          ],
          [
           "Tai Nghe Bluetooth X15 TWS 5.0 Có Micro Không Dây Nghe Gọi Cảm Ứng Chạm Âm Thanh Sống Động - X15 - Hoaingocaz97",
           "238000",
           189000,
           0,
           "TP. Hồ Chí Minh"
          ],
          [
           "Tai Nghe Bluetooth Không Dây Chính Hãng I12 Nhét Tai Phụ Kiện Tai Nghe Điện Thoại IOS Và Android | I12 Saka.Shop99",
           "105000",
           102900,
           0,
           "TP. Hồ Chí Minh"
          ],
          [
           "0Tai nghe bluetooth S10 Pro V5.2 cao cấp, cảm ứng vân tay, âm thanh cực hay",
           "0",
           129000,
           152000,
           "TP. Hồ Chí Minh"
          ],
          [
           "Tai Nghe Bluetooth 5.0 i12 TWS - Cảm Biến Vân Tay, Chất Âm Êm, Trong Trẻm Thời Lương Pin Tốt, Sang Trọng hhbt25",
           "138000",
           88000,
           0,
           "TP. Hồ Chí Minh"
          ],
          [
           "Tai nghe bluetooth không dây Inpods i12 TWS cảm ứng điều khiển,tai phone bluetooth i12 cảm biến âm thanh cho Android iOS",
           "0",
           105000,
           115000,
           "TP. Hồ Chí Minh"
          ],
          [
           "Tai nghe bluetooth chụp tai có micro chơi game. Tai nghe không dây gaming B39 âm thanh sống động pin trâu",
           "0",
           150000,
           155000,
           "TP. Hồ Chí Minh"
          ],
          [
           "Tai Nghe Bluetooth J12 TWS 5.0 Có Micro Không Dây Nghe Gọi Thanh Sống Động Kết Nối Mạnh Mẽ J12_Mau -aluca_store",
           "169000",
           125000,
           0,
           "TP. Hồ Chí Minh"
          ],
          [
           "Tai Nghe Bluetooth Không Dây F9 Pro TWS 5.0 Có Micro Nghe Gọi Cảm Ứng Chạm Chơi Game Giảm Tiếng Ồn - F9Pro aluca_store",
           "280000",
           145000,
           0,
           "TP. Hồ Chí Minh"
          ],
          [
           "Tai Nghe Bluetooth Không Dây F9 TWS 5.0 Có Micro Nghe Gọi Cảm Ứng Chạm Chơi Game Giảm Tiếng Ồn - F9 aluca_store",
           "250000",
           155000,
           0,
           "TP. Hồ Chí Minh"
          ],
          [
           "Tai Nghe Bluetooth Không Dây TWS 5.0 Có Micro Nghe Gọi Cảm Ứng Chạm Chơi Game Giảm Tiếng Ồn - PR04 aluca_store",
           "340000",
           175000,
           0,
           "TP. Hồ Chí Minh"
          ],
          [
           "Tai Nghe Bluetooth Công Nghệ Mới Âm Thanh Sống Động Không Dây Phiên Chuẩn Bản Quốc Tế - PR04- Dongocdanymzx9599",
           "0",
           169000,
           185000,
           "TP. Hồ Chí Minh"
          ],
          [
           "Tai nghe bluetooth Hoco (es)ES39 phiên bản đặc biệt, kết nối không dây hỗ trợ định vị, đổi tên - BH 12 thang",
           "390000",
           282000,
           0,
           "TP. Hồ Chí Minh"
          ],
          [
           "Tai Nghe Không Dây Bluetooth Thể Thao J12 TWS 5.0 Nghe Nhạc, Chơi Game Độ Trể Thấp J12_Mau -aluca_store",
           "159000",
           125000,
           0,
           "TP. Hồ Chí Minh"
          ],
          [
           "Tai Nghe Bluetooth Công Nghệ Mới Âm Thanh Sống Động Không Dây J12 Phiên Chuẩn Bản Quốc Tế J12_Mau - Vibes_shop",
           "150000",
           88000,
           0,
           "TP. Hồ Chí Minh"
          ],
          [
           "Tai nghe Bluetooth không dây Lenovo LP40/LP40 Pro. Hàng chính hãng",
           "0",
           186000,
           229000,
           "TP. Hồ Chí Minh"
          ],
          [
           "Tai Nghe Bluetooth 5.3 Baseus WM01, chống ồn, chống nước,chuyên cho nhạc sàn và chơi game,bảo hành 12 tháng",
           "0",
           286000,
           550000,
           "TP. Hồ Chí Minh"
          ],
          [
           "tai nghe bluetooth không dây j12 TWS 5.0 Có Micro Nghe Gọi Cảm Ứng Chạm Chơi Game Giảm Tiếng Ồn - J12_Trang aluca_store",
           "150000",
           125000,
           0,
           "TP. Hồ Chí Minh"
          ],
          [
           "Tai nghe bluetooth không dây Inpods Pro i13 TWS gaming nhét tai, tai phone blutooth giá rẻ cho IP, Android/iOs Sagopy",
           "0",
           89000,
           119000,
           "TP. Hồ Chí Minh"
          ],
          [
           "Tai nghe bluetooth chụp tai mini GrownTech P47 có mic thu âm bass to bảo hành 24 tháng",
           "150000",
           89000,
           0,
           "TP. Hồ Chí Minh"
          ],
          [
           "Tai nghe thể thao Bluetooth uốn dẻo 360 độ, hỗ trợ thẻ nhớ lên tới 32G tiện lợi, kết nối Bluetooth 5.0 thông minh MK-87",
           "95000",
           95000,
           0,
           "TP. Hồ Chí Minh"
          ],
          [
           "Tai nghe không dây Bluetooth 5.2 chip chuyên gaming chế độ kép chơi game nghe nhạc chống nước in-ear",
           "239000",
           145000,
           0,
           "TP. Hồ Chí Minh"
          ],
          [
           "Tai Nghe Chụp Tai Bluetooth P47, Tai Không Dây Có Mic, Có khe Thẻ Nhớ, Âm Bass Cực Chất, Nghe Nhạc Cực Hay",
           "0",
           58000,
           58500,
           "TP. Hồ Chí Minh"
          ],
          [
           "tai nghe bluetooth doraemon in-ear không dây âm thanh nổi hai tai thể thao tai nghe bluetooth tws Bluetooth giảm ồn thoải mái có mic gọi được chống nước cho Android IOS",
           "790000",
           690000,
           0,
           "TP. Hồ Chí Minh"
          ]
         ],
         "hovertemplate": "location=%{customdata[4]}<br>selling_price=%{x}<br>name=%{customdata[0]}<br>original_price=%{customdata[1]}<br>selling_price_1=%{customdata[2]}<br>selling_price_2=%{customdata[3]}<extra></extra>",
         "legendgroup": "",
         "marker": {
          "color": "#636efa"
         },
         "name": "",
         "notched": true,
         "offsetgroup": "",
         "showlegend": false,
         "type": "box",
         "x": [
          125000,
          250000,
          145000,
          55000,
          119000,
          232500,
          265000,
          99000,
          259000,
          152500,
          85000,
          250000,
          232500,
          265000,
          145000,
          145000,
          180000,
          135000,
          815000,
          88000,
          189000,
          55000,
          289000,
          299000,
          179000,
          115000,
          108000,
          169000,
          180000,
          349999.5,
          60950,
          119000,
          255000,
          119000,
          159000,
          45000,
          509000,
          265000,
          235000,
          179000,
          299000,
          249000,
          249000,
          175000,
          3590000,
          369600,
          2100000,
          96500,
          263000,
          135000,
          99000,
          80500,
          169000,
          68000,
          549000,
          189000,
          367000,
          659000,
          135000,
          99000,
          8900,
          80500,
          169000,
          15000,
          68000,
          549000,
          367000,
          189000,
          102900,
          140500,
          88000,
          110000,
          152500,
          125000,
          145000,
          155000,
          175000,
          177000,
          282000,
          125000,
          88000,
          207500,
          418000,
          125000,
          104000,
          89000,
          95000,
          145000,
          58250,
          690000
         ],
         "xaxis": "x5",
         "yaxis": "y5"
        },
        {
         "alignmentgroup": "True",
         "bingroup": "x",
         "hovertemplate": "location=Nước ngoài<br>selling_price=%{x}<br>count=%{y}<extra></extra>",
         "legendgroup": "",
         "marker": {
          "color": "#636efa",
          "pattern": {
           "shape": ""
          }
         },
         "name": "",
         "offsetgroup": "",
         "orientation": "v",
         "showlegend": false,
         "type": "histogram",
         "x": [
          259000,
          319000,
          239900,
          223000,
          239450,
          62000,
          81000,
          49500,
          43750,
          294000,
          42400,
          40175,
          40300,
          299000,
          92000,
          149000,
          299900,
          223000,
          368000,
          39575,
          174500,
          224000,
          73000,
          123500,
          33000,
          264000,
          368000,
          76000,
          45500,
          101500,
          57000,
          247500,
          189000,
          109000,
          114000,
          224900,
          300000,
          300000,
          269000,
          18750,
          228000,
          64298,
          359000,
          52000,
          100500,
          102000,
          107000,
          64010,
          152000,
          630000,
          359000,
          52000,
          100500,
          102000,
          107000,
          64010,
          42000,
          152000,
          464000,
          75000,
          85000,
          65998,
          259000,
          9500,
          20000,
          22500,
          137000,
          98000,
          279000,
          155000,
          26641,
          35750,
          142000,
          403000,
          59530,
          208000,
          45500,
          187000,
          390000,
          71000
         ],
         "xaxis": "x3",
         "yaxis": "y3"
        },
        {
         "alignmentgroup": "True",
         "customdata": [
          [
           "Tai Nghe Bluetooth 5.3 Baseus WM01 TWS Chống Ồn",
           "531667",
           259000,
           0,
           "Nước ngoài"
          ],
          [
           "Tai nghe nhét tai không dây BASEUS WM02 bluetooth 5.3 TWS chống ồn",
           "615000",
           319000,
           0,
           "Nước ngoài"
          ],
          [
           "Tai Nghe Bluetooth Lenovo LP40 Pro Bluetooth 5.1 có chất lượng âm thanh tốt và tích hợp micro",
           "0",
           199900,
           279900,
           "Nước ngoài"
          ],
          [
           "Tai nghe nhét tai Lenovo disney f9 bluetooth không dây âm thanh hifi có micro màn hình hd 5.2",
           "0",
           208000,
           238000,
           "Nước ngoài"
          ],
          [
           "Tai nghe bluetooth Lenovo LP40 PRO 2021 mới bản LP40 không dây Bluetooth 5.1 tws IPX5 chống ồn TWS 300mah",
           "0",
           199000,
           279900,
           "Nước ngoài"
          ],
          [
           "tai nghe bluetooth không dây tai nghe i12 chính hãng dùng được cho ios và tai nghe bluetooth android i12 tai nghe",
           "110000",
           62000,
           0,
           "Nước ngoài"
          ],
          [
           "Tai Nghe Nhét Tai Không Dây Vitog Airdots A6S Bluetooth 5.0 Chống Tiếng Ồn Cho Điện Thoại",
           "182160",
           81000,
           0,
           "Nước ngoài"
          ],
          [
           "Tai Nghe Bluetooth 5.0 I7S Thiết Kế ko dây Tws Kèm Hộp Sạc Cao Cấp",
           "0",
           29000,
           70000,
           "Nước ngoài"
          ],
          [
           "Tai nghe nhét tai Pro 6 bluetooth không dây âm thanh hifi có micro màn hình hd 5.2",
           "0",
           15000,
           72500,
           "Nước ngoài"
          ],
          [
           "Tai nghe không dây Disney Lenovo F6 Bluetooth giảm ồn thoải mái có mic gọi được chống nước cho Android IOS",
           "0",
           279000,
           309000,
           "Nước ngoài"
          ],
          [
           "Tai nghe Nkodok nhét tai không dây bluetooth mini",
           "0",
           26000,
           58800,
           "Nước ngoài"
          ],
          [
           "Tai Nghe Bluetooth Không Dây I7S Tws Phù Hợp Với Android IOS",
           "0",
           28850,
           51500,
           "Nước ngoài"
          ],
          [
           "Tai Nghe Bluetooth Không Dây TWS 12 Màu Sắc Kèm Hộp Sạc",
           "0",
           13600,
           67000,
           "Nước ngoài"
          ],
          [
           "Tai nghe không dây Lenovo LK-10 TWS HIFI Bluetooth 5.2 giảm ồn kiểu thể thao chống nước có micro pin mạnh",
           "600000",
           299000,
           0,
           "Nước ngoài"
          ],
          [
           "Tai Nghe bluetooth Không Dây TZUZL TWS Chống Thấm Nước",
           "0",
           89000,
           95000,
           "Nước ngoài"
          ],
          [
           "Tai nghe không dây X15 Bluetooth âm thanh hifi sống động điều khiển cảm ứng không trễ cao cấp",
           "240000",
           149000,
           0,
           "Nước ngoài"
          ],
          [
           "Tai nghe bluetooth Lenovo LP5 âm trầm tuyệt vời chống thấm nước tích hợp micro tiện dụng",
           "0",
           279900,
           319900,
           "Nước ngoài"
          ],
          [
           "Tai nghe nhét tai Lenovo disney f9 bluetooth không dây âm thanh hifi có micro màn hình hd 5.2",
           "0",
           208000,
           238000,
           "Nước ngoài"
          ],
          [
           "Tai nghe Lenovo TH10 Bluetooth âm thanh nổi giảm ồn thoải mái chống nước có mic cho Android IOS PC",
           "710158",
           368000,
           0,
           "Nước ngoài"
          ],
          [
           "Tai Nghe Không Dây Bluetooth 5.0 JL- i7 Tws Kiểu Dáng Thể Thao Tích Hợp Micro Kèm Hộp Sạc",
           "0",
           19900,
           59250,
           "Nước ngoài"
          ],
          [
           "Tai nghe không dây Lenovo LP40 Pro Bluetooth 5.1 âm thanh nổi HD giảm ồn thông minh có mic cảm ứng chống nước",
           "0",
           90000,
           259000,
           "Nước ngoài"
          ],
          [
           "Tai nghe Bluetooth DISNEY F9 không dây nhét tai âm thanh nổi thời lượng pin dài với M",
           "0",
           208000,
           240000,
           "Nước ngoài"
          ],
          [
           "Tai nghe Bluetooth earphone GOOJODOQ không dây i7s Tws thiết kế thể thao mini tiện dụng kèm hộp sạc",
           "160000",
           73000,
           0,
           "Nước ngoài"
          ],
          [
           "Tai nghe không dây TWS Bluetooth 5.0 âm thanh stereo 9D thông minh có màn hình LED chống thấm nước",
           "0",
           88000,
           159000,
           "Nước ngoài"
          ],
          [
           "Mini Không Dây Bluetooth Tai Nghe I12 Là Xiaomi Hoặc Android ^ MK ^",
           "0",
           26500,
           39500,
           "Nước ngoài"
          ],
          [
           "Tai nghe không dây Lenovo lp5 bluetooth 5.0 độ trễ thấp tích hợp micro chơi game/ tập thể thao ipx5",
           "0",
           239000,
           289000,
           "Nước ngoài"
          ],
          [
           "Tai nghe Lenovo TH10 Bluetooth âm thanh nổi giảm ồn thoải mái chống nước có mic cho Android IOS PC",
           "710158",
           368000,
           0,
           "Nước ngoài"
          ],
          [
           "Tai nghe bluetooth không dây TWS inpods i12 có vỏ bảo vệ cho ios và android chất lượng âm thanh trung thực cao",
           "159900",
           76000,
           0,
           "Nước ngoài"
          ],
          [
           "Tai Nghe Inpods i12 TWS bluetooth Không Dây Nhét Tai Có mic Cho Nói Chuyện i12",
           "0",
           26000,
           65000,
           "Nước ngoài"
          ],
          [
           "New Hot Bán Ngoài Trời thể thao Bluetooth Tai nghe JBL tai nghe ko dây táos Pro 13 TWS ko dây 5.0 với microphone",
           "0",
           100500,
           102500,
           "Nước ngoài"
          ],
          [
           "Tai Nghe Bluetooth 5.2 Không Dây V9 V9s Giảm Tiếng Ồn Có Màn Hình LED HD",
           "0",
           25000,
           89000,
           "Nước ngoài"
          ],
          [
           "Tai nghe bluetooth Lenovo XT95 Pro với micrô đèn LED đầy màu sắc, âm trầm tốt",
           "0",
           220000,
           275000,
           "Nước ngoài"
          ],
          [
           "Tai nghe không dây Kuulaa J18 TWS bluetooth tích hợp micro có thể tự thay đổi tên thiết bị",
           "518000",
           189000,
           0,
           "Nước ngoài"
          ],
          [
           "P9 Max Không Dây Bluetooth Tai Nghe Noise Cancelling Tai Nghe Thể Thao Tai Nghe Được Xây Dựng trong Mic -7 Vương Quốc Anh",
           "0",
           59000,
           159000,
           "Nước ngoài"
          ],
          [
           "Tai Nghe Không Dây TZUZL TWS-201 Bluetooth 5.0 Điều Khiển Cảm Ứng Chơi Game Âm Thanh Nổi Chống Nước Kèm Hộp Sạc",
           "215280",
           114000,
           0,
           "Nước ngoài"
          ],
          [
           "Tai nghe bluetooth Lenovo LP40 Tai nghe bluetooth không dây có Mic",
           "0",
           199900,
           249900,
           "Nước ngoài"
          ],
          [
           "Tai Nghe Bluetooth Không Dây 2022 Chất Lượng Cao Cho Huawei Xiaomi Apple",
           "0",
           250000,
           350000,
           "Nước ngoài"
          ],
          [
           "Tai Nghe Bluetooth Không Dây 2022 Chất Lượng Cao Cho Huawei Xiaomi Apple",
           "0",
           250000,
           350000,
           "Nước ngoài"
          ],
          [
           "Tai nghe Disney LK-11 nhét tai không dây bluetooth 5.3 âm thanh nổi HD chống nước thời lượng pin siêu dài độ trễ thấp",
           "550000",
           269000,
           0,
           "Nước ngoài"
          ],
          [
           "Tai nghe Bluetooth nhét tai âm thanh chất lượng cao",
           "0",
           18000,
           19500,
           "Nước ngoài"
          ],
          [
           "Tai nghe nhét tai không dây Hoco EW25 TWS 5.3 kết nối bluetooth có micro tiện dụng dành cho Android",
           "380000",
           228000,
           0,
           "Nước ngoài"
          ],
          [
           "Tai nghe không dây Mini Pro4 Bluetooth 5.0 TWS có hộp sạc dành cho điện thoại thông minh PK",
           "119998",
           64298,
           0,
           "Nước ngoài"
          ],
          [
           "Tai Nghe Không Dây Baseus Enock W3 TWS Bluetooth 5.0 Âm Thanh Nổi",
           "608333",
           359000,
           0,
           "Nước ngoài"
          ],
          [
           "Tai nghe không dây Vitog đeo một bên tai Bluetooth 5.1 phát nhạc trong 20 giờ",
           "125856",
           52000,
           0,
           "Nước ngoài"
          ],
          [
           "Tai Nghe Không Dây X15 Bluetooth âm Thanh Hifi Sống động điều Khiển Cảm ứng Không Trễ Cao Cấp",
           "0",
           81000,
           120000,
           "Nước ngoài"
          ],
          [
           "Tai nghe thể thao nhét tai TZUZL BT63 bluetooth 5.0 thời trang mới 2022",
           "0",
           95000,
           109000,
           "Nước ngoài"
          ],
          [
           "Tai nghe bluetooth không dây Lenovo QE03 có micro chất lượng cao tiện dụng khi tập thể thao kèm cáp/vỏ bọc",
           "229000",
           107000,
           0,
           "Nước ngoài"
          ],
          [
           "Tai nghe nhét tai không dây Bluetooth Y50 TWS 5.0 chống thấm nước chống ồn thể thao dành cho điện thoại Android",
           "0",
           58425,
           69595,
           "Nước ngoài"
          ],
          [
           "Tai Nghe Không Dây Tws Bluetooth 5.0 Chống Thấm Nước 9D Tích Hợp Micro Tiện Dụng Khi Chơi Thể Thao",
           "0",
           136000,
           168000,
           "Nước ngoài"
          ],
          [
           "Tai nghe không dây Ugreen TWS Bluetooth 5.0 cao cấp âm thanh chân thực 27H sạc USB-C",
           "0",
           611000,
           649000,
           "Nước ngoài"
          ],
          [
           "Tai Nghe Không Dây Baseus Enock W3 TWS Bluetooth 5.0 Âm Thanh Nổi",
           "608333",
           359000,
           0,
           "Nước ngoài"
          ],
          [
           "Tai nghe không dây Vitog đeo một bên tai Bluetooth 5.1 phát nhạc trong 20 giờ",
           "125856",
           52000,
           0,
           "Nước ngoài"
          ],
          [
           "Tai Nghe Không Dây X15 Bluetooth âm Thanh Hifi Sống động điều Khiển Cảm ứng Không Trễ Cao Cấp",
           "0",
           81000,
           120000,
           "Nước ngoài"
          ],
          [
           "Tai nghe thể thao nhét tai TZUZL BT63 bluetooth 5.0 thời trang mới 2022",
           "0",
           95000,
           109000,
           "Nước ngoài"
          ],
          [
           "Tai nghe bluetooth không dây Lenovo QE03 có micro chất lượng cao tiện dụng khi tập thể thao kèm cáp/vỏ bọc",
           "229000",
           107000,
           0,
           "Nước ngoài"
          ],
          [
           "Tai nghe nhét tai không dây Bluetooth Y50 TWS 5.0 chống thấm nước chống ồn thể thao dành cho điện thoại Android",
           "0",
           58425,
           69595,
           "Nước ngoài"
          ],
          [
           "Bộ Dụng Cụ Vệ Sinh Tai Nghe Bluetooth Kiểu Mới Tương Thích Với AirPods3 / Điện Thoại Di Động / Máy Tính",
           "90000",
           42000,
           0,
           "Nước ngoài"
          ],
          [
           "Tai Nghe Không Dây Tws Bluetooth 5.0 Chống Thấm Nước 9D Tích Hợp Micro Tiện Dụng Khi Chơi Thể Thao",
           "0",
           136000,
           168000,
           "Nước ngoài"
          ],
          [
           "Tai nghe nhét tai Baseus W04 kết nối bluetooth 5.0",
           "0",
           409000,
           519000,
           "Nước ngoài"
          ],
          [
           "Tai nghe không dây VITOG Y30 kết nối bluetooth 5.0 âm thanh sống động chất lượng cao",
           "158976",
           75000,
           0,
           "Nước ngoài"
          ],
          [
           "Tai nghe chơi game M6 không dây kết nối Bluetooth có thể gấp gọn cao cấp",
           "134000",
           85000,
           0,
           "Nước ngoài"
          ],
          [
           "Tai nghe bluetooth không dây TWS A6s chống nước chất lượng cao",
           "129999",
           65998,
           0,
           "Nước ngoài"
          ],
          [
           "Tai nghe không dây Lenovo Disney Q2 Bluetooth 5.1 âm thanh nổi cách âm thông minh chống nước có mic cho Android IOS",
           "400000",
           259000,
           0,
           "Nước ngoài"
          ],
          [
           "[Strongaroetu] 3,7v 30mah 401012 Pin Sạc Lithium Polymer Cho Tai Nghe Bluetooth",
           "11875",
           9500,
           0,
           "Nước ngoài"
          ],
          [
           "Tai Nghe Thể Thao Không Dây Bluetooth M165",
           "39000",
           20000,
           0,
           "Nước ngoài"
          ],
          [
           "Tai Nghe Nhét Tai Không Dây S650 Kết Nối Bluetooth Kiểu Dáng Thể Thao",
           "23500",
           22500,
           0,
           "Nước ngoài"
          ],
          [
           "Tai nghe bluetooth không dây TWS 18D HiFi chống thấm nước có micro tiện dụng",
           "0",
           127000,
           147000,
           "Nước ngoài"
          ],
          [
           "Tai nghe không dây Suntaiho Mini Pro 4 Bluetooth 5.1 TWS",
           "0",
           78000,
           118000,
           "Nước ngoài"
          ],
          [
           "Tai nghe bluetooth Lenovo lp75 không dây âm thanh stereo hd không thấm nước giảm tiếng ồn 400mah bluetooth 5.3",
           "580000",
           279000,
           0,
           "Nước ngoài"
          ],
          [
           "[BACRAB] Tai nghe không dây gaming nhet tai hot thời trang thể thao ko dây chup tai nút nhét tai chum tai super bass chấtlượng X1 TWS true wireless bluetooth earphone PUBG game headphone",
           "280000",
           155000,
           0,
           "Nước ngoài"
          ],
          [
           "Tai Nghe Bluetooth XT11 Kiểu Dáng Thể Thao Có Dây Đeo Cổ Tiện Dụng",
           "46740",
           26641,
           0,
           "Nước ngoài"
          ],
          [
           "Tai nghe bluetooth S109 kèm micro trò chuyện tiện lợi",
           "0",
           29000,
           42500,
           "Nước ngoài"
          ],
          [
           "Tai Nghe Bluetooth Lenovo HE05X II thể thao 5.0 không thấm nước IPX5 TWS nhét tai Không Dây Chất Âm Êm Lương Pin Tốt nhét tai chụp tai có micro ko dây",
           "199000",
           142000,
           0,
           "Nước ngoài"
          ],
          [
           "Kính râm thông minh GOOJODOQ kết nối bluetooth 5.0 hỗ trợ gọi rảnh tay chống ánh sáng xanh",
           "950000",
           403000,
           0,
           "Nước ngoài"
          ],
          [
           "Tai nghe không dây Bluetooth 5.0 RGA Sport Headphone truyền âm thanh qua xương",
           "126660",
           59530,
           0,
           "Nước ngoài"
          ],
          [
           "Tai nghe nhét tai Disney F9 bluetooth 5.2 không dây âm thanh nổi rõ ràng chống nước giảm ồn thời lượng pin dài có micro",
           "390000",
           208000,
           0,
           "Nước ngoài"
          ],
          [
           "Tai Nghe Nkodok Bluetooth 5.2 Đeo Cổ Giảm Tiếng Ồn Tiện Dụng",
           "62842",
           45500,
           0,
           "Nước ngoài"
          ],
          [
           "Tai nghe Bluetooth 5.0 hình tai mèo phát sáng cá tính",
           "0",
           106000,
           268000,
           "Nước ngoài"
          ],
          [
           "Tai nghe Bluetooth Redmi Buds 3 Lite",
           "590000",
           390000,
           0,
           "Nước ngoài"
          ],
          [
           "Tai nghe ELOUGH Y50 TWS không dây bluetooth 5.0 chống nước phong cách thể thao",
           "152000",
           71000,
           0,
           "Nước ngoài"
          ]
         ],
         "hovertemplate": "location=%{customdata[4]}<br>selling_price=%{x}<br>name=%{customdata[0]}<br>original_price=%{customdata[1]}<br>selling_price_1=%{customdata[2]}<br>selling_price_2=%{customdata[3]}<extra></extra>",
         "legendgroup": "",
         "marker": {
          "color": "#636efa"
         },
         "name": "",
         "notched": true,
         "offsetgroup": "",
         "showlegend": false,
         "type": "box",
         "x": [
          259000,
          319000,
          239900,
          223000,
          239450,
          62000,
          81000,
          49500,
          43750,
          294000,
          42400,
          40175,
          40300,
          299000,
          92000,
          149000,
          299900,
          223000,
          368000,
          39575,
          174500,
          224000,
          73000,
          123500,
          33000,
          264000,
          368000,
          76000,
          45500,
          101500,
          57000,
          247500,
          189000,
          109000,
          114000,
          224900,
          300000,
          300000,
          269000,
          18750,
          228000,
          64298,
          359000,
          52000,
          100500,
          102000,
          107000,
          64010,
          152000,
          630000,
          359000,
          52000,
          100500,
          102000,
          107000,
          64010,
          42000,
          152000,
          464000,
          75000,
          85000,
          65998,
          259000,
          9500,
          20000,
          22500,
          137000,
          98000,
          279000,
          155000,
          26641,
          35750,
          142000,
          403000,
          59530,
          208000,
          45500,
          187000,
          390000,
          71000
         ],
         "xaxis": "x6",
         "yaxis": "y6"
        }
       ],
       "layout": {
        "annotations": [
         {
          "font": {},
          "showarrow": false,
          "text": "location=Hà Nội",
          "x": 0.15999999999999998,
          "xanchor": "center",
          "xref": "paper",
          "y": 1,
          "yanchor": "bottom",
          "yref": "paper"
         },
         {
          "font": {},
          "showarrow": false,
          "text": "location=TP. Hồ Chí Minh",
          "x": 0.49999999999999994,
          "xanchor": "center",
          "xref": "paper",
          "y": 1,
          "yanchor": "bottom",
          "yref": "paper"
         },
         {
          "font": {},
          "showarrow": false,
          "text": "location=Nước ngoài",
          "x": 0.8399999999999999,
          "xanchor": "center",
          "xref": "paper",
          "y": 1,
          "yanchor": "bottom",
          "yref": "paper"
         }
        ],
        "barmode": "relative",
        "legend": {
         "tracegroupgap": 0
        },
        "margin": {
         "t": 60
        },
        "template": {
         "data": {
          "bar": [
           {
            "error_x": {
             "color": "#2a3f5f"
            },
            "error_y": {
             "color": "#2a3f5f"
            },
            "marker": {
             "line": {
              "color": "#E5ECF6",
              "width": 0.5
             },
             "pattern": {
              "fillmode": "overlay",
              "size": 10,
              "solidity": 0.2
             }
            },
            "type": "bar"
           }
          ],
          "barpolar": [
           {
            "marker": {
             "line": {
              "color": "#E5ECF6",
              "width": 0.5
             },
             "pattern": {
              "fillmode": "overlay",
              "size": 10,
              "solidity": 0.2
             }
            },
            "type": "barpolar"
           }
          ],
          "carpet": [
           {
            "aaxis": {
             "endlinecolor": "#2a3f5f",
             "gridcolor": "white",
             "linecolor": "white",
             "minorgridcolor": "white",
             "startlinecolor": "#2a3f5f"
            },
            "baxis": {
             "endlinecolor": "#2a3f5f",
             "gridcolor": "white",
             "linecolor": "white",
             "minorgridcolor": "white",
             "startlinecolor": "#2a3f5f"
            },
            "type": "carpet"
           }
          ],
          "choropleth": [
           {
            "colorbar": {
             "outlinewidth": 0,
             "ticks": ""
            },
            "type": "choropleth"
           }
          ],
          "contour": [
           {
            "colorbar": {
             "outlinewidth": 0,
             "ticks": ""
            },
            "colorscale": [
             [
              0,
              "#0d0887"
             ],
             [
              0.1111111111111111,
              "#46039f"
             ],
             [
              0.2222222222222222,
              "#7201a8"
             ],
             [
              0.3333333333333333,
              "#9c179e"
             ],
             [
              0.4444444444444444,
              "#bd3786"
             ],
             [
              0.5555555555555556,
              "#d8576b"
             ],
             [
              0.6666666666666666,
              "#ed7953"
             ],
             [
              0.7777777777777778,
              "#fb9f3a"
             ],
             [
              0.8888888888888888,
              "#fdca26"
             ],
             [
              1,
              "#f0f921"
             ]
            ],
            "type": "contour"
           }
          ],
          "contourcarpet": [
           {
            "colorbar": {
             "outlinewidth": 0,
             "ticks": ""
            },
            "type": "contourcarpet"
           }
          ],
          "heatmap": [
           {
            "colorbar": {
             "outlinewidth": 0,
             "ticks": ""
            },
            "colorscale": [
             [
              0,
              "#0d0887"
             ],
             [
              0.1111111111111111,
              "#46039f"
             ],
             [
              0.2222222222222222,
              "#7201a8"
             ],
             [
              0.3333333333333333,
              "#9c179e"
             ],
             [
              0.4444444444444444,
              "#bd3786"
             ],
             [
              0.5555555555555556,
              "#d8576b"
             ],
             [
              0.6666666666666666,
              "#ed7953"
             ],
             [
              0.7777777777777778,
              "#fb9f3a"
             ],
             [
              0.8888888888888888,
              "#fdca26"
             ],
             [
              1,
              "#f0f921"
             ]
            ],
            "type": "heatmap"
           }
          ],
          "heatmapgl": [
           {
            "colorbar": {
             "outlinewidth": 0,
             "ticks": ""
            },
            "colorscale": [
             [
              0,
              "#0d0887"
             ],
             [
              0.1111111111111111,
              "#46039f"
             ],
             [
              0.2222222222222222,
              "#7201a8"
             ],
             [
              0.3333333333333333,
              "#9c179e"
             ],
             [
              0.4444444444444444,
              "#bd3786"
             ],
             [
              0.5555555555555556,
              "#d8576b"
             ],
             [
              0.6666666666666666,
              "#ed7953"
             ],
             [
              0.7777777777777778,
              "#fb9f3a"
             ],
             [
              0.8888888888888888,
              "#fdca26"
             ],
             [
              1,
              "#f0f921"
             ]
            ],
            "type": "heatmapgl"
           }
          ],
          "histogram": [
           {
            "marker": {
             "pattern": {
              "fillmode": "overlay",
              "size": 10,
              "solidity": 0.2
             }
            },
            "type": "histogram"
           }
          ],
          "histogram2d": [
           {
            "colorbar": {
             "outlinewidth": 0,
             "ticks": ""
            },
            "colorscale": [
             [
              0,
              "#0d0887"
             ],
             [
              0.1111111111111111,
              "#46039f"
             ],
             [
              0.2222222222222222,
              "#7201a8"
             ],
             [
              0.3333333333333333,
              "#9c179e"
             ],
             [
              0.4444444444444444,
              "#bd3786"
             ],
             [
              0.5555555555555556,
              "#d8576b"
             ],
             [
              0.6666666666666666,
              "#ed7953"
             ],
             [
              0.7777777777777778,
              "#fb9f3a"
             ],
             [
              0.8888888888888888,
              "#fdca26"
             ],
             [
              1,
              "#f0f921"
             ]
            ],
            "type": "histogram2d"
           }
          ],
          "histogram2dcontour": [
           {
            "colorbar": {
             "outlinewidth": 0,
             "ticks": ""
            },
            "colorscale": [
             [
              0,
              "#0d0887"
             ],
             [
              0.1111111111111111,
              "#46039f"
             ],
             [
              0.2222222222222222,
              "#7201a8"
             ],
             [
              0.3333333333333333,
              "#9c179e"
             ],
             [
              0.4444444444444444,
              "#bd3786"
             ],
             [
              0.5555555555555556,
              "#d8576b"
             ],
             [
              0.6666666666666666,
              "#ed7953"
             ],
             [
              0.7777777777777778,
              "#fb9f3a"
             ],
             [
              0.8888888888888888,
              "#fdca26"
             ],
             [
              1,
              "#f0f921"
             ]
            ],
            "type": "histogram2dcontour"
           }
          ],
          "mesh3d": [
           {
            "colorbar": {
             "outlinewidth": 0,
             "ticks": ""
            },
            "type": "mesh3d"
           }
          ],
          "parcoords": [
           {
            "line": {
             "colorbar": {
              "outlinewidth": 0,
              "ticks": ""
             }
            },
            "type": "parcoords"
           }
          ],
          "pie": [
           {
            "automargin": true,
            "type": "pie"
           }
          ],
          "scatter": [
           {
            "fillpattern": {
             "fillmode": "overlay",
             "size": 10,
             "solidity": 0.2
            },
            "type": "scatter"
           }
          ],
          "scatter3d": [
           {
            "line": {
             "colorbar": {
              "outlinewidth": 0,
              "ticks": ""
             }
            },
            "marker": {
             "colorbar": {
              "outlinewidth": 0,
              "ticks": ""
             }
            },
            "type": "scatter3d"
           }
          ],
          "scattercarpet": [
           {
            "marker": {
             "colorbar": {
              "outlinewidth": 0,
              "ticks": ""
             }
            },
            "type": "scattercarpet"
           }
          ],
          "scattergeo": [
           {
            "marker": {
             "colorbar": {
              "outlinewidth": 0,
              "ticks": ""
             }
            },
            "type": "scattergeo"
           }
          ],
          "scattergl": [
           {
            "marker": {
             "colorbar": {
              "outlinewidth": 0,
              "ticks": ""
             }
            },
            "type": "scattergl"
           }
          ],
          "scattermapbox": [
           {
            "marker": {
             "colorbar": {
              "outlinewidth": 0,
              "ticks": ""
             }
            },
            "type": "scattermapbox"
           }
          ],
          "scatterpolar": [
           {
            "marker": {
             "colorbar": {
              "outlinewidth": 0,
              "ticks": ""
             }
            },
            "type": "scatterpolar"
           }
          ],
          "scatterpolargl": [
           {
            "marker": {
             "colorbar": {
              "outlinewidth": 0,
              "ticks": ""
             }
            },
            "type": "scatterpolargl"
           }
          ],
          "scatterternary": [
           {
            "marker": {
             "colorbar": {
              "outlinewidth": 0,
              "ticks": ""
             }
            },
            "type": "scatterternary"
           }
          ],
          "surface": [
           {
            "colorbar": {
             "outlinewidth": 0,
             "ticks": ""
            },
            "colorscale": [
             [
              0,
              "#0d0887"
             ],
             [
              0.1111111111111111,
              "#46039f"
             ],
             [
              0.2222222222222222,
              "#7201a8"
             ],
             [
              0.3333333333333333,
              "#9c179e"
             ],
             [
              0.4444444444444444,
              "#bd3786"
             ],
             [
              0.5555555555555556,
              "#d8576b"
             ],
             [
              0.6666666666666666,
              "#ed7953"
             ],
             [
              0.7777777777777778,
              "#fb9f3a"
             ],
             [
              0.8888888888888888,
              "#fdca26"
             ],
             [
              1,
              "#f0f921"
             ]
            ],
            "type": "surface"
           }
          ],
          "table": [
           {
            "cells": {
             "fill": {
              "color": "#EBF0F8"
             },
             "line": {
              "color": "white"
             }
            },
            "header": {
             "fill": {
              "color": "#C8D4E3"
             },
             "line": {
              "color": "white"
             }
            },
            "type": "table"
           }
          ]
         },
         "layout": {
          "annotationdefaults": {
           "arrowcolor": "#2a3f5f",
           "arrowhead": 0,
           "arrowwidth": 1
          },
          "autotypenumbers": "strict",
          "coloraxis": {
           "colorbar": {
            "outlinewidth": 0,
            "ticks": ""
           }
          },
          "colorscale": {
           "diverging": [
            [
             0,
             "#8e0152"
            ],
            [
             0.1,
             "#c51b7d"
            ],
            [
             0.2,
             "#de77ae"
            ],
            [
             0.3,
             "#f1b6da"
            ],
            [
             0.4,
             "#fde0ef"
            ],
            [
             0.5,
             "#f7f7f7"
            ],
            [
             0.6,
             "#e6f5d0"
            ],
            [
             0.7,
             "#b8e186"
            ],
            [
             0.8,
             "#7fbc41"
            ],
            [
             0.9,
             "#4d9221"
            ],
            [
             1,
             "#276419"
            ]
           ],
           "sequential": [
            [
             0,
             "#0d0887"
            ],
            [
             0.1111111111111111,
             "#46039f"
            ],
            [
             0.2222222222222222,
             "#7201a8"
            ],
            [
             0.3333333333333333,
             "#9c179e"
            ],
            [
             0.4444444444444444,
             "#bd3786"
            ],
            [
             0.5555555555555556,
             "#d8576b"
            ],
            [
             0.6666666666666666,
             "#ed7953"
            ],
            [
             0.7777777777777778,
             "#fb9f3a"
            ],
            [
             0.8888888888888888,
             "#fdca26"
            ],
            [
             1,
             "#f0f921"
            ]
           ],
           "sequentialminus": [
            [
             0,
             "#0d0887"
            ],
            [
             0.1111111111111111,
             "#46039f"
            ],
            [
             0.2222222222222222,
             "#7201a8"
            ],
            [
             0.3333333333333333,
             "#9c179e"
            ],
            [
             0.4444444444444444,
             "#bd3786"
            ],
            [
             0.5555555555555556,
             "#d8576b"
            ],
            [
             0.6666666666666666,
             "#ed7953"
            ],
            [
             0.7777777777777778,
             "#fb9f3a"
            ],
            [
             0.8888888888888888,
             "#fdca26"
            ],
            [
             1,
             "#f0f921"
            ]
           ]
          },
          "colorway": [
           "#636efa",
           "#EF553B",
           "#00cc96",
           "#ab63fa",
           "#FFA15A",
           "#19d3f3",
           "#FF6692",
           "#B6E880",
           "#FF97FF",
           "#FECB52"
          ],
          "font": {
           "color": "#2a3f5f"
          },
          "geo": {
           "bgcolor": "white",
           "lakecolor": "white",
           "landcolor": "#E5ECF6",
           "showlakes": true,
           "showland": true,
           "subunitcolor": "white"
          },
          "hoverlabel": {
           "align": "left"
          },
          "hovermode": "closest",
          "mapbox": {
           "style": "light"
          },
          "paper_bgcolor": "white",
          "plot_bgcolor": "#E5ECF6",
          "polar": {
           "angularaxis": {
            "gridcolor": "white",
            "linecolor": "white",
            "ticks": ""
           },
           "bgcolor": "#E5ECF6",
           "radialaxis": {
            "gridcolor": "white",
            "linecolor": "white",
            "ticks": ""
           }
          },
          "scene": {
           "xaxis": {
            "backgroundcolor": "#E5ECF6",
            "gridcolor": "white",
            "gridwidth": 2,
            "linecolor": "white",
            "showbackground": true,
            "ticks": "",
            "zerolinecolor": "white"
           },
           "yaxis": {
            "backgroundcolor": "#E5ECF6",
            "gridcolor": "white",
            "gridwidth": 2,
            "linecolor": "white",
            "showbackground": true,
            "ticks": "",
            "zerolinecolor": "white"
           },
           "zaxis": {
            "backgroundcolor": "#E5ECF6",
            "gridcolor": "white",
            "gridwidth": 2,
            "linecolor": "white",
            "showbackground": true,
            "ticks": "",
            "zerolinecolor": "white"
           }
          },
          "shapedefaults": {
           "line": {
            "color": "#2a3f5f"
           }
          },
          "ternary": {
           "aaxis": {
            "gridcolor": "white",
            "linecolor": "white",
            "ticks": ""
           },
           "baxis": {
            "gridcolor": "white",
            "linecolor": "white",
            "ticks": ""
           },
           "bgcolor": "#E5ECF6",
           "caxis": {
            "gridcolor": "white",
            "linecolor": "white",
            "ticks": ""
           }
          },
          "title": {
           "x": 0.05
          },
          "xaxis": {
           "automargin": true,
           "gridcolor": "white",
           "linecolor": "white",
           "ticks": "",
           "title": {
            "standoff": 15
           },
           "zerolinecolor": "white",
           "zerolinewidth": 2
          },
          "yaxis": {
           "automargin": true,
           "gridcolor": "white",
           "linecolor": "white",
           "ticks": "",
           "title": {
            "standoff": 15
           },
           "zerolinecolor": "white",
           "zerolinewidth": 2
          }
         }
        },
        "xaxis": {
         "anchor": "y",
         "domain": [
          0,
          0.31999999999999995
         ],
         "title": {
          "text": "selling_price"
         }
        },
        "xaxis2": {
         "anchor": "y2",
         "domain": [
          0.33999999999999997,
          0.6599999999999999
         ],
         "matches": "x",
         "title": {
          "text": "selling_price"
         }
        },
        "xaxis3": {
         "anchor": "y3",
         "domain": [
          0.6799999999999999,
          0.9999999999999999
         ],
         "matches": "x",
         "title": {
          "text": "selling_price"
         }
        },
        "xaxis4": {
         "anchor": "y4",
         "domain": [
          0,
          0.31999999999999995
         ],
         "matches": "x",
         "showgrid": true,
         "showticklabels": false
        },
        "xaxis5": {
         "anchor": "y5",
         "domain": [
          0.33999999999999997,
          0.6599999999999999
         ],
         "matches": "x",
         "showgrid": true,
         "showticklabels": false
        },
        "xaxis6": {
         "anchor": "y6",
         "domain": [
          0.6799999999999999,
          0.9999999999999999
         ],
         "matches": "x",
         "showgrid": true,
         "showticklabels": false
        },
        "yaxis": {
         "anchor": "x",
         "domain": [
          0,
          0.8316
         ],
         "title": {
          "text": "count"
         }
        },
        "yaxis2": {
         "anchor": "x2",
         "domain": [
          0,
          0.8316
         ],
         "matches": "y",
         "showticklabels": false
        },
        "yaxis3": {
         "anchor": "x3",
         "domain": [
          0,
          0.8316
         ],
         "matches": "y",
         "showticklabels": false
        },
        "yaxis4": {
         "anchor": "x4",
         "domain": [
          0.8416,
          1
         ],
         "matches": "y4",
         "showgrid": false,
         "showline": false,
         "showticklabels": false,
         "ticks": ""
        },
        "yaxis5": {
         "anchor": "x5",
         "domain": [
          0.8416,
          1
         ],
         "matches": "y4",
         "showgrid": false,
         "showline": false,
         "showticklabels": false,
         "ticks": ""
        },
        "yaxis6": {
         "anchor": "x6",
         "domain": [
          0.8416,
          1
         ],
         "matches": "y4",
         "showgrid": false,
         "showline": false,
         "showticklabels": false,
         "ticks": ""
        }
       }
      }
     },
     "metadata": {},
     "output_type": "display_data"
    },
    {
     "name": "stdout",
     "output_type": "stream",
     "text": [
      "Hà Nội: The mean is 238,545.38\n",
      "Hà Nội: The standard deviation is 174,866.70\n",
      "TP. Hồ Chí Minh: The mean is 256,734.44\n",
      "TP. Hồ Chí Minh: The standard deviation is 430,654.70\n",
      "Nước ngoài: The mean is 159,897.96\n",
      "Nước ngoài: The standard deviation is 124,379.77\n"
     ]
    }
   ],
   "source": [
    "fig = px.histogram(df_filter, x='selling_price',\n",
    "                   facet_col = 'location', marginal=\"box\", hover_data=df_filter.columns)\n",
    "fig.show()\n",
    "\n",
    "for i in df_filter['location'].unique():\n",
    "    mean = \"{:,.2f}\".format(np.mean(df_filter[df_filter['location'] == i]['selling_price']))\n",
    "    st_dev = \"{:,.2f}\".format(np.std(df_filter[df_filter['location'] == i]['selling_price']))\n",
    "\n",
    "    print(f\"{i}: The mean is {mean}\")\n",
    "    print(f\"{i}: The standard deviation is {st_dev}\")\n"
   ]
  },
  {
   "cell_type": "code",
   "execution_count": null,
   "metadata": {},
   "outputs": [
    {
     "data": {
      "text/plain": [
       "count          420.00\n",
       "mean       219,947.24\n",
       "std        247,611.61\n",
       "min          1,000.00\n",
       "25%         99,000.00\n",
       "50%        169,000.00\n",
       "75%        269,000.00\n",
       "max      3,590,000.00\n",
       "Name: selling_price, dtype: object"
      ]
     },
     "execution_count": 32,
     "metadata": {},
     "output_type": "execute_result"
    }
   ],
   "source": [
    "df2 = df_shopee_crawl['selling_price'].describe()\n",
    "df2.apply(lambda x: '{:,.2f}'.format(x))"
   ]
  },
  {
   "cell_type": "code",
   "execution_count": null,
   "metadata": {},
   "outputs": [
    {
     "data": {
      "text/html": [
       "<div>\n",
       "<style scoped>\n",
       "    .dataframe tbody tr th:only-of-type {\n",
       "        vertical-align: middle;\n",
       "    }\n",
       "\n",
       "    .dataframe tbody tr th {\n",
       "        vertical-align: top;\n",
       "    }\n",
       "\n",
       "    .dataframe thead th {\n",
       "        text-align: right;\n",
       "    }\n",
       "</style>\n",
       "<table border=\"1\" class=\"dataframe\">\n",
       "  <thead>\n",
       "    <tr style=\"text-align: right;\">\n",
       "      <th></th>\n",
       "      <th>name</th>\n",
       "      <th>original_price</th>\n",
       "      <th>selling_price_1</th>\n",
       "      <th>selling_price_2</th>\n",
       "      <th>location</th>\n",
       "      <th>star</th>\n",
       "      <th>selling_price</th>\n",
       "    </tr>\n",
       "  </thead>\n",
       "  <tbody>\n",
       "    <tr>\n",
       "      <th>0</th>\n",
       "      <td>Tai Nghe Bluetooth EP2 Cao Cấp Định Vị Đổi Tên...</td>\n",
       "      <td>299000</td>\n",
       "      <td>245000</td>\n",
       "      <td>0</td>\n",
       "      <td>Hà Nội</td>\n",
       "      <td>4.2</td>\n",
       "      <td>272000.0</td>\n",
       "    </tr>\n",
       "    <tr>\n",
       "      <th>1</th>\n",
       "      <td>Tai Nghe Bluetooth M10 Pro, Tai Nghe Không Dây...</td>\n",
       "      <td>299000</td>\n",
       "      <td>185000</td>\n",
       "      <td>0</td>\n",
       "      <td>Hà Nội</td>\n",
       "      <td>4.3</td>\n",
       "      <td>242000.0</td>\n",
       "    </tr>\n",
       "    <tr>\n",
       "      <th>2</th>\n",
       "      <td>Tai Nghe Bluetooth PRO- Không Dây Bản Cao Cấp ...</td>\n",
       "      <td>355000</td>\n",
       "      <td>269000</td>\n",
       "      <td>0</td>\n",
       "      <td>Hà Nội</td>\n",
       "      <td>4.7</td>\n",
       "      <td>312000.0</td>\n",
       "    </tr>\n",
       "    <tr>\n",
       "      <th>3</th>\n",
       "      <td>Tai Nghe Bluetooth không dây AP3 Cảm Biến Đa Đ...</td>\n",
       "      <td>0</td>\n",
       "      <td>293000</td>\n",
       "      <td>332000</td>\n",
       "      <td>Hà Nội</td>\n",
       "      <td>4.8</td>\n",
       "      <td>146500.0</td>\n",
       "    </tr>\n",
       "    <tr>\n",
       "      <th>4</th>\n",
       "      <td>Tai Nghe Bluetooth i12 - Bản Mới Nhất Không Dâ...</td>\n",
       "      <td>200000</td>\n",
       "      <td>129000</td>\n",
       "      <td>0</td>\n",
       "      <td>Hà Nội</td>\n",
       "      <td>4.1</td>\n",
       "      <td>164500.0</td>\n",
       "    </tr>\n",
       "  </tbody>\n",
       "</table>\n",
       "</div>"
      ],
      "text/plain": [
       "                                                name  original_price  \\\n",
       "0  Tai Nghe Bluetooth EP2 Cao Cấp Định Vị Đổi Tên...          299000   \n",
       "1  Tai Nghe Bluetooth M10 Pro, Tai Nghe Không Dây...          299000   \n",
       "2  Tai Nghe Bluetooth PRO- Không Dây Bản Cao Cấp ...          355000   \n",
       "3  Tai Nghe Bluetooth không dây AP3 Cảm Biến Đa Đ...               0   \n",
       "4  Tai Nghe Bluetooth i12 - Bản Mới Nhất Không Dâ...          200000   \n",
       "\n",
       "   selling_price_1  selling_price_2 location  star  selling_price  \n",
       "0           245000                0   Hà Nội   4.2       272000.0  \n",
       "1           185000                0   Hà Nội   4.3       242000.0  \n",
       "2           269000                0   Hà Nội   4.7       312000.0  \n",
       "3           293000           332000   Hà Nội   4.8       146500.0  \n",
       "4           129000                0   Hà Nội   4.1       164500.0  "
      ]
     },
     "execution_count": 4,
     "metadata": {},
     "output_type": "execute_result"
    }
   ],
   "source": [
    "df_quadrant = pd.read_csv('data.csv')\n",
    "df_quadrant.head()"
   ]
  },
  {
   "cell_type": "code",
   "execution_count": null,
   "metadata": {},
   "outputs": [
    {
     "data": {
      "application/vnd.plotly.v1+json": {
       "config": {
        "plotlyServerURL": "https://plot.ly"
       },
       "data": [
        {
         "customdata": [
          [
           "Tai Nghe Bluetooth EP2 Cao Cấp Định Vị Đổi Tên Tai Nghe Không Dây Tự Động Kết Nối Chạm Cảm Ứng,Dùng Cho Các Máy Điện Th"
          ],
          [
           "Tai Nghe Bluetooth M10 Pro, Tai Nghe Không Dây M10 Pro Phiên Bản Nâng Cấp Pin Trâu, Nút Cảm Ứng Tự Động Kết Nối"
          ],
          [
           "Tai Nghe Bluetooth PRO- Không Dây Bản Cao Cấp Định Vị, Đổi Tên,Cảm Ứng Dùng Cho Tất Cả Các Máy Điện Thoại"
          ],
          [
           "Tai Nghe Bluetooth không dây AP3 Cảm Biến Đa Điểm Không Dây 5.0 Định Vị - Đổi Tên - Sạc Không Dây"
          ],
          [
           "Tai Nghe Bluetooth i12 - Bản Mới Nhất Không Dây Tự Động Kết Nối Đầy Đủ Tính Năng Âm Thanh Chuẩn"
          ],
          [
           "Tai nghe bluetooth HD2 - Tai nghe không dây Full Chức Năng, Đổi Tên, Định Vị, Pin Trâu dùng cho mọi dòng máy"
          ],
          [
           "Tai Nghe Bluetooth PRO- Không Dây Bản Cao Cấp Định Vị, Đổi Tên,Cảm Ứng Dùng Cho Tất Cả Các Máy Điện Thoại"
          ],
          [
           "Tai Nghe Bluetooth Không Dây AQ2 - Tai Nghe Không Dây Bản Cao Cấp Nhất, Nghe Gọi Cực Đỉnh, Có Mic, Đổi Tên-Định Vị ."
          ],
          [
           "Tai Nghe Bluetooth i12 TQS - Không Dây Cảm Ứng Cực Nhạy Đầy đủ Tính Năng Âm Thanh Chuẩn."
          ],
          [
           "Tai Nghe Bluetooth i12 - Bản Mới Nhất Không Dây Tự Động Kết Nối Đầy Đủ Tính Năng Âm Thanh Chuẩn"
          ],
          [
           "Tai Nghe Bluetooth PRO Bản Cao Cấp Định Vị Đổi Tên Tai Nghe Không Dây Tự Động Kết Nối Dùng Cho IOS Và Android"
          ],
          [
           "Tai nghe Bluetooth không dây Pr0 đời mới Âm thanh hay- Cảm ứng - đổi tên cao cấp dùng cho các dòng điện thoại"
          ],
          [
           "Tai Nghe Bluetooth AP2 TWS Không Dây Bản Quốc Tế Định Vị Đổi Tên Tự Động Kết Nối Chạm Cảm Ứng Dùng Cho ĐT"
          ],
          [
           "Tai Nghe Bluetooth PRO - Bản Cao Cấp Định Vị Đổi Tên Tai Nghe Không Dây,Cảm Ứng Dùng Cho Tất Cả Các Máy Điện Thoại"
          ],
          [
           "Tai nghe bluetooth l12 TWS 5.0 tai nghe l12 không dây âm thanh chuẩn HIFI chạm cảm ứng có mic dùng cho mọi điện thoại"
          ],
          [
           "Tai nghe Bluetooth không dâyAleister A68 chống ồn định vị đổi tên chơi game thể thao,tích hợp míc lọc âm khi đàm thoại"
          ],
          [
           "Tai nghe bluetooth l12 TWS 5.0 tai nghe l12 không dây âm thanh chuẩn HIFI chạm cảm ứng có mic dùng cho IOS và Android"
          ],
          [
           "Tai Nghe Bluetooth không dây AP3 Cảm Biến Đa Điểm Không Dây 5.0 Định Vị - Đổi Tên - Sạc Không Dây"
          ],
          [
           "Tai nghe bluetooth EP2, Tai nghe không dây Full Chức Năng, Đổi Tên, Định Vị, Pin Trâu dùng cho mọi dòng máy"
          ],
          [
           "Tai Nghe Bluetooth không dây P3 Cảm Biến Đa Điểm Không Dây 5.0 Định Vị - Đổi Tên - Sạc Không Dây"
          ],
          [
           "Tai Nghe Bluetooth Q2 Cao Cấp Định Vị Đổi Tên Tai Nghe Không Dây Tự Động Kết Nối Chạm Cảm Ứng Dùng Cho IOS Và Android"
          ],
          [
           "Tai Nghe Bluetooth AP2 Cao Cấp Định Vị Đổi Tên Tai Nghe Không Dây Tự Động Kết Nối Chạm Cảm Ứng Dùng Cho IOS Và Android"
          ],
          [
           "Tai nghe bluetooth AlP3 Tai nghe không dây Pin Trâu 4-6h, định vị, đổi tên Dành cho các dòng ĐT và PC, BẢO HÀNH 6 THÁNG"
          ],
          [
           "Tai Nghe Bluetooth AP2 Cao Cấp Định Vị Đổi Tên Tai Nghe Không Dây Tự Động Kết Nối Chạm Cảm Ứng Dùng Cho IOS Và Android"
          ],
          [
           "Tai Nghe Bluetooth M10 Pro, Tai Nghe Không Dây M10 Pro Phiên Bản Nâng Cấp Pin Trâu, Nút Cảm Ứng Tự Động Kết Nối"
          ],
          [
           "Tai Nghe Bluetooth không dây AP3 Cảm Biến Đa Điểm Không Dây 5.0 Định Vị - Đổi Tên - Sạc Không Dây"
          ],
          [
           "Tai Nghe i12 TWS Bluetooth 5.0 Chính Hãng Nghe Nhạc Không Dây Kết Nối Thiệt Bị Nhanh Dễ Sử Dụng"
          ],
          [
           "Tai nghe bluetooth EPR, Tai nghe không dây Full Chức Năng, Đổi Tên, Định Vị,Chống Ồn Pin Trâu Dùng Cho Mọi Dòng Máy"
          ],
          [
           "Tai Nghe Bluetooth R2 - Bản Cao Cấp Nhất - Đầy Đủ Tất Cả Các Chức Năng - Có Micro - Sạc Không Dây - Tặng Vỏ Silicon"
          ],
          [
           "Combo tai nghe bluetooth không dây i12 kèm vỏ bảo vệ bao đựng case tws v5.0 nút cảm ứng âm thanh HIFI có mic đàm thoại"
          ],
          [
           "Tai Nghe Bluetooth R PRO - Chống Ồn ANC Cao Cấp Nhất - Đầy Đủ Các Chức Năng - Sạc Không Dây - Tặng Ốp Silicon Bảo Vệ"
          ],
          [
           "Tai Nghe Bluetooth i12 TWS 5.0 Không Dây Cảm Ứng Cực Nhạy Tăng Chỉnh Âm Lượng 1 Đổi 1 Trong 30 Ngày"
          ],
          [
           "Tai Nghe Bluetooth R3 - Bản Cao Cấp Nhất - Đầy Đủ Tất Cả Các Chức Năng - Có Micro - Sạc Không Dây - Tặng Vỏ Silicon"
          ],
          [
           "Tai Nghe Bluetooth không dây AP3 Cảm Biến Đa Điểm Không Dây 5.0 Định Vị - Đổi Tên - Sạc Không Dây"
          ],
          [
           "Tai nghe bluetooth không dây True WireLess Thế Hệ 3, Pro - Tai Nghe Không Dây Thể Thao TWS Chơi Game Có Mic"
          ],
          [
           "Tai Nghe Bluetooth TWS, Tai Nghe I12 Cảm Ứng Âm Thanh Có Mic Đàm Thoại Bảo Hành 6 Tháng 1 Đổi 1"
          ],
          [
           "Tai nghe không dây Bluetooth TWS AMoi F9 Pro - Chống nước IP67 - Pin 2000maH - Dùng 600 tiếng"
          ],
          [
           "Tai Nghe Bluetooth EP2 Cao Cấp Định Vị Đổi Tên Tai Nghe Không Dây Tự Động Kết Nối - Dùng Cho IOS Và Android"
          ],
          [
           "Tai Nghe Bluetooth M10 Pro Tai Nghe Không M10 Pro Phiên Bản Nâng Cấp Pin Trâu, Nút Cảm Ứng Tự Động Kết Nối"
          ],
          [
           "Tai Nghe Bluetooth Không Dây AQ2 - Tai Nghe Không Dây Bản Cao Cấp Nhất, Nghe Gọi Cực Đỉnh, Có Mic, Đổi Tên-Định Vị ."
          ],
          [
           "Tai Nghe Bluetooth PRO Bản Cao Cấp Định Vị Đổi Tên Tai Nghe Không Dây Tự Động Kết Nối Dùng Cho IOS Và Android"
          ],
          [
           "Tai nghe bluetooth HD2 - Tai nghe không dây Full Chức Năng, Đổi Tên, Định Vị, Pin Trâu dùng cho mọi dòng máy"
          ],
          [
           "Tai Nghe Bluetooth không dây P3 Cảm Biến Đa Điểm Không Dây 5.0 Định Vị - Đổi Tên - Sạc Không Dây"
          ],
          [
           "Tai Nghe Bluetooth i12 TQS - Không Dây Cảm Ứng Cực Nhạy Đầy đủ Tính Năng Âm Thanh Chuẩn."
          ],
          [
           "Tai Nghe Bluetooth PRO - Bản Cao Cấp Định Vị Đổi Tên Tai Nghe Không Dây,Cảm Ứng Dùng Cho Tất Cả Các Máy Điện Thoại"
          ],
          [
           "Tai nghe chụp tai không dây bluetooth STN28 màu sắc cute,âm thanh ấm bass mạnh- Phụ Kiện 123"
          ],
          [
           "Tai nghe bluetooth gaming S10 Pro cao cấp, cảm ứng, hỗ trợ đàm thoại, nghe nhạc, kiêm sạc dự phòng"
          ],
          [
           "Tai Nghe Bluetooth A3 - Chính Hãng NEXTAGE - Âm Thanh Không Gian - Cảm Biến Đa Điểm - Định Vị - Đổi Tên - Sạc Không Dây"
          ],
          [
           "Tai nghe Không dây Amoi F9 / F9 pro - Bluetooth 5.3 - Pin 280 giờ - Chống nước IPX7"
          ],
          [
           "Tai Nghe Mèo Bluetooth P47M, chụp Tai STN28, Tai Mèo Dễ Thương Có Mic, Âm Bass Mạnh Mẽ Nghe Nhạc, Chơi Game Cực Hay"
          ],
          [
           "Tai nghe bluetooth l12 TWS 5.0 tai nghe l12 không dây âm thanh chuẩn HIFI chạm cảm ứng có mic dùng cho IOS và Android"
          ],
          [
           "Tai Nghe Bluetooth không dây AP 3 Cảm Biến Đa Điểm Không Dây 5.0 Định Vị - Đổi Tên - Đầy đủ chức năng ( Bảo hành 6th )"
          ],
          [
           "Tai Nghe Bluetooth M19 Pin 5h (Tặng găng tay) Chống Nước IPX7 Cảm Ứng Nghe Gọi Chống Ồn Tốt Bass Mạnh ( BH 3 Tháng)"
          ],
          [
           "Tai nghe bluetooth không dây Gutek inpods i12 v5.0 nút cảm ứng âm thanh HiFi"
          ],
          [
           "Tai nghe bluetooth tws Inp12/l12 không dây mini kèm vỏ case cute âm thanh hifi cảm ứng thông minh- LinkeeTech"
          ],
          [
           "Tai nghe bluetooth M90 Pro cảm ứng, màn hình led, chống nước, có mic đàm thoại, nghe nhạc, kiêm sạc dự phòng"
          ],
          [
           "Tai Nghe Bluetooth Không Dây i12 inpods12 TWS 5.0 Âm Thanh HIFI, Cửa Sổ Tự Động Kết Nối, Hỗ Trợ Nhiều Dòng Máy"
          ],
          [
           "Tai Nghe Mèo Bluetooth P47M MZ47 Tai Mèo Dễ Thương Có Mic, Âm Bass Mạnh Mẽ Nghe Nhạc Cực Hay FullBox"
          ],
          [
           "Tai nghe bluetooth l12 TWS 5.0 tai nghe không dây âm thanh chuẩn HIFI chạm cảm ứng có mic dùng cho IOS và Android"
          ],
          [
           "Tai nghe Bluetooth AMOI F9 TWS 5.0 bản QUỐC TẾ không dây cảm ứng chống nước IPX5, chống ồn tích hợp sạc dự phòng 2500mAh"
          ],
          [
           "Tai Nghe Chụp Tai Bluetooth P47 - P47M Tai Mèo - Có Khe Cắm Thẻ Nhớ - Có Mic"
          ],
          [
           "Tai Nghe Bluetooth Không Dây, REPI PRO, Cao Cấp Nhất, Đầy Đủ Các Chức Năng, Sạc Không Dây, Tai Nghe REPI PRO"
          ],
          [
           "Tai Nghe Bluetooth M10 Pro Tai Nghe Không M10 Pro Phiên Bản Nâng Cấp Pin Trâu, Nút Cảm Ứng Tự Động Kết Nối"
          ],
          [
           "Tai Nghe Bluetooth F9 Pro Cảm Ứng Thông Minh Playtime Đến 22H Chống Nước Hàng Chính Hãng"
          ],
          [
           "Tai nghe bluetooth F9 Plus TWS 5.0 bản Quốc tế không dây cảm ứng chống nước IPX5, chống ồn tích hợp sạc dự phòng 3500mAh"
          ],
          [
           "TWS Pro 4 Tai Nghe Nhét Tai Không Dây Bluetooth Có Bass Mic Hộp Sạc Tai Nghe Bluetooth 5.0 Cho Hầu Hết Điện Thoại"
          ],
          [
           "Tai nghe bluetooth EPR, Tai nghe không dây Full Chức Năng, Đổi Tên, Định Vị,Chống Ồn Pin Trâu Dùng Cho Mọi Dòng Máy"
          ],
          [
           "Tai nghe bluetooth M19,Tai nghe không dây nhét tai ,Độ Trễ Thấp,Chống Ồn,chống nước, Âm Thanh Hay,Pin 6-8h"
          ],
          [
           "Tai Nghe Bluetooth EP2 Cao Cấp Định Vị Đổi Tên Tai Nghe Không Dây Tự Động Kết Nối - Dùng Cho IOS Và Android"
          ],
          [
           "Tai Nghe Bluetooth không dây AP3 Cảm Biến Đa Điểm Không Dây 5.0 Định Vị - Đổi Tên - Sạc Không Dây"
          ],
          [
           "Tai Nghe Bluetooth M10 Pro Tai Nghe Không M10 Pro Phiên Bản Nâng Cấp Pin Trâu, Nút Cảm Ứng Tự Động Kết Nối"
          ],
          [
           "Tai Nghe Bluetooth AP Pro - Chính Hãng NEXTAGE - Pin 5h Định Vị -Đổi Tên - Chống Ồn - Xuyên Âm - Âm Thanh Không Gian"
          ],
          [
           "Tai nghe bluetooth EP2, Tai nghe không dây Full Chức Năng, Đổi Tên, Định Vị, Pin Trâu dùng cho mọi dòng máy"
          ],
          [
           "Tai Nghe Bluetooth EP2 cao cấp, Tai Nghe không dây Full chức năng, Định Vị, Đổi Tên, Pin Trâu, Dùng cho mọi dòng máy"
          ],
          [
           "Tai Nghe Bluetooth P2 Cao Cấp Định Vị Đổi Tên Tai Nghe Không Dây Tự Động Kết Nối Chạm Cảm Ứng Dùng Cho IOS Và Android"
          ],
          [
           "Tai Nghe Bluetooth Amoi F9 Pro Bản Quốc Tế Cao Cấp, Cảm Biến Vân Tay, Kiêm Sạc Dự Phòng"
          ],
          [
           "Tai nghe IP 7 Hoco L7,chân cắm cáp sạc dẹt hỗ trợ mic đàm thoại dành cho IP 7,8,X,11,12,13 tự động kết nối bluetooth"
          ],
          [
           "Tai nghe bluetooth AMOI F9 TWS 5.0 bản Quốc tế không dây cảm ứng chống nước IPX5, chống ồn tích hợp sạc dự"
          ],
          [
           "Tai Nghe Bluetooth 5.0 Baseus WM02 / Baseus WM01 / Baseus w3 / Baseus W12 TWS Chống Ồn - Hshop365"
          ],
          [
           "Tai nghe Không Dây Baseus Bowie WM01/WM02 TWS Bluetooth 5.3 Điều Khiển Cảm Ứng Loại Bỏ Tiếng Ồn Tai Nghe Chơi Game"
          ],
          [
           "Tai Nghe Bluetooth A2 Bản Cao Cấp - Đầy Đủ Chức Năng - Định Vị - Có Mic - Đổi Tên - Cảm Biến Đa Điểm -Chính Hãng NEXTAGE"
          ],
          [
           "Tai nghe Bluetooth Mini xiaomi True Wireless chính hãng BH-12T free ship toàn quốc"
          ],
          [
           "Tai Nghe Bluetooth Không Dây A3 Pro - Vi Trình 4B - Âm Thanh Vòm - Cảm Biến Đa Điểm - Định Vị - Đổi Tên - Sạc Không Dây"
          ],
          [
           "Tai Nghe Nhét Tai Không Dây Baseus Bowie WM02 Bluetooth 5.3 TWS/ Baseus WM01 TWS Chống Ồn Bluetooth 5.0"
          ],
          [
           "Tai Nghe Bluetooth Không Dây True Wireless F9 PRO Bluetooth 5.0 Bản Quốc Tế Cảm Ứng Chống Nước"
          ],
          [
           "Tai nghe bluetooth không dây TWS cảm ứng điều khiển cảm biến âm thanh HIFI cho tất cả điện thoại"
          ],
          [
           "Tai nghe bluetooth không dây chụp tai Air Max P9 Chống Ồn – Kết Nối Với Tất Cả Các Hệ Điều Hành Androi và IOS - BH 1 năm"
          ],
          [
           "Tai Nghe Bluetooth AMOI F9 TWS 5.0 Không Dây Cao Cấp Chạm Cảm Ứng Pin 2500mAh Chống Nước IPX5 Dùng Cho IOS Và Android"
          ],
          [
           "Tai Nghe Nhét Tai Không Dây M21 Bluetooth 5.3 TWS Chống Ồn Cảm Ứng Dùng Cho IOS Android- LinkeeTech"
          ],
          [
           "Tai Nghe Gaming Apro366 Tws Bluetooth 5.0 - Không Dây Có Mic Với Độ Trễ Thấp - Chính Hãng HD DESIGN"
          ],
          [
           "Tai nghe bluetooth 5.0 True Wireless Amoi F9 Pro bản quốc tế cao cấp cảm biến vân tay , kiêm sạc dự phòng"
          ],
          [
           "Tai nghe Bluetooth Velasboost MAY 2 TWS QCC 3040 Aptx Qualcomm Nhỏ Gọn Pin Trâu dùng cho IOS và Androi"
          ],
          [
           "Tai nghe bluetooth amoi F9 không dây true wireless blutooth TWS"
          ],
          [
           "Tai Nghe Bluetooth l12 Tai nghe không dây l12 âm thanh chuẩn HIFI chạm cảm ứng có mic dùng cho IOS và Android"
          ],
          [
           "Tai nghe bluetooth AP3- Sạc không dây- Cảm Biến Đa Điểm- Pin trâu- Định Vị - Đổi Tên"
          ],
          [
           "Tai Nghe Bluetooth P2 Cao Cấp Định Vị Đổi Tên Tai Nghe Không Dây Tự Động Kết Nối - Dùng Cho IOS Và Android"
          ],
          [
           "Tai nghe Bluetooth i12 TWS 5.0 tai nghe i12 không dây bản Quốc tế âm thanh chuẩn HIFI dùng cho IOS Android"
          ],
          [
           "Tai Nghe Bluetooth Buds 2 Cao Cấp Phiên Bản Mới Sạc Không Dây Âm Thanh Tuyệt Đỉnh - BẢO HÀNH ĐỔI MỚI"
          ],
          [
           "Tai Nghe Bluetooth QP2 TWS Không Dây Bản Quốc Tế Định Vị Đổi Tên Tự Động Kết Nối Chạm Cảm Ứng Dùng Cho ĐT"
          ],
          [
           "Tai Nghe Bluetooth PULIERDE Y08 Chip 5.2 TOPSTORE ,Tai Nghe Chụp Tai Âm Thanh HiFi Có Mic,Chống Ồn Hiệu Quả"
          ],
          [
           "Tai nghe bluetooth chụp tai Led B39 - bluetooth 5.0 tặng kèm jack cắm PC"
          ],
          [
           "Tai Nghe Bluetooth Buds Live Cao Cấp / Tai Nghe Galaxy Buds Live Hạt Đậu Âm Thanh Tuyệt Đỉnh - BẢO HÀNH ĐỔI MỚI"
          ],
          [
           "Tai nghe bluetooth F9 TWS 5.0 bản Quốc tế không dây cảm ứng chống nước IPX5, chống ồn tích hợp sạc dự phòng 2500mAh"
          ],
          [
           "Tai nghe bluetooth không dây JBL Tune 220 TWS, Tai Nghe nhét tai bản Quốc Tế đỉnh cao chống ồn dùng cho IOS Và Android"
          ],
          [
           "Tai nghe Bluetooth nhét tai không dây AP2 thế hệ 2 âm trong bass mạnh kết nối TWS 5.1 định vị đổi tên BH 6 tháng"
          ],
          [
           "Tai nghe bluetooth M90 pro, Tai nghe không dây Gaming M90 pro 5.2 Âm bass cực to Chống ồn Chống nước"
          ],
          [
           "{ BẢN 2022 }Tai Nghe Bluetooth Không Dây Galaxy Buds Pro, Sạc Không Dây, Âm Thanh Tuyệt Đỉnh - BẢO HÀNH ĐỔI MỚI"
          ],
          [
           "Tai nghe Blutooth nhét tai HOCO.EW23 TWS bluetooth 5.3 điều khiển cảm ứng kèm micro-BẢO HÀNH CHÍNH HÃNG"
          ],
          [
           "[Mã ELMALL5 giảm 5% đơn 300K] Tai nghe bluetooth Beartek Bearpods B68 có đổi tên, chạm cảm ứng, bass mạnh"
          ],
          [
           "Tai nghe bluetooth không dây Gutek J18 tws 5.2 IPX5 chạm cảm ứng bass mạnh có mic đàm thoại"
          ],
          [
           "Tai nghe bluetooth f9 ,i12 ,pro4,... tất cả các bản pin trâu âm thanh HD kết nối nhanh với tất cả các dòng máy"
          ],
          [
           "Tai Nghe Bluetooth 5.0 Không Dây Mini Pro 4/5 Tws Tiện Dụng"
          ],
          [
           "Tai Nghe Bluetooth không dây Pro Cảm Biến Đa Điểm Không Dây 5.0 Định Vị - Đổi Tên - Sạc Không Dây hỗ trợ bảo hành 12T"
          ],
          [
           "Tai Nghe Bluetooth Không Dây 5.1 TWS Gaming K86 - Có Mic - Độ Trễ Thấp - Pin Trâu - Chính Hãng HD DESIGN"
          ],
          [
           "Tai Nghe Bluetooth Không Dây Baseus WM02/WM01 - Bluetooth 5.3, Kháng Nước IPX5, Chống Ồn, Nghe Nhạc Liên Tục 25 Giờ"
          ],
          [
           "Tai nghe chụp tai bluetooth Hoco W25 chính hãng pin 300mAh"
          ],
          [
           "Tai nghe bluetooth MARSHALL MODE III Kiểu Dáng Hiện Đại Bass Căng BẢO HÀNH ĐỔI MỚI"
          ],
          [
           "[Mã ELMS10 giảm 6% đơn 50K] Tai Nghe Bluetooth 5.0 Chụp Tai có micro Headphone không dây thời trang màu sắc Y08 DL TECH"
          ],
          [
           "Tai nghe bluetooth không dây Gutek i12 pro v5.0 nút cảm ứng có mic đàm thoại âm thanh HIFI"
          ],
          [
           "Tai Nghe Bluetooth P2 Cao Cấp Định Vị Đổi Tên Tai Nghe Không Dây Tự Động Kết Nối Chạm Cảm Ứng Dùng Cho IOS Và Android"
          ],
          [
           "Tai nghe không dây bluetooth hổ vằn E2 chip louda 1562M check setting cảm biến hồng ngoại pin trâu định vị"
          ],
          [
           "Tai nghe bluetooth không dây TWS Magicsee R11 - Âm Bass to - Âm Treble Trong - Pin Trâu - Sạc Type-C"
          ],
          [
           "Tai Nghe Bluetooth Hoco EW19 FULL V5.1 - Bảo hành 12 tháng"
          ],
          [
           "{BẢN 2022 }Tai Nghe Bluetooth Hạt Đậu BUDS LIVE Phiên Bản Mới Nhất Kiểu Dáng Đỉnh Cao - BẢO HÀNH ĐỔI MỚI"
          ],
          [
           "Tai nghe bluetooth không dây 5TECH TWS thiết kế kiểu dáng nắp mở 2 cánh bay Lamborghini cho âm thanh sống động sắc nét"
          ],
          [
           "Tai nghe Bluetooth AMOI F9 TWS 5.0 bản QUỐC TẾ không dây cảm ứng chống nước IPX5, chống ồn tích hợp sạc dự phòng 2500mAh"
          ],
          [
           "Tai Nghe Ambie Còng Tai Nghe Bluetooth 5.2 Không Dây AM-Mw01 TWS AMTW01 TW-01 Mới Hot 2022"
          ],
          [
           "Tai Nghe Bluetooth AP Pro Gen 2 - Định Vị -Đổi Tên - Chống Ồn - Xuyên Âm - Âm Thanh Không Gian - Chính Hãng NEXTAGE"
          ],
          [
           "Tai Nghe Chụp Tai Bluetooth Headphone Không Dây 5.0 P47 TUEMAN Dễ Thương Trend Tiktok"
          ],
          [
           "Tai nghe bluetooth không dây inpods i12 tws v5.0 cảm ứng âm thanh HIFI micro đàm thoại"
          ],
          [
           "Tai nghe bluetooth AP PRO nhét tai cảm ứng chống ồn kháng nước hỗ trợ sạc không dây full box bảo hành 6 tháng"
          ],
          [
           "Tai Nghe Bluetooth không dây AP3 Cảm Biến Đa Điểm Không Dây 5.0 Định Vị - Đổi Tên - Sạc Không Dây"
          ],
          [
           "Tai Nghe Bluetooth Nhét Tai Thể Thao Không Dây Marshall Mode II Kết Nối Bluetooth Kèm Mic Bảo Hành 12 Tháng"
          ],
          [
           "Tai Nghe Bluetooth 5.0 AUKEY EP-T25 TWS Chống Ồn Sạc không dây IPX5 chống nước Tuổi thọ pin 30H"
          ],
          [
           "FREESHIP_Đơn_50k Tai Nghe Bluetooth AirDots Redmi2 Đen True Wireless Công Nghệ 5.0 Kèm Đốc Sạc ,Cảm Biến Tự Động Kết Nối"
          ],
          [
           "Tai nghe chụp tai mèo bluetooth 5.0 cute, Headphone tai mèo 7 màu led phát sáng không dây có mic chính hãng - MINPRO"
          ],
          [
           "Tai nghe bluetooth phiên bản Pro, Tai nghe không dây Full Chức Năng, Đổi Tên, Định Vị, Pin trâu dùng cho mọi dòng máy"
          ],
          [
           "Tai Nghe Bluetooth A2 Bản Cao Cấp - Đầy Đủ Chức Năng - Định Vị - Sạc Không Dây - Có Mic - Đổi Tên - Cảm Ứng Đa Điểm"
          ],
          [
           "Tai nghe bluetooth Gen 3 AP3 nhét tai âm thanh không gian sống động định vị đổi tên hàng mới full box bảo hành 6 tháng"
          ],
          [
           "Tai Nghe Bluetooth A3 - Âm Thanh Không Gian - Cảm Biến Đa Điểm - Định Vị - Đổi Tên - Sạc Không Dây BẢO HÀNH ĐỔI MỚI"
          ],
          [
           "Tai nghe bluetooth gaming không dây âm bass hay có mic độ trễ thấp - Gutek M2 tws v5.3"
          ],
          [
           "Tai Nghe Mèo Bluetooth P47 P47M, Tai Mèo Chụp Tai Có Mic, Âm Bass Mạnh Mẽ Nghe Nhạc Cực Hay jack cắm 3.5mm"
          ],
          [
           "Tai Nghe Không Dây Baseus W3 Bluetooth Pro 5.0 Âm Thanh Nổi, giảm tiếng ồn, chống thấm nước, độ bền cao"
          ],
          [
           "Tai nghe bluetooth AP Gen2, Tai nghe không dây Full Chức Năng, Đổi Tên, Định Vị, Pin trâu dùng cho mọi dòng máy"
          ],
          [
           "Tai nghe bluetooth Gen3 Hổ vằn Bản Cao Cấp, Full chức năng, Âm thanh cực hay, Pin trâu dùng cho IOS Và Android"
          ],
          [
           "Tai nghe bluetooth Gen2 Hổ vằn Bản Cao Cấp, Full chức năng, Âm thanh cực hay, Pin trâu dùng cho IOS Và Android"
          ],
          [
           "Tai nghe bluetooth AP3, Tai nghe không dây Full Chức Năng, Đổi Tên, Định Vị, dùng cho mọi dòng máy"
          ],
          [
           "Bản Giới Hạn BUDS PLUS 2022 Tai Nghe Bluetooth Cao Cấp Bass Căng Âm Thanh Đỉnh - BẢO HÀNH ĐỔI MỚI"
          ],
          [
           "Tai Nghe Bluetooth AMOI F9 TWS 5.0 Bản QUỐC TẾ Không Dây Cảm Ứng Chống Nước IPX5, Chống Ồn Pin 2500mAh"
          ],
          [
           "Tai nghe bluetooth true Wireless F9 PRO Bluetooth 5.0 Bản Quốc Tế Cảm Ứng Chống Nước Công nghệ âm thanh vovc 8D"
          ],
          [
           "Tai nghe bluetooth gaming S10 Pro cao cấp, cảm ứng, hỗ trợ đàm thoại, nghe nhạc, kiêm sạc dự phòng"
          ],
          [
           "Tai Nghe Bluetooth Không Dây GE04 PLUS Âm Thanh Vòm - Định Vị - Đổi Tên - Sạc Không Dây - Cảm Biến - Chính Hãng HD DES"
          ],
          [
           "Tai nghe bluetooth Hoco ES34 thiết kế tinh tế âm thanh siêu chất Hàng chính hãng Bảo hành 12 tháng"
          ],
          [
           "Tai nghe bluetooth amoi F9 TM Shop không dây true wireless chống ồn dành cho samsung IP chính hãng giá rẻ"
          ],
          [
           "Tai Nghe Bluetooth APT2 TWS Không Dây Bản Quốc Tế Định Vị Đổi Tên Tự Động Kết Nối"
          ],
          [
           "Tai Nghe Bluetooth A2 Bản Cao Cấp - Đầy Đủ Chức Năng - Định Vị - Có Mic - Đổi Tên - Cảm Biến Đa Điểm -Chính Hãng NEXTAGE"
          ],
          [
           "Tai nghe bluetooth không dây M10 Pro bass mạnh nút chạm cảm ứng âm thanh HIFI dùng cho iphone samsung android ios"
          ],
          [
           "Tai Nghe Bluetooth A3 - Chính Hãng NEXTAGE - Âm Thanh Không Gian - Cảm Biến Đa Điểm - Định Vị - Đổi Tên - Sạc Không Dây"
          ],
          [
           "Tai Nghe Bluetooth A3 - Âm Thanh Không Gian - Cảm Biến Đa Điểm - Định Vị - Đổi Tên - Sạc Không Dây BẢO HÀNH ĐỔI MỚI"
          ],
          [
           "Tai Nghe Mèo Bluetooth P47 P47M, Tai Mèo Chụp Tai Có Mic, Âm Bass Mạnh Mẽ Nghe Nhạc Cực Hay jack cắm 3.5mm"
          ],
          [
           "Tai nghe bluetooth gaming không dây âm bass hay có mic độ trễ thấp - Gutek M2 tws v5.3"
          ],
          [
           "Tai Nghe Không Dây Baseus W3 Bluetooth Pro 5.0 Âm Thanh Nổi, giảm tiếng ồn, chống thấm nước, độ bền cao"
          ],
          [
           "Tai nghe bluetooth AP Gen2, Tai nghe không dây Full Chức Năng, Đổi Tên, Định Vị, Pin trâu dùng cho mọi dòng máy"
          ],
          [
           "Tai nghe bluetooth Gen3 Hổ vằn Bản Cao Cấp, Full chức năng, Âm thanh cực hay, Pin trâu dùng cho IOS Và Android"
          ],
          [
           "Tai nghe bluetooth Gen2 Hổ vằn Bản Cao Cấp, Full chức năng, Âm thanh cực hay, Pin trâu dùng cho IOS Và Android"
          ],
          [
           "Tai nghe bluetooth AP3, Tai nghe không dây Full Chức Năng, Đổi Tên, Định Vị, dùng cho mọi dòng máy"
          ],
          [
           "�� AIRPODS 1 2 3 PRO 2022 🌳 Skin Miếng Dán Kim Loại PPF Bảo Vệ Hộp sạc Tai Nghe Bluetooth Airpod Tính Năng Chống Bụi Bẩn"
          ],
          [
           "Bản Giới Hạn BUDS PLUS 2022 Tai Nghe Bluetooth Cao Cấp Bass Căng Âm Thanh Đỉnh - BẢO HÀNH ĐỔI MỚI"
          ],
          [
           "Tai Nghe Bluetooth AMOI F9 TWS 5.0 Bản QUỐC TẾ Không Dây Cảm Ứng Chống Nước IPX5, Chống Ồn Pin 2500mAh"
          ],
          [
           "Vỏ bao đựng bảo vệ tai nghe bluetooth AP 2/3/PRO silicone siêu dễ thương cute, hình cực chất"
          ],
          [
           "Tai nghe bluetooth true Wireless F9 PRO Bluetooth 5.0 Bản Quốc Tế Cảm Ứng Chống Nước Công nghệ âm thanh vovc 8D"
          ],
          [
           "Tai nghe bluetooth gaming S10 Pro cao cấp, cảm ứng, hỗ trợ đàm thoại, nghe nhạc, kiêm sạc dự phòng"
          ],
          [
           "Bóp Bao Đựng Cho Phụ Kiện Tai Nghe Bluetooth Dây Cáp Sạc Iphone Pin Dự Phòng - Awifi Case H1-3"
          ],
          [
           "Vỏ Ốp Case airpod airpods pro bảo vệ, bao đựng tai nghe không dây bluetooth Tặng kèm móc"
          ],
          [
           "Tai Nghe Bluetooth Không Dây GE04 PLUS Âm Thanh Vòm - Định Vị - Đổi Tên - Sạc Không Dây - Cảm Biến - Chính Hãng HD DES"
          ],
          [
           "Tai nghe bluetooth Hoco ES34 thiết kế tinh tế âm thanh siêu chất Hàng chính hãng Bảo hành 12 tháng"
          ],
          [
           "Tai nghe bluetooth amoi F9 TM Shop không dây true wireless chống ồn dành cho samsung IP chính hãng giá rẻ"
          ],
          [
           "Tai Nghe Bluetooth APT2 TWS Không Dây Bản Quốc Tế Định Vị Đổi Tên Tự Động Kết Nối"
          ],
          [
           "Tai Nghe Bluetooth M90 Cảm Ứng Thông Minh Chống Ồn Tốt Bass Mạnh Pin 1200mah- LINKEETECH"
          ],
          [
           "Tai Nghe Bluetooth EP2, Không Dây Bản Cao Cấp, Sạc Không Dây, Định Vị, Đổi Tên,Cảm Ứng Dùng Cho Tất Cả Các Máy"
          ],
          [
           "Tai Nghe Bluetooth HOCO E63 NEW - Bảo hành 12 tháng chính hãng"
          ],
          [
           "Tai nghe dây bluetooth nhét tai cho điện thoại màu trắng chân dẹt có tích hợp micro đàm thoại nghe nhạc"
          ],
          [
           "Tai Nghe Bluetooth Pro Hổ Vằn công nghệ TWS Chip Louda tai nghe nhét tai full chức năng chống ồn định vị đổi tên"
          ],
          [
           "Tai nghe bluetooth Chụp Tai Headphone P47 ⚡Âm Thanh Đỉnh Cao⚡"
          ],
          [
           "Tai Nghe Dây H8 Chính Hãng SD DESIGN dùng cho điện thoại 7 đến 13 Pro Max - Kết Nối Bluetooth Mới Dùng Được"
          ],
          [
           "Vỏ Ốp Case Bảo Vệ Bao Đựng Tai Nghe Không Dây Bluetooth Airpod 1/2/3/Pro/i12/i9/i7/tws - Moncase"
          ],
          [
           "Tai nghe nhét tai Hoco E63 bluetooth 5.0 âm thanh sống động không dây phong cách doanh nhân - Bảo hành 12 tháng"
          ],
          [
           "Tai Nghe Bluetooth GAMING Không Dây X15 TWS, Tai Nghe Chơi Game Không Có Độ Trễ Âm Thanh (Bản Quốc tế 2022)"
          ],
          [
           "Tai Nghe Bluetooth 5.0 Chụp Tai có micro Headphone không dây thời trang màu sắc Y08 Head shop"
          ],
          [
           "Tai nghe bluetooth chụp tai P47, tai nghe không dây tích hợp thẻ nhớ và mic dùng cho tất cả dòng điện thoại, máy tính"
          ],
          [
           "Tai Nghe Bluetooth APro Hổ Vằn 1562AE Chống Ồn ANC 40DB - Xuyên Âm - Âm Thanh Vòm Thật - Pin 8H"
          ],
          [
           "Tai Nghe Chụp Tai ❤️FREESHIP❤️Tai Nghe Tai Mèo Kết Nối Bluetooth BT028C ,Headphone Dễ Thương Có Mic, Âm Bass Mạnh Mẽ"
          ],
          [
           "��💎Tai nghe Bluetooth chụp tai Gaming có míc 💎CAO CẤP💎Chính hãng Remax RB-750HB V5.0 hỗ trợ thẻ nhớ không dây Giá rẻ"
          ],
          [
           "Tai nghe bluetooth không dây i13 tws 5.0 nút cảm ứng âm thanh HIFI micro đàm thoại"
          ],
          [
           "[Mã ELHACE giảm 4% đơn 300K] 🌟🌟Tai Nghe Bluetooth JBL H6 Bản Mới Nhất🌈Chống ồn🌈3 Micro🌈Pin 20H"
          ],
          [
           "Tai Nghe Gaming Bluetooth WEEKOME V51 - Độ trễ cực thấp, Bass mạnh, Thiết kế chuẩn gaming | Bảo hành 12 tháng"
          ],
          [
           "Tai Nghe Có Dây Nhét Tai NAHU Gaming Có Mic Chống Ồn Táo 7 8 Plus X XR XS Max 11 12 13 Pro SE Kết Nối Bluetooth D111"
          ],
          [
           "Tai Nghe Bluetooth S10 Pro Có Vân Tay , Kiêm Sạc Dự Phòng 2200mAh Bản Quốc Tế Pin Cực Trâu - HiNan Shop"
          ],
          [
           "Tai Nghe Bluetooth Công Nghệ V4.0 (Model 2019), Tai Mini Hạt Đậu Siêu Xinh"
          ],
          [
           "[Mã INCU300] IROCK GEN2 LOUDA 1562M - TAI NGHE BLUETOOTH SẠC KHÔNG DÂY - MIC ĐÀM THOẠI"
          ],
          [
           "Combo Tai nghe bluetooth không dây Gutek i12 Pro TWS nút cảm ứng âm thanh HIFI có mic kèm case vỏ bảo vệ bao đựng"
          ],
          [
           "Tai Nghe Chụp Tai Bluetooth P47, Tai Không Dây Có Mic, Có Thẻ Nhớ, Âm Bass Cực Chất, Nghe Nhạc Cực Hay Bảo Hành 6 Tháng"
          ],
          [
           "tai nghe nhét tai bluetooth Ap2 nghe gọi định vị đổi tên chính hãng eshuan"
          ],
          [
           "Tai nghe bluetooth i12 TWS 5.0 cao cấp tai nghe không dây âm thanh chuẩn HIF, cửa sổ tự động kết nối, tai nghe Y12 trắng"
          ],
          [
           "Tai nghe Bluetooth không dây 5.0 MINPRO - AMOI F9 PRO nút cảm biến vân tay chống nước kèm sạc 2.000mAh"
          ],
          [
           "Tai nghe True Wireless Amoi F9 PRO Bluetooth 5.0 | Bản Quốc Tế | Cảm Ứng | Chống Nước"
          ],
          [
           "Tai nghe bluetooth không dây Hoco nghe nhạc liên tục trong 3-5 giờ, công nghệ 5.0, hỗ trợ đàm thoại, định vị, đổi tên"
          ],
          [
           "Tai Nghe Bluetooth Không Dây S11- Tai Nghe Nhét Tai Bluetooth 5.0 Tích Hợp Sạc Dự Phòng 4800mah"
          ],
          [
           "Tai nghe Bluetooth chụp tai có mic T7, Tai nghe không dây bass mạnh, đàm thoại rõ ràng hỗ trợ học tập, giải trí"
          ],
          [
           "Tai Nghe Bluetooth P2 Cao Cấp Định Vị Đổi Tên Tai Nghe Không Dây Tự Động Kết Nối Chạm Cảm Ứng Dùng Cho IOS Và Android"
          ],
          [
           "Tai Nghe Bluetooth Nhiều Màu Sắc Cảm Biến 5.0"
          ],
          [
           "Tai nghe bluetooth không dây Gutek Pro12 tws 5.0 hình minion nút cảm ứng chống ồn nghe nhạc âm thanh HIFI"
          ],
          [
           "Tai Nghe Bluetooth AP3 Chính Hãng NAHU Giá rẻ Không Dây Nhét Tai Có Mic Chống Ồn Dây Nguyên Seal Bảo Hành Lỗi 1 Đổi 1"
          ],
          [
           "Tai Nghe Bluetooth Amoi F9 Pro Bản Quốc Tế Cao Cấp, Cảm Biến Vân Tay, Kiêm Sạc Dự Phòng, Chống Nước, Chống Ồn"
          ],
          [
           "Tai Nghe ai phôn dùng cho 7/8/7 Plus/8 Plus/X/Xsmax/11promax/12/13promax/14promax Tự Bắt Bluetooth"
          ],
          [
           "[Mã ELMALL5 giảm 5% đơn 300K] Tai nghe không dây Baseus Bowie WM02 True Wireless Earphones (Bluetooth V5.3, 25h sử dụng)"
          ],
          [
           "[Mã ELHACE giảm 4% đơn 300K] Tai Nghe Bluetooth BUDS LIVE Phiên Bản Mới Nhất - BẢO HÀNH ĐỔI MỚI"
          ],
          [
           "Tai nghe Bluetooth không dây đeo quàng cổ Bluetooth 5.2 thể thao pin trâu từ tính khử tiếng ồn mã G01 Gemini Shop"
          ],
          [
           "Tai nghe Bluetooth AMOI F9 TWS 5.0 bản QUỐC TẾ không dây cảm ứng chống nước IPX5, chống ồn tích hợp sạc dự phòng 2500mAh"
          ],
          [
           "Tai nghe bluetooth gaming S10 Pro cao cấp, cảm ứng, hỗ trợ đàm thoại, nghe nhạc, kiêm sạc dự phòng 2200mAh - Audio365"
          ],
          [
           "Tai nghe không dây bluetooth P3 Pro chất lượng âm thanh trầm tuyệt vời tích hợp micro- LinkeeTech"
          ],
          [
           "Tai nghe gaming bluetooth không dây TWS có mic độ trễ thấp pin trâu âm bass mạnh mẽ - Gutek G7S"
          ],
          [
           "Tai Nghe Bluetooth Pro 4, Tai Nghe Không Dây Nhét Tai Bluetooth 5.0 Bản Quốc Tế Tương Thích Tất Cả Dòng Máy"
          ],
          [
           "Tai Nghe Bluetooth Pro 6 - Tai Nghe Không Dây Nhét Tai Bluetooth 5.0 Nhiều Màu Sắc Tương Thích Tất Cả Dòng Máy"
          ]
         ],
         "hovertemplate": "location=Hà Nội<br>selling_price=%{x}<br>star=%{y}<br>name=%{customdata[0]}<extra></extra>",
         "legendgroup": "Hà Nội",
         "marker": {
          "color": "#636efa",
          "symbol": "circle"
         },
         "mode": "markers",
         "name": "Hà Nội",
         "orientation": "v",
         "showlegend": true,
         "type": "scatter",
         "x": [
          272000,
          242000,
          312000,
          146500,
          164500,
          284500,
          312000,
          279000,
          177000,
          164500,
          329500,
          324500,
          334500,
          374500,
          159000,
          104500,
          149500,
          349500,
          117500,
          149500,
          289500,
          294500,
          450000,
          294500,
          242000,
          319500,
          79500,
          304500,
          699000,
          32000,
          799000,
          164500,
          599000,
          386500,
          155000,
          77500,
          149500,
          117500,
          242000,
          279000,
          329500,
          284500,
          149500,
          177000,
          374500,
          38000,
          229000,
          470000,
          49500,
          73500,
          156500,
          1000,
          215000,
          36000,
          44500,
          222000,
          34500,
          12500,
          34500,
          137500,
          31500,
          317500,
          194500,
          144000,
          54500,
          182000,
          304500,
          239000,
          117500,
          386500,
          242000,
          445000,
          117500,
          297000,
          294500,
          107000,
          210000,
          232500,
          124000,
          134000,
          357000,
          198000,
          340000,
          124000,
          49500,
          29000,
          199500,
          234500,
          229500,
          204500,
          134500,
          1500000,
          200000,
          162000,
          283000,
          117500,
          154000,
          581500,
          334500,
          39500,
          174500,
          563000,
          232500,
          340000,
          95000,
          237705,
          583500,
          521500,
          473500,
          314500,
          40000,
          234000,
          390000,
          349500,
          137000,
          249000,
          531500,
          124500,
          64500,
          274000,
          262500,
          335000,
          324000,
          558000,
          434000,
          205000,
          435000,
          624500,
          29500,
          31500,
          99000,
          142500,
          491500,
          570000,
          219500,
          39500,
          132500,
          294000,
          99000,
          388000,
          84500,
          10000,
          324500,
          107500,
          399500,
          249500,
          376000,
          403000,
          229500,
          154500,
          300000,
          94500,
          359000,
          49500,
          312000,
          357000,
          49500,
          470000,
          388000,
          10000,
          84500,
          324500,
          107500,
          399500,
          249500,
          376000,
          3750,
          403000,
          229500,
          49000,
          154500,
          300000,
          14000,
          4500,
          94500,
          359000,
          49500,
          312000,
          239500,
          119500,
          157500,
          45000,
          147500,
          73500,
          147000,
          10000,
          167500,
          56000,
          41000,
          104000,
          482500,
          360500,
          552500,
          32000,
          450000,
          392500,
          29500,
          262000,
          13500,
          240000,
          149500,
          87000,
          299000,
          154000,
          127500,
          164000,
          464000,
          49500,
          399000,
          294500,
          30000,
          317000,
          364500,
          144500,
          69500,
          181055,
          482500,
          19950,
          148500,
          234500,
          49500,
          249500,
          46000,
          184500
         ],
         "xaxis": "x",
         "y": [
          4.2,
          4.3,
          4.7,
          4.8,
          4.1,
          4.8,
          4.2,
          4.9,
          4.5,
          4.2,
          4.9,
          4.3,
          4.5,
          4.5,
          4.9,
          4.3,
          4.6,
          4.8,
          4.7,
          4.7,
          5,
          4.6,
          4.5,
          4.6,
          4.9,
          4.2,
          4.5,
          4.4,
          4.4,
          4.3,
          4.2,
          4.8,
          4.5,
          4.5,
          4.7,
          4.4,
          4.3,
          4.7,
          4,
          4.6,
          4.9,
          4.3,
          4.4,
          4.7,
          4.2,
          4.5,
          4.1,
          4,
          4.9,
          4.6,
          4,
          4.3,
          4.8,
          5,
          4.6,
          4.9,
          4.4,
          4.6,
          4.6,
          4.6,
          4.8,
          4.7,
          4.9,
          4.8,
          4.8,
          4.3,
          4.7,
          4.6,
          4.7,
          4.2,
          4.8,
          4.8,
          4.8,
          4.2,
          4.9,
          4.2,
          4.2,
          4.1,
          4.3,
          4.7,
          4.2,
          5,
          4.1,
          4.6,
          4.6,
          4.8,
          4.3,
          5,
          4.3,
          4.3,
          4.3,
          4.5,
          4.4,
          4.1,
          4.8,
          4.6,
          5,
          4.7,
          4.8,
          4.3,
          4.1,
          4.2,
          4.3,
          4.2,
          4.2,
          4.2,
          4.8,
          4.1,
          4.7,
          4.9,
          4.7,
          4.2,
          4.8,
          4.9,
          4.6,
          4.6,
          4.9,
          4.6,
          4.5,
          4.2,
          4.7,
          4.7,
          4.6,
          4.3,
          4.1,
          5,
          4.5,
          4.3,
          4.2,
          4.9,
          4.1,
          4.6,
          4.3,
          4.3,
          4.5,
          4.7,
          4.1,
          4.3,
          4.8,
          4.5,
          4.6,
          4.8,
          4.1,
          4.2,
          4.8,
          5,
          4.9,
          4.1,
          4.2,
          4.8,
          4.6,
          4.3,
          4.4,
          4.3,
          4.7,
          4.9,
          4.5,
          4.9,
          4.3,
          4.8,
          4.9,
          4.4,
          4.3,
          4.5,
          4.7,
          4.9,
          4.3,
          4.8,
          4.9,
          4.4,
          4.3,
          4.4,
          5,
          4.2,
          4.3,
          4.3,
          4.6,
          4.2,
          4.7,
          4.3,
          4.6,
          4.9,
          4,
          4.7,
          4.9,
          4.6,
          4.4,
          4.1,
          4.6,
          4.6,
          4.6,
          4.8,
          4.1,
          4.8,
          4.7,
          4.5,
          4.2,
          4.9,
          4,
          4.3,
          4.8,
          4.6,
          4.3,
          4.2,
          4.3,
          4.7,
          4.6,
          4.4,
          4.2,
          5,
          4.7,
          4.7,
          4.2,
          4.5,
          4.2,
          4.2,
          4.7,
          4.1,
          1.4,
          1.8,
          1.7,
          3.6,
          3.2,
          3.3
         ],
         "yaxis": "y"
        },
        {
         "customdata": [
          [
           "Tai Nghe Bluetooth Công Nghệ Mới Âm Thanh Sống Động Không Dây J12 Phiên Chuẩn Bản Quốc Tế J12_Mau -xanhrongnjnj"
          ],
          [
           "Tai Nghe Bluetooth P2 Cao Cấp Định Vị Đổi Tên Tai Nghe Không Dây Tự Động Kết Nối - Dùng Cho IOS Và Android MÃ A2"
          ],
          [
           "Tai nghe Bluetooth AMOI F9 TWS 5.0 bản QUỐC TẾ không dây cảm ứng chống nước ,chống ồn tích hợp sạc dự phòng 2500mA MÃ F9"
          ],
          [
           "Tai Nghe Bluetooth Công Nghệ Mới Âm Thanh Sống Động Không Dây J12 Phiên Chuẩn Bản Quốc Tế - J12_Trang xanhrongnjnj"
          ],
          [
           "Tai Nghe Bluetooth True Wireless F9 PRO Bluetooth 5.0 | Bản Quốc Tế | Cảm Ứng | Chống Nước(Loại mới)"
          ],
          [
           "Tai Nghe Bluetooth P2 Cao Cấp Định Vị Đổi Tên Tai Nghe Không Dây Tự Động Kết Nối - Dùng Cho IOS Và Android MÃ A2"
          ],
          [
           "Tai Nghe Bluetooth không dây AP3 Cảm Biến Đa Điểm Không Dây 5.0 Định Vị - Đổi Tên - Sạc Không Dây MÃ A3"
          ],
          [
           "Tai Nghe Bluetooth True Wireless F9 PRO Bluetooth 5.0 | Bản Quốc Tế | Cảm Ứng | Chống Nước(Loại mới)"
          ],
          [
           "[Loại tốt] Tai nghe Bluetooth không dây đời mới Âm thanh hay- Cảm ứng - đổi tên cao cấp"
          ],
          [
           "Tai Nghe Bluetooth M10 Pro Tai Nghe Không M10 Pro Phiên Bản Nâng Cấp Pin Trâu, Nút Cảm Ứng Tự Động Kết Nối mã m10"
          ],
          [
           "Tai Nghe Bluetooth True Wireless F9 PRO Bluetooth 5.0 | Bản Quốc Tế | Cảm Ứng | Chống Nước(Loại mới) MÃ F9 PRO"
          ],
          [
           "Tai Nghe Bluetooth P2 Cao Cấp Định Vị Đổi Tên Tai Nghe Không Dây Tự Động Kết Nối - Dùng Cho IOS Và Android MÃ A2"
          ],
          [
           "Tai Nghe Bluetooth P2 Cao Cấp Định Vị Đổi Tên Tai Nghe Không Dây Tự Động Kết Nối - Dùng Cho IOS Và Android MÃ A2"
          ],
          [
           "Tai Nghe Bluetooth không dây AP3 Cảm Biến Đa Điểm Không Dây 5.0 Định Vị - Đổi Tên - Sạc Không Dây MÃ A3"
          ],
          [
           "Tai nghe Bluetooth AMOI F9 TWS 5.0 bản QUỐC TẾ không dây cảm ứng chống nước ,chống ồn tích hợp sạc dự phòng 2500mA MÃ F9"
          ],
          [
           "Tai nghe bluetooth S10 Pro V5.2 cao cấp, cảm ứng vân tay, Chống nước IPX7 , nghe nhạc 10h, kiêm sạc dự phòng MÃ S10"
          ],
          [
           "Tai nghe bluetooth SGC SM10 Pin Trâu 3500maH âm thanh trung thực, đèn Led đẹp mắt, hộp sạc có màn hình"
          ],
          [
           "Tai Nghe Bluetooth True Wireless F9 PRO Bluetooth 5.0 | Cảm Ứng | Bản Quốc Tế 2022 Nút Cảm Ứng Chống Nước IP67"
          ],
          [
           "Tai Nghe Bluetooth GEN 3 1562E l Âm Thanh Hay l Định vị - Đổi tên l Tháo Tai Ngắt Kết Nối l Chuyển Đổi Đa Thiết Bị"
          ],
          [
           "Tai Nghe Bluetooth J12 TWS 5.0 Có Micro Không Dây Nghe Gọi Thanh Sống Động Kết Nối Mạnh Mẽ - J12_Trang aluca_store"
          ],
          [
           "Tai Nghe Bluetooth Không Dây X15 TWS 5.0 Có Micro Nghe Gọi Cảm Ứng Chạm Chơi Game Giảm Tiếng Ồn - X15 aluca_store"
          ],
          [
           "Tai nghe bluetooth Âm Thanh Sống Động Hay Không Dây J12 Phiên Bản Quốc Tế Có Mic Nghe Gọi Tốt - J12_Trang- Datoo_shop"
          ],
          [
           "Tai Nghe Bluetooth không dây P3 Cảm Biến Đa Điểm Không Dây 5.0 Định Vị - Đổi Tên - Sạc Không Dây MÃ A3"
          ],
          [
           "Tai Nghe Bluetooth P PRO- Không Dây Bản Cao Cấp Định Vị, Đổi Tên,Cảm Ứng Dùng Cho Tất Cả Các Máy Điện Thoại MÃ A PRO"
          ],
          [
           "Tai nghe Bluetooth Gaming Không dây X15 TWS công nghệ Bluetooth 5.0 cảm biến chạm, không có độ trễ âm (Bản Quốc tế 2022)"
          ],
          [
           "Tai Nghe Không Dây Bluetooth Thể Thao X15 TWS 5.0 Nghe Nhạc, Chơi Game Độ Trể Thấp - X15 vibes_shop"
          ],
          [
           "Tai Nghe Bluetooth Chính Hãng I12 Không Dây Nhét Tai Phụ Kiện Tai Nghe Điện Thoại IOS Và Android phanduyen25"
          ],
          [
           "Tai Nghe TWS Bluetooth 5.3 M90 Pro - Độ trễ cực thấp, âm thanh nổi thể thao với thanh trượt hiển MÃ M90"
          ],
          [
           "Tai nghe bluetooth SGC SM10 Pin Trâu 3500maH âm thanh trung thực, đèn Led đẹp mắt, hộp sạc có màn hình"
          ],
          [
           "Tai nghe không dây Disney x Tsum Tsum D10 LK-10 bluetooth 5.2 5.3 độ trễ thấp có micro hỗ trợ chơi game chống nước"
          ],
          [
           "Tai nghe bluetooth gaming i12 tws chống ồn, tay nghe không dây nhét tai thể thao giá rẻ cho samsung phone điện thoại"
          ],
          [
           "Tai nghe không dây F9 Tws 5.0 bản quốc tế không dây cảm ứng, tai nghe bluetooth f9 chống nước (ma f9)"
          ],
          [
           "Tai nghe Bluetooth Thế Hệ Mới - Tai Nghe Không Dây- Âm Thanh HD9.0"
          ],
          [
           "Tai Nghe Bluetooth True Wireless F9 PRO Bluetooth 5.0 | Bản Quốc Tế | Cảm Ứng | Chống Nước(Loại mới)"
          ],
          [
           "Tai Nghe Bluetooth Gaming Có Mic Âm Thanh Nổi Hifi Headphone Không Dây Bluetooth Chơi Game, Học Online"
          ],
          [
           "Tai Nghe Bluetooth Âm Thanh Sống Động Hay Không Dây J12 Phiên Bản Quốc Tế Có Mic Nghe Gọi Tốt - J12_Trang- Datoo_shop"
          ],
          [
           "Tai nghe mèo Chụp tai chơi game ONIKUMA K9 hồng có Mic,cho PC Laptop Máy tính,Tay Headphone Bluetooth Gaming Không dây"
          ],
          [
           "Tai nghe Bluetooth Chụp Tai Sendem K33, Headphone Không Dây, Có Khe Cắm Thẻ Nhớ - Cửa Hàng Phụ Kiện Online"
          ],
          [
           "Tai Nghe Gaming K98, Bluetooth, Bass Hay, Độ Trễ Thấp - Cửa hàng phụ kiện online"
          ],
          [
           "Tai Nghe Không Dây Pro 6 TW5.0, Tai Nghe Bluetooth, Cảm Biến, Đổi Tên, Hỗ Trợ Tất Cả HĐH"
          ],
          [
           "Tai Nghe Bluetooth AB 3 - Âm Thanh Không Gian - Cảm Biến Đa Điểm - Định Vị - Đổi Tên - Sạc Không Dây- BH 1 Đổi 1"
          ],
          [
           "Tai Nghe Bluetooth AB 2 Bản Cao Cấp Âm Thanh Chuẩn Tai Nghe Không Dây Kết Nối Tự Động Dùng Cho Mọi dòng điện thoại"
          ],
          [
           "Tai nghe Bluetooth Lenovo XT80 Tai nghe thể thao không dây Bluetooth 5.3 với Móc micrô âm thanh nổi HiFi"
          ],
          [
           "Tai nghe Bluetooth Gaming 5.1 kèm găng tay game cao cấp, tai nghe không dây X7 không trễ âm có chế độ kép ( Bản quốc tế)"
          ],
          [
           "[Mã ELMALL4 giảm 4% đơn 500K] Tai Nghe Không Dây TWS Enco X2 - Hàng Chính Hãng"
          ],
          [
           "Siêu Phẩm Tai Nghe Bluetooth Hỗ Vằn 1562M TWS2 - Bản Đa Chức Năng, Xuyên Âm, Chống Ồn, Pin 8h - TSMART"
          ],
          [
           "[HEADSET] Tai nghe Jabra Evolve 40 Stereo MS (Type A)"
          ],
          [
           "Tai nghe Bluetooth Sony h.ear in 2 WI-H700 Sport Màu ĐEN 🔥FREESHIP🔥 âm thanh chuẩn HIFI bass treble rõ ràng"
          ],
          [
           "CHÍNH HÃNG Tai nghe Bluetooth V5.0 Hoco DES08, DES08 Pro hỗ trợ hạn chế tiếng ồn, cảm biến, định vị, đổi tên poogroup"
          ],
          [
           "Tai nghe bluetooth VG58 phát sáng-Tai nghe không dây bluetooth 5.1 MÃ VG58"
          ],
          [
           "Tai Nghe Bluetooth J12 TWS 5.0 Có Micro Không Dây Nghe Gọi Cảm Ứng Chạm Âm Thanh Sống Động - J12_Trang"
          ],
          [
           "Tai Nghe Bluetooth 5.0 Không Dây i12,Kèm Vỏ Bảo Vệ Hoạt Hình Siêu Dễ Thương, Tương Thích Android\\iOs"
          ],
          [
           "Tai nghe Bluetooth chơi game 5.0 pro4 HiFi âm nhạc Giảm tiếng ồn tốt Ko có độ trễ và Chống nước mang theo tiện lợi"
          ],
          [
           "Tai nghe Bluetooth không dây i7s-Tws loại 2 tai nghe Có Mic Đàm Thoại kèm hộp sạc âm thanh cực hay"
          ],
          [
           "Tai Nghe TWS Defunc True Basic, Bluetooth 5.2, Cảm Ứng, Kháng Nước IPX4, Nghe Đến 22H - Chính Hãng BH 12 Tháng Dizigear"
          ],
          [
           "Tai Nghe Bluetooth X15 TWS 5.0 Có Micro Không Dây Nghe Gọi Cảm Ứng Chạm Âm Thanh Sống Động - X15 - Hoaingocaz97"
          ],
          [
           "Tai nghe bluetooth Borofone BW03 TWS V5.0⚡️ Hàng chính hãng⚡️Bảo hành 6 tháng"
          ],
          [
           "Tai Nghe Bluetooth True WIreless TWS Cảm Ứng TCT-S18 Chống Ồn ENC - Mic Đàm Thoại- Chế Độ Nhạc vs Gaming -Chỉnh Âm ượng"
          ],
          [
           "Tai nghe bluetooth VG58 phát sáng-Tai nghe không dây bluetooth 5.1 MÃ VG58"
          ],
          [
           "Tai Nghe Bluetooth J12 TWS 5.0 Có Micro Không Dây Nghe Gọi Cảm Ứng Chạm Âm Thanh Sống Động - J12_Trang"
          ],
          [
           "Hộp bao vỏ đựng tai nghe tai phone có dây in ear, cáp sạc, tai nghe airpods 1/2 bluetooth blutooth inpods i12 dễ thương"
          ],
          [
           "Tai Nghe Bluetooth 5.0 Không Dây i12,Kèm Vỏ Bảo Vệ Hoạt Hình Siêu Dễ Thương, Tương Thích Android\\iOs"
          ],
          [
           "Tai nghe Bluetooth chơi game 5.0 pro4 HiFi âm nhạc Giảm tiếng ồn tốt Ko có độ trễ và Chống nước mang theo tiện lợi"
          ],
          [
           "Vỏ ốp case Airpod silicon trong suốt bảo vệ bao đựng tai nghe không dây bluetooth 1/2/Pro/i12/i9/i7/tws - ORIO"
          ],
          [
           "Tai nghe Bluetooth không dây i7s-Tws loại 2 tai nghe Có Mic Đàm Thoại kèm hộp sạc âm thanh cực hay"
          ],
          [
           "Tai Nghe TWS Defunc True Basic, Bluetooth 5.2, Cảm Ứng, Kháng Nước IPX4, Nghe Đến 22H - Chính Hãng BH 12 Tháng Dizigear"
          ],
          [
           "Tai nghe bluetooth Borofone BW03 TWS V5.0⚡️ Hàng chính hãng⚡️Bảo hành 6 tháng"
          ],
          [
           "Tai Nghe Bluetooth X15 TWS 5.0 Có Micro Không Dây Nghe Gọi Cảm Ứng Chạm Âm Thanh Sống Động - X15 - Hoaingocaz97"
          ],
          [
           "Tai Nghe Bluetooth Không Dây Chính Hãng I12 Nhét Tai Phụ Kiện Tai Nghe Điện Thoại IOS Và Android | I12 Saka.Shop99"
          ],
          [
           "0Tai nghe bluetooth S10 Pro V5.2 cao cấp, cảm ứng vân tay, âm thanh cực hay"
          ],
          [
           "Tai Nghe Bluetooth 5.0 i12 TWS - Cảm Biến Vân Tay, Chất Âm Êm, Trong Trẻm Thời Lương Pin Tốt, Sang Trọng hhbt25"
          ],
          [
           "Tai nghe bluetooth không dây Inpods i12 TWS cảm ứng điều khiển,tai phone bluetooth i12 cảm biến âm thanh cho Android iOS"
          ],
          [
           "Tai nghe bluetooth chụp tai có micro chơi game. Tai nghe không dây gaming B39 âm thanh sống động pin trâu"
          ],
          [
           "Tai Nghe Bluetooth J12 TWS 5.0 Có Micro Không Dây Nghe Gọi Thanh Sống Động Kết Nối Mạnh Mẽ J12_Mau -aluca_store"
          ],
          [
           "Tai Nghe Bluetooth Không Dây F9 Pro TWS 5.0 Có Micro Nghe Gọi Cảm Ứng Chạm Chơi Game Giảm Tiếng Ồn - F9Pro aluca_store"
          ],
          [
           "Tai Nghe Bluetooth Không Dây F9 TWS 5.0 Có Micro Nghe Gọi Cảm Ứng Chạm Chơi Game Giảm Tiếng Ồn - F9 aluca_store"
          ],
          [
           "Tai Nghe Bluetooth Không Dây TWS 5.0 Có Micro Nghe Gọi Cảm Ứng Chạm Chơi Game Giảm Tiếng Ồn - PR04 aluca_store"
          ],
          [
           "Tai Nghe Bluetooth Công Nghệ Mới Âm Thanh Sống Động Không Dây Phiên Chuẩn Bản Quốc Tế - PR04- Dongocdanymzx9599"
          ],
          [
           "Tai nghe bluetooth Hoco (es)ES39 phiên bản đặc biệt, kết nối không dây hỗ trợ định vị, đổi tên - BH 12 thang"
          ],
          [
           "Tai Nghe Không Dây Bluetooth Thể Thao J12 TWS 5.0 Nghe Nhạc, Chơi Game Độ Trể Thấp J12_Mau -aluca_store"
          ],
          [
           "Tai Nghe Bluetooth Công Nghệ Mới Âm Thanh Sống Động Không Dây J12 Phiên Chuẩn Bản Quốc Tế J12_Mau - Vibes_shop"
          ],
          [
           "Tai nghe Bluetooth không dây Lenovo LP40/LP40 Pro. Hàng chính hãng"
          ],
          [
           "Tai Nghe Bluetooth 5.3 Baseus WM01, chống ồn, chống nước,chuyên cho nhạc sàn và chơi game,bảo hành 12 tháng"
          ],
          [
           "tai nghe bluetooth không dây j12 TWS 5.0 Có Micro Nghe Gọi Cảm Ứng Chạm Chơi Game Giảm Tiếng Ồn - J12_Trang aluca_store"
          ],
          [
           "Tai nghe bluetooth không dây Inpods Pro i13 TWS gaming nhét tai, tai phone blutooth giá rẻ cho IP, Android/iOs Sagopy"
          ],
          [
           "Tai nghe bluetooth chụp tai mini GrownTech P47 có mic thu âm bass to bảo hành 24 tháng"
          ],
          [
           "Tai nghe thể thao Bluetooth uốn dẻo 360 độ, hỗ trợ thẻ nhớ lên tới 32G tiện lợi, kết nối Bluetooth 5.0 thông minh MK-87"
          ],
          [
           "Tai nghe không dây Bluetooth 5.2 chip chuyên gaming chế độ kép chơi game nghe nhạc chống nước in-ear"
          ],
          [
           "Tai Nghe Chụp Tai Bluetooth P47, Tai Không Dây Có Mic, Có khe Thẻ Nhớ, Âm Bass Cực Chất, Nghe Nhạc Cực Hay"
          ],
          [
           "tai nghe bluetooth doraemon in-ear không dây âm thanh nổi hai tai thể thao tai nghe bluetooth tws Bluetooth giảm ồn thoải mái có mic gọi được chống nước cho Android IOS"
          ]
         ],
         "hovertemplate": "location=TP. Hồ Chí Minh<br>selling_price=%{x}<br>star=%{y}<br>name=%{customdata[0]}<extra></extra>",
         "legendgroup": "TP. Hồ Chí Minh",
         "marker": {
          "color": "#EF553B",
          "symbol": "circle"
         },
         "mode": "markers",
         "name": "TP. Hồ Chí Minh",
         "orientation": "v",
         "showlegend": true,
         "type": "scatter",
         "x": [
          137500,
          117500,
          145000,
          82500,
          159500,
          112500,
          270000,
          134500,
          379500,
          67500,
          100000,
          117500,
          112500,
          270000,
          145000,
          160000,
          265000,
          135000,
          395000,
          119000,
          244500,
          82500,
          289000,
          299000,
          69500,
          172500,
          129000,
          172000,
          265000,
          150000,
          16450,
          169500,
          327500,
          159500,
          74500,
          7500,
          224500,
          282500,
          112500,
          209500,
          299000,
          249000,
          289000,
          50000,
          3790000,
          424800,
          1000000,
          17000,
          381500,
          140000,
          99500,
          33000,
          169000,
          85000,
          619500,
          213500,
          413500,
          729500,
          140000,
          99500,
          10950,
          33000,
          169000,
          20000,
          85000,
          619500,
          413500,
          213500,
          103950,
          64500,
          113000,
          52500,
          75000,
          147000,
          212500,
          202500,
          257500,
          84500,
          336000,
          142000,
          119000,
          93000,
          143000,
          137500,
          44500,
          119500,
          95000,
          192000,
          29000,
          740000
         ],
         "xaxis": "x",
         "y": [
          4.3,
          4.1,
          4.9,
          4.6,
          4.8,
          4.1,
          4.8,
          4.7,
          4.2,
          4.8,
          4.8,
          4.8,
          4.1,
          4.9,
          4.6,
          4,
          4.9,
          4.5,
          4.9,
          4.3,
          4.5,
          4.5,
          4.1,
          4.1,
          4.9,
          4,
          4.2,
          4.9,
          4.7,
          4.6,
          4.8,
          4.3,
          4.3,
          4.7,
          4.4,
          4.1,
          4,
          5,
          4.2,
          4.4,
          4.9,
          4.9,
          4.1,
          4.8,
          4.7,
          4.6,
          4.3,
          4.2,
          4.9,
          5,
          4.5,
          4.4,
          4.2,
          4.5,
          4.8,
          4.4,
          4.1,
          4.7,
          4,
          4.8,
          4.4,
          4.6,
          4.4,
          4.7,
          4.9,
          4.4,
          4.6,
          4.4,
          4.5,
          4.4,
          4.8,
          4.1,
          5,
          4.1,
          4.1,
          4.4,
          4,
          4.3,
          4.3,
          4.2,
          4.1,
          4.1,
          4.5,
          4.3,
          4.1,
          4,
          1.4,
          3.5,
          3.5,
          3.4
         ],
         "yaxis": "y"
        },
        {
         "customdata": [
          [
           "Tai Nghe Bluetooth 5.3 Baseus WM01 TWS Chống Ồn"
          ],
          [
           "Tai nghe nhét tai không dây BASEUS WM02 bluetooth 5.3 TWS chống ồn"
          ],
          [
           "Tai Nghe Bluetooth Lenovo LP40 Pro Bluetooth 5.1 có chất lượng âm thanh tốt và tích hợp micro"
          ],
          [
           "Tai nghe nhét tai Lenovo disney f9 bluetooth không dây âm thanh hifi có micro màn hình hd 5.2"
          ],
          [
           "Tai nghe bluetooth Lenovo LP40 PRO 2021 mới bản LP40 không dây Bluetooth 5.1 tws IPX5 chống ồn TWS 300mah"
          ],
          [
           "tai nghe bluetooth không dây tai nghe i12 chính hãng dùng được cho ios và tai nghe bluetooth android i12 tai nghe"
          ],
          [
           "Tai Nghe Nhét Tai Không Dây Vitog Airdots A6S Bluetooth 5.0 Chống Tiếng Ồn Cho Điện Thoại"
          ],
          [
           "Tai Nghe Bluetooth 5.0 I7S Thiết Kế ko dây Tws Kèm Hộp Sạc Cao Cấp"
          ],
          [
           "Tai nghe nhét tai Pro 6 bluetooth không dây âm thanh hifi có micro màn hình hd 5.2"
          ],
          [
           "Tai nghe không dây Disney Lenovo F6 Bluetooth giảm ồn thoải mái có mic gọi được chống nước cho Android IOS"
          ],
          [
           "Tai nghe Nkodok nhét tai không dây bluetooth mini"
          ],
          [
           "Tai Nghe Bluetooth Không Dây I7S Tws Phù Hợp Với Android IOS"
          ],
          [
           "Tai Nghe Bluetooth Không Dây TWS 12 Màu Sắc Kèm Hộp Sạc"
          ],
          [
           "Tai nghe không dây Lenovo LK-10 TWS HIFI Bluetooth 5.2 giảm ồn kiểu thể thao chống nước có micro pin mạnh"
          ],
          [
           "Tai Nghe bluetooth Không Dây TZUZL TWS Chống Thấm Nước"
          ],
          [
           "Tai nghe không dây X15 Bluetooth âm thanh hifi sống động điều khiển cảm ứng không trễ cao cấp"
          ],
          [
           "Tai nghe bluetooth Lenovo LP5 âm trầm tuyệt vời chống thấm nước tích hợp micro tiện dụng"
          ],
          [
           "Tai nghe nhét tai Lenovo disney f9 bluetooth không dây âm thanh hifi có micro màn hình hd 5.2"
          ],
          [
           "Tai nghe Lenovo TH10 Bluetooth âm thanh nổi giảm ồn thoải mái chống nước có mic cho Android IOS PC"
          ],
          [
           "Tai Nghe Không Dây Bluetooth 5.0 JL- i7 Tws Kiểu Dáng Thể Thao Tích Hợp Micro Kèm Hộp Sạc"
          ],
          [
           "Tai nghe không dây Lenovo LP40 Pro Bluetooth 5.1 âm thanh nổi HD giảm ồn thông minh có mic cảm ứng chống nước"
          ],
          [
           "Tai nghe Bluetooth DISNEY F9 không dây nhét tai âm thanh nổi thời lượng pin dài với M"
          ],
          [
           "Tai nghe Bluetooth earphone GOOJODOQ không dây i7s Tws thiết kế thể thao mini tiện dụng kèm hộp sạc"
          ],
          [
           "Tai nghe không dây TWS Bluetooth 5.0 âm thanh stereo 9D thông minh có màn hình LED chống thấm nước"
          ],
          [
           "Mini Không Dây Bluetooth Tai Nghe I12 Là Xiaomi Hoặc Android ^ MK ^"
          ],
          [
           "Tai nghe không dây Lenovo lp5 bluetooth 5.0 độ trễ thấp tích hợp micro chơi game/ tập thể thao ipx5"
          ],
          [
           "Tai nghe Lenovo TH10 Bluetooth âm thanh nổi giảm ồn thoải mái chống nước có mic cho Android IOS PC"
          ],
          [
           "Tai nghe bluetooth không dây TWS inpods i12 có vỏ bảo vệ cho ios và android chất lượng âm thanh trung thực cao"
          ],
          [
           "Tai Nghe Inpods i12 TWS bluetooth Không Dây Nhét Tai Có mic Cho Nói Chuyện i12"
          ],
          [
           "New Hot Bán Ngoài Trời thể thao Bluetooth Tai nghe JBL tai nghe ko dây táos Pro 13 TWS ko dây 5.0 với microphone"
          ],
          [
           "Tai Nghe Bluetooth 5.2 Không Dây V9 V9s Giảm Tiếng Ồn Có Màn Hình LED HD"
          ],
          [
           "Tai nghe bluetooth Lenovo XT95 Pro với micrô đèn LED đầy màu sắc, âm trầm tốt"
          ],
          [
           "Tai nghe không dây Kuulaa J18 TWS bluetooth tích hợp micro có thể tự thay đổi tên thiết bị"
          ],
          [
           "P9 Max Không Dây Bluetooth Tai Nghe Noise Cancelling Tai Nghe Thể Thao Tai Nghe Được Xây Dựng trong Mic -7 Vương Quốc Anh"
          ],
          [
           "Tai Nghe Không Dây TZUZL TWS-201 Bluetooth 5.0 Điều Khiển Cảm Ứng Chơi Game Âm Thanh Nổi Chống Nước Kèm Hộp Sạc"
          ],
          [
           "Tai nghe bluetooth Lenovo LP40 Tai nghe bluetooth không dây có Mic"
          ],
          [
           "Tai Nghe Bluetooth Không Dây 2022 Chất Lượng Cao Cho Huawei Xiaomi Apple"
          ],
          [
           "Tai Nghe Bluetooth Không Dây 2022 Chất Lượng Cao Cho Huawei Xiaomi Apple"
          ],
          [
           "Tai nghe Disney LK-11 nhét tai không dây bluetooth 5.3 âm thanh nổi HD chống nước thời lượng pin siêu dài độ trễ thấp"
          ],
          [
           "Tai nghe Bluetooth nhét tai âm thanh chất lượng cao"
          ],
          [
           "Tai nghe nhét tai không dây Hoco EW25 TWS 5.3 kết nối bluetooth có micro tiện dụng dành cho Android"
          ],
          [
           "Tai nghe không dây Mini Pro4 Bluetooth 5.0 TWS có hộp sạc dành cho điện thoại thông minh PK"
          ],
          [
           "Tai Nghe Không Dây Baseus Enock W3 TWS Bluetooth 5.0 Âm Thanh Nổi"
          ],
          [
           "Tai nghe không dây Vitog đeo một bên tai Bluetooth 5.1 phát nhạc trong 20 giờ"
          ],
          [
           "Tai Nghe Không Dây X15 Bluetooth âm Thanh Hifi Sống động điều Khiển Cảm ứng Không Trễ Cao Cấp"
          ],
          [
           "Tai nghe thể thao nhét tai TZUZL BT63 bluetooth 5.0 thời trang mới 2022"
          ],
          [
           "Tai nghe bluetooth không dây Lenovo QE03 có micro chất lượng cao tiện dụng khi tập thể thao kèm cáp/vỏ bọc"
          ],
          [
           "Tai nghe nhét tai không dây Bluetooth Y50 TWS 5.0 chống thấm nước chống ồn thể thao dành cho điện thoại Android"
          ],
          [
           "Tai Nghe Không Dây Tws Bluetooth 5.0 Chống Thấm Nước 9D Tích Hợp Micro Tiện Dụng Khi Chơi Thể Thao"
          ],
          [
           "Tai nghe không dây Ugreen TWS Bluetooth 5.0 cao cấp âm thanh chân thực 27H sạc USB-C"
          ],
          [
           "Tai Nghe Không Dây Baseus Enock W3 TWS Bluetooth 5.0 Âm Thanh Nổi"
          ],
          [
           "Tai nghe không dây Vitog đeo một bên tai Bluetooth 5.1 phát nhạc trong 20 giờ"
          ],
          [
           "Tai Nghe Không Dây X15 Bluetooth âm Thanh Hifi Sống động điều Khiển Cảm ứng Không Trễ Cao Cấp"
          ],
          [
           "Tai nghe thể thao nhét tai TZUZL BT63 bluetooth 5.0 thời trang mới 2022"
          ],
          [
           "Tai nghe bluetooth không dây Lenovo QE03 có micro chất lượng cao tiện dụng khi tập thể thao kèm cáp/vỏ bọc"
          ],
          [
           "Tai nghe nhét tai không dây Bluetooth Y50 TWS 5.0 chống thấm nước chống ồn thể thao dành cho điện thoại Android"
          ],
          [
           "Bộ Dụng Cụ Vệ Sinh Tai Nghe Bluetooth Kiểu Mới Tương Thích Với AirPods3 / Điện Thoại Di Động / Máy Tính"
          ],
          [
           "Tai Nghe Không Dây Tws Bluetooth 5.0 Chống Thấm Nước 9D Tích Hợp Micro Tiện Dụng Khi Chơi Thể Thao"
          ],
          [
           "Tai nghe nhét tai Baseus W04 kết nối bluetooth 5.0"
          ],
          [
           "Tai nghe không dây VITOG Y30 kết nối bluetooth 5.0 âm thanh sống động chất lượng cao"
          ],
          [
           "Tai nghe chơi game M6 không dây kết nối Bluetooth có thể gấp gọn cao cấp"
          ],
          [
           "Tai nghe bluetooth không dây TWS A6s chống nước chất lượng cao"
          ],
          [
           "Tai nghe không dây Lenovo Disney Q2 Bluetooth 5.1 âm thanh nổi cách âm thông minh chống nước có mic cho Android IOS"
          ],
          [
           "[Strongaroetu] 3,7v 30mah 401012 Pin Sạc Lithium Polymer Cho Tai Nghe Bluetooth"
          ],
          [
           "Tai Nghe Thể Thao Không Dây Bluetooth M165"
          ],
          [
           "Tai Nghe Nhét Tai Không Dây S650 Kết Nối Bluetooth Kiểu Dáng Thể Thao"
          ],
          [
           "Tai nghe bluetooth không dây TWS 18D HiFi chống thấm nước có micro tiện dụng"
          ],
          [
           "Tai nghe không dây Suntaiho Mini Pro 4 Bluetooth 5.1 TWS"
          ],
          [
           "Tai nghe bluetooth Lenovo lp75 không dây âm thanh stereo hd không thấm nước giảm tiếng ồn 400mah bluetooth 5.3"
          ],
          [
           "[BACRAB] Tai nghe không dây gaming nhet tai hot thời trang thể thao ko dây chup tai nút nhét tai chum tai super bass chấtlượng X1 TWS true wireless bluetooth earphone PUBG game headphone"
          ],
          [
           "Tai Nghe Bluetooth XT11 Kiểu Dáng Thể Thao Có Dây Đeo Cổ Tiện Dụng"
          ],
          [
           "Tai nghe bluetooth S109 kèm micro trò chuyện tiện lợi"
          ],
          [
           "Tai Nghe Bluetooth Lenovo HE05X II thể thao 5.0 không thấm nước IPX5 TWS nhét tai Không Dây Chất Âm Êm Lương Pin Tốt nhét tai chụp tai có micro ko dây"
          ],
          [
           "Kính râm thông minh GOOJODOQ kết nối bluetooth 5.0 hỗ trợ gọi rảnh tay chống ánh sáng xanh"
          ],
          [
           "Tai nghe không dây Bluetooth 5.0 RGA Sport Headphone truyền âm thanh qua xương"
          ],
          [
           "Tai nghe nhét tai Disney F9 bluetooth 5.2 không dây âm thanh nổi rõ ràng chống nước giảm ồn thời lượng pin dài có micro"
          ],
          [
           "Tai Nghe Nkodok Bluetooth 5.2 Đeo Cổ Giảm Tiếng Ồn Tiện Dụng"
          ],
          [
           "Tai nghe Bluetooth 5.0 hình tai mèo phát sáng cá tính"
          ],
          [
           "Tai nghe Bluetooth Redmi Buds 3 Lite"
          ],
          [
           "Tai nghe ELOUGH Y50 TWS không dây bluetooth 5.0 chống nước phong cách thể thao"
          ]
         ],
         "hovertemplate": "location=Nước ngoài<br>selling_price=%{x}<br>star=%{y}<br>name=%{customdata[0]}<extra></extra>",
         "legendgroup": "Nước ngoài",
         "marker": {
          "color": "#00cc96",
          "symbol": "circle"
         },
         "mode": "markers",
         "name": "Nước ngoài",
         "orientation": "v",
         "showlegend": true,
         "type": "scatter",
         "x": [
          395333.5,
          467000,
          99950,
          104000,
          99500,
          86000,
          131580,
          14500,
          7500,
          139500,
          13000,
          14425,
          6800,
          449500,
          44500,
          194500,
          139950,
          104000,
          539079,
          9950,
          45000,
          104000,
          116500,
          44000,
          13250,
          119500,
          539079,
          117950,
          13000,
          50250,
          12500,
          110000,
          353500,
          29500,
          164640,
          99950,
          125000,
          125000,
          409500,
          9000,
          304000,
          92148,
          483666.5,
          88928,
          40500,
          47500,
          168000,
          29212.5,
          68000,
          305500,
          483666.5,
          88928,
          40500,
          47500,
          168000,
          29212.5,
          66000,
          68000,
          204500,
          116988,
          109500,
          97998.5,
          329500,
          10687.5,
          29500,
          23000,
          63500,
          39000,
          429500,
          217500,
          36690.5,
          14500,
          170500,
          676500,
          93095,
          299000,
          54171,
          53000,
          490000,
          111500
         ],
         "xaxis": "x",
         "y": [
          4.6,
          4.2,
          4.4,
          4.6,
          4.5,
          4.2,
          4.8,
          4.9,
          4.2,
          5,
          4.9,
          4.6,
          4.7,
          4.4,
          4.4,
          4.4,
          4.1,
          4.6,
          4.2,
          4.2,
          5,
          4.7,
          4.8,
          4.2,
          4.4,
          4.4,
          4.1,
          5,
          5,
          4.1,
          4.4,
          4.1,
          4.3,
          4.2,
          4.6,
          4.1,
          4.5,
          4,
          4.6,
          4.4,
          4.2,
          4.7,
          4.1,
          4.7,
          4.8,
          4.3,
          4.8,
          4.6,
          4.2,
          4.7,
          4.3,
          4.5,
          4.7,
          4.3,
          4.1,
          4.2,
          4.8,
          4.8,
          4.5,
          4.4,
          4.6,
          4.1,
          4.7,
          4.9,
          4.5,
          4.4,
          4.2,
          4.8,
          4.6,
          4.9,
          4.1,
          4,
          4.5,
          1.9,
          1.5,
          3.2,
          3.4,
          3.7,
          3.1,
          3.6
         ],
         "yaxis": "y"
        },
        {
         "customdata": [
          [
           "Tai Nghe F9 Pro Bluetooth 5.0 Không Dây Cảm Biến Vân Tay , Kiêm Sạc Dự Phòng Cao Cấp Nhiều Màu. Amoi F9"
          ],
          [
           "Tai Nghe Chụp Tai Bluetooth P47, Tai Không Dây Có Mic, Có Thẻ Nhớ, Âm Bass Cực Chất, Nghe Nhạc Cực Hay Bảo Hành 12 Tháng"
          ],
          [
           "Tai Nghe Gaming X15 Bluetooth 5.1 Không Dây Giảm Tiếng Ồn Cảm Ứng Điều Khiển Vân Tay Âm Thanh Hifi 9D Cho Android"
          ],
          [
           "Tai nghe bluetooth AMOI F9 PRO TWS 5.0 bản không dây cảm ứng chống nước IPX5, chống ồn tích hợp sạc dự phòng 2500mAh"
          ],
          [
           "Tai Nghe Bluetooth Không Dây i12 inpods12 TWS 5.0 Âm Thanh HIFI, Cửa Sổ Tự Động Kết Nối, Hỗ Trợ Androi Và Ios"
          ],
          [
           "Tai Nghe Bluetooth M10 Phiên Bản Pro Nâng Cấp Pin Trâu, Nút Cảm Ứng Tự Động Kết Nối, Chống Nước, Chống Ồn, Bảo Hành 12 T"
          ],
          [
           "Tai Nghe Mèo Bluetooth Chụp Tai, Headphone Tai Mèo Dễ Thương Có Mic, Âm Bass Mạnh Mẽ Bảo Hành 12 Tháng"
          ],
          [
           "Tai Nghe Bluetooth M10 Phiên Bản Pro Nâng Cấp Pin Trâu, Nút Cảm Ứng Tự Động Kết Nối, Chống Nước, Chống Ồn, Bảo Hành 12 T"
          ],
          [
           "Tai Nghe Mèo Bluetooth Chụp Tai, Headphone Tai Mèo Dễ Thương Có Mic, Âm Bass Mạnh Mẽ Bảo Hành 12 Tháng"
          ],
          [
           "[Mã ELMS10 giảm 6% đơn 50K] Tai nghe bluetooth chụp tai Led B39 - bluetooth 5.0 tặng kèm jack cắm PC, Bảo Hành 12 Tháng"
          ],
          [
           "Tai nghe không dây M90 Pro bluetooth 5.3 Âm bass cực to chống ồn chống nước, Bảo Hành 12 Tháng"
          ],
          [
           "Tai Nghe Mèo Bluetooth P47M PKH470 Chụp Tai, Tai Mèo Dễ Thương Có Mic, Âm Bass Mạnh Mẽ Bảo Hành 12 Tháng"
          ],
          [
           "Tai Nghe Mèo P47M. Mz47 Bluetooth Chụp Tai , Headphone P47m Dễ Thương Có Mic,Âm Bass Mạnh Mẽ Dung Lượng Pin Trâu"
          ],
          [
           "Tai nghe Bluetooth 5.0 Amoi F9 Pro Max Cảm Ứng Bản Quốc Tế 2020 | pin cực trâu,chất âm cực hay,nghe nhạc cực thích |"
          ],
          [
           "Tai Nghe Blutooth Không Dây Pro 6 TWS 5.0 - Cảm Biến,Định Vị, Đổi Tên - Nhiều Màu - Bảo Hành 12 Tháng"
          ],
          [
           "Tai Nghe Pro 6 Tai Nghe Bluetooth Không Dây Pro6 Dùng cho Cả Androi và Ios Nghe Nhạc Cực Hay. Bảo Hành 12 tháng"
          ]
         ],
         "hovertemplate": "location=Hải Dương<br>selling_price=%{x}<br>star=%{y}<br>name=%{customdata[0]}<extra></extra>",
         "legendgroup": "Hải Dương",
         "marker": {
          "color": "#ab63fa",
          "symbol": "circle"
         },
         "mode": "markers",
         "name": "Hải Dương",
         "orientation": "v",
         "showlegend": true,
         "type": "scatter",
         "x": [
          20000,
          27000,
          12500,
          12500,
          7500,
          30000,
          42500,
          30000,
          42500,
          45000,
          19750,
          17500,
          7500,
          19500,
          25000,
          148000
         ],
         "xaxis": "x",
         "y": [
          5,
          4.9,
          4.1,
          4.3,
          4.6,
          4.1,
          4.7,
          4.1,
          4.5,
          4.5,
          4.5,
          4.4,
          4.2,
          4.3,
          4.6,
          3.6
         ],
         "yaxis": "y"
        },
        {
         "customdata": [
          [
           "Tai nghe bluetooth 12TS02 âm thanh Superpass chống nước cảm biến vân tay 1 chạm siêu bền"
          ]
         ],
         "hovertemplate": "location=Bạc Liêu<br>selling_price=%{x}<br>star=%{y}<br>name=%{customdata[0]}<extra></extra>",
         "legendgroup": "Bạc Liêu",
         "marker": {
          "color": "#FFA15A",
          "symbol": "circle"
         },
         "mode": "markers",
         "name": "Bạc Liêu",
         "orientation": "v",
         "showlegend": true,
         "type": "scatter",
         "x": [
          264500
         ],
         "xaxis": "x",
         "y": [
          4.1
         ],
         "yaxis": "y"
        },
        {
         "customdata": [
          [
           "Tai nghe Bluetooth A-P3 P.ro đầy đủ chức năng, cảm ứng, đàm thoại, định vị, đổi tên"
          ]
         ],
         "hovertemplate": "location=Đà Nẵng<br>selling_price=%{x}<br>star=%{y}<br>name=%{customdata[0]}<extra></extra>",
         "legendgroup": "Đà Nẵng",
         "marker": {
          "color": "#19d3f3",
          "symbol": "circle"
         },
         "mode": "markers",
         "name": "Đà Nẵng",
         "orientation": "v",
         "showlegend": true,
         "type": "scatter",
         "x": [
          329000
         ],
         "xaxis": "x",
         "y": [
          4.6
         ],
         "yaxis": "y"
        },
        {
         "customdata": [
          [
           "Tai Nghe Không Dây Bluetooth Floveme P6, Chính Hãng Âm Thanh Chuẩn HIFI Dùng Cho IOS Android Cảm Biến, Bluetooth 5.0"
          ],
          [
           "Tai Nghe Bluetooth 5.0 True Wireless Amoi F9 Pro Bản Quốc Tế Cao Cấp Cảm Biến Vân Tay , Kiêm Sạc Dự Phòng Cao Cấp"
          ],
          [
           "Tai Nghe Chụp Tai Không Dây Floveme B39 - Bluetooth 5.0 - Có Míc Led RGB, Pin Chuẩn 400mAh, Âm Thanh HiFi, Kèm Jack 3.5"
          ]
         ],
         "hovertemplate": "location=Bắc Ninh<br>selling_price=%{x}<br>star=%{y}<br>name=%{customdata[0]}<extra></extra>",
         "legendgroup": "Bắc Ninh",
         "marker": {
          "color": "#FF6692",
          "symbol": "circle"
         },
         "mode": "markers",
         "name": "Bắc Ninh",
         "orientation": "v",
         "showlegend": true,
         "type": "scatter",
         "x": [
          57950,
          137000,
          240695
         ],
         "xaxis": "x",
         "y": [
          4.4,
          4.1,
          4
         ],
         "yaxis": "y"
        },
        {
         "customdata": [
          [
           "Tai nghe bluetooth AMOI F9 TWS 5.0 bản Quốc tế không dây cảm ứng chống nước IPX5, tích hợp sạc dự phòng 2500mAh"
          ]
         ],
         "hovertemplate": "location=Nam Định<br>selling_price=%{x}<br>star=%{y}<br>name=%{customdata[0]}<extra></extra>",
         "legendgroup": "Nam Định",
         "marker": {
          "color": "#B6E880",
          "symbol": "circle"
         },
         "mode": "markers",
         "name": "Nam Định",
         "orientation": "v",
         "showlegend": true,
         "type": "scatter",
         "x": [
          134250
         ],
         "xaxis": "x",
         "y": [
          4.3
         ],
         "yaxis": "y"
        },
        {
         "customdata": [
          [
           "Tai Nghe Bluetooth Không Dây Nhét Tai-Thích hợp cho Android và Ios l M13 đèn led siêu dễ thương"
          ]
         ],
         "hovertemplate": "location=Kiên Giang<br>selling_price=%{x}<br>star=%{y}<br>name=%{customdata[0]}<extra></extra>",
         "legendgroup": "Kiên Giang",
         "marker": {
          "color": "#FF97FF",
          "symbol": "circle"
         },
         "mode": "markers",
         "name": "Kiên Giang",
         "orientation": "v",
         "showlegend": true,
         "type": "scatter",
         "x": [
          202500
         ],
         "xaxis": "x",
         "y": [
          4.5
         ],
         "yaxis": "y"
        },
        {
         "customdata": [
          [
           "Tai nghe bluetooth gaming STP K98 chính hãng Tai nghe không dây chơi game có mic chống ồn pin trâu độ trễ thấp SATOPA"
          ],
          [
           "Tai nghe gaming bluetooth HQ-10 S12 Tai nghe không dây chơi game có mic chống ồn pin trâu độ trễ thấp dùng liên tục 6h"
          ]
         ],
         "hovertemplate": "location=Đồng Nai<br>selling_price=%{x}<br>star=%{y}<br>name=%{customdata[0]}<extra></extra>",
         "legendgroup": "Đồng Nai",
         "marker": {
          "color": "#FECB52",
          "symbol": "circle"
         },
         "mode": "markers",
         "name": "Đồng Nai",
         "orientation": "v",
         "showlegend": true,
         "type": "scatter",
         "x": [
          274500,
          469500
         ],
         "xaxis": "x",
         "y": [
          4.8,
          4.7
         ],
         "yaxis": "y"
        },
        {
         "customdata": [
          [
           "Tai nghe bluetooth S10 Pro V5.2 cao cấp, cảm ứng vân tay, Chống nước tiêu chuẩn IPX7 , nghe nhạc 10h, kiêm sạc dự phòng"
          ]
         ],
         "hovertemplate": "location=Bình Dương<br>selling_price=%{x}<br>star=%{y}<br>name=%{customdata[0]}<extra></extra>",
         "legendgroup": "Bình Dương",
         "marker": {
          "color": "#636efa",
          "symbol": "circle"
         },
         "mode": "markers",
         "name": "Bình Dương",
         "orientation": "v",
         "showlegend": true,
         "type": "scatter",
         "x": [
          224500
         ],
         "xaxis": "x",
         "y": [
          4.4
         ],
         "yaxis": "y"
        }
       ],
       "layout": {
        "legend": {
         "title": {
          "text": "location"
         },
         "tracegroupgap": 0
        },
        "margin": {
         "t": 60
        },
        "shapes": [
         {
          "line": {
           "color": "green",
           "dash": "dash",
           "width": 3
          },
          "type": "line",
          "x0": 200000,
          "x1": 200000,
          "xref": "x",
          "y0": 0,
          "y1": 1,
          "yref": "y domain"
         },
         {
          "line": {
           "color": "green",
           "dash": "dash",
           "width": 3
          },
          "type": "line",
          "x0": 0,
          "x1": 1,
          "xref": "x domain",
          "y0": 4.5,
          "y1": 4.5,
          "yref": "y"
         },
         {
          "fillcolor": "red",
          "line": {
           "width": 0
          },
          "opacity": 0.2,
          "type": "rect",
          "x0": 0,
          "x1": 1,
          "xref": "x domain",
          "y0": 4.5,
          "y1": 5,
          "yref": "y"
         }
        ],
        "template": {
         "data": {
          "bar": [
           {
            "error_x": {
             "color": "#2a3f5f"
            },
            "error_y": {
             "color": "#2a3f5f"
            },
            "marker": {
             "line": {
              "color": "#E5ECF6",
              "width": 0.5
             },
             "pattern": {
              "fillmode": "overlay",
              "size": 10,
              "solidity": 0.2
             }
            },
            "type": "bar"
           }
          ],
          "barpolar": [
           {
            "marker": {
             "line": {
              "color": "#E5ECF6",
              "width": 0.5
             },
             "pattern": {
              "fillmode": "overlay",
              "size": 10,
              "solidity": 0.2
             }
            },
            "type": "barpolar"
           }
          ],
          "carpet": [
           {
            "aaxis": {
             "endlinecolor": "#2a3f5f",
             "gridcolor": "white",
             "linecolor": "white",
             "minorgridcolor": "white",
             "startlinecolor": "#2a3f5f"
            },
            "baxis": {
             "endlinecolor": "#2a3f5f",
             "gridcolor": "white",
             "linecolor": "white",
             "minorgridcolor": "white",
             "startlinecolor": "#2a3f5f"
            },
            "type": "carpet"
           }
          ],
          "choropleth": [
           {
            "colorbar": {
             "outlinewidth": 0,
             "ticks": ""
            },
            "type": "choropleth"
           }
          ],
          "contour": [
           {
            "colorbar": {
             "outlinewidth": 0,
             "ticks": ""
            },
            "colorscale": [
             [
              0,
              "#0d0887"
             ],
             [
              0.1111111111111111,
              "#46039f"
             ],
             [
              0.2222222222222222,
              "#7201a8"
             ],
             [
              0.3333333333333333,
              "#9c179e"
             ],
             [
              0.4444444444444444,
              "#bd3786"
             ],
             [
              0.5555555555555556,
              "#d8576b"
             ],
             [
              0.6666666666666666,
              "#ed7953"
             ],
             [
              0.7777777777777778,
              "#fb9f3a"
             ],
             [
              0.8888888888888888,
              "#fdca26"
             ],
             [
              1,
              "#f0f921"
             ]
            ],
            "type": "contour"
           }
          ],
          "contourcarpet": [
           {
            "colorbar": {
             "outlinewidth": 0,
             "ticks": ""
            },
            "type": "contourcarpet"
           }
          ],
          "heatmap": [
           {
            "colorbar": {
             "outlinewidth": 0,
             "ticks": ""
            },
            "colorscale": [
             [
              0,
              "#0d0887"
             ],
             [
              0.1111111111111111,
              "#46039f"
             ],
             [
              0.2222222222222222,
              "#7201a8"
             ],
             [
              0.3333333333333333,
              "#9c179e"
             ],
             [
              0.4444444444444444,
              "#bd3786"
             ],
             [
              0.5555555555555556,
              "#d8576b"
             ],
             [
              0.6666666666666666,
              "#ed7953"
             ],
             [
              0.7777777777777778,
              "#fb9f3a"
             ],
             [
              0.8888888888888888,
              "#fdca26"
             ],
             [
              1,
              "#f0f921"
             ]
            ],
            "type": "heatmap"
           }
          ],
          "heatmapgl": [
           {
            "colorbar": {
             "outlinewidth": 0,
             "ticks": ""
            },
            "colorscale": [
             [
              0,
              "#0d0887"
             ],
             [
              0.1111111111111111,
              "#46039f"
             ],
             [
              0.2222222222222222,
              "#7201a8"
             ],
             [
              0.3333333333333333,
              "#9c179e"
             ],
             [
              0.4444444444444444,
              "#bd3786"
             ],
             [
              0.5555555555555556,
              "#d8576b"
             ],
             [
              0.6666666666666666,
              "#ed7953"
             ],
             [
              0.7777777777777778,
              "#fb9f3a"
             ],
             [
              0.8888888888888888,
              "#fdca26"
             ],
             [
              1,
              "#f0f921"
             ]
            ],
            "type": "heatmapgl"
           }
          ],
          "histogram": [
           {
            "marker": {
             "pattern": {
              "fillmode": "overlay",
              "size": 10,
              "solidity": 0.2
             }
            },
            "type": "histogram"
           }
          ],
          "histogram2d": [
           {
            "colorbar": {
             "outlinewidth": 0,
             "ticks": ""
            },
            "colorscale": [
             [
              0,
              "#0d0887"
             ],
             [
              0.1111111111111111,
              "#46039f"
             ],
             [
              0.2222222222222222,
              "#7201a8"
             ],
             [
              0.3333333333333333,
              "#9c179e"
             ],
             [
              0.4444444444444444,
              "#bd3786"
             ],
             [
              0.5555555555555556,
              "#d8576b"
             ],
             [
              0.6666666666666666,
              "#ed7953"
             ],
             [
              0.7777777777777778,
              "#fb9f3a"
             ],
             [
              0.8888888888888888,
              "#fdca26"
             ],
             [
              1,
              "#f0f921"
             ]
            ],
            "type": "histogram2d"
           }
          ],
          "histogram2dcontour": [
           {
            "colorbar": {
             "outlinewidth": 0,
             "ticks": ""
            },
            "colorscale": [
             [
              0,
              "#0d0887"
             ],
             [
              0.1111111111111111,
              "#46039f"
             ],
             [
              0.2222222222222222,
              "#7201a8"
             ],
             [
              0.3333333333333333,
              "#9c179e"
             ],
             [
              0.4444444444444444,
              "#bd3786"
             ],
             [
              0.5555555555555556,
              "#d8576b"
             ],
             [
              0.6666666666666666,
              "#ed7953"
             ],
             [
              0.7777777777777778,
              "#fb9f3a"
             ],
             [
              0.8888888888888888,
              "#fdca26"
             ],
             [
              1,
              "#f0f921"
             ]
            ],
            "type": "histogram2dcontour"
           }
          ],
          "mesh3d": [
           {
            "colorbar": {
             "outlinewidth": 0,
             "ticks": ""
            },
            "type": "mesh3d"
           }
          ],
          "parcoords": [
           {
            "line": {
             "colorbar": {
              "outlinewidth": 0,
              "ticks": ""
             }
            },
            "type": "parcoords"
           }
          ],
          "pie": [
           {
            "automargin": true,
            "type": "pie"
           }
          ],
          "scatter": [
           {
            "fillpattern": {
             "fillmode": "overlay",
             "size": 10,
             "solidity": 0.2
            },
            "type": "scatter"
           }
          ],
          "scatter3d": [
           {
            "line": {
             "colorbar": {
              "outlinewidth": 0,
              "ticks": ""
             }
            },
            "marker": {
             "colorbar": {
              "outlinewidth": 0,
              "ticks": ""
             }
            },
            "type": "scatter3d"
           }
          ],
          "scattercarpet": [
           {
            "marker": {
             "colorbar": {
              "outlinewidth": 0,
              "ticks": ""
             }
            },
            "type": "scattercarpet"
           }
          ],
          "scattergeo": [
           {
            "marker": {
             "colorbar": {
              "outlinewidth": 0,
              "ticks": ""
             }
            },
            "type": "scattergeo"
           }
          ],
          "scattergl": [
           {
            "marker": {
             "colorbar": {
              "outlinewidth": 0,
              "ticks": ""
             }
            },
            "type": "scattergl"
           }
          ],
          "scattermapbox": [
           {
            "marker": {
             "colorbar": {
              "outlinewidth": 0,
              "ticks": ""
             }
            },
            "type": "scattermapbox"
           }
          ],
          "scatterpolar": [
           {
            "marker": {
             "colorbar": {
              "outlinewidth": 0,
              "ticks": ""
             }
            },
            "type": "scatterpolar"
           }
          ],
          "scatterpolargl": [
           {
            "marker": {
             "colorbar": {
              "outlinewidth": 0,
              "ticks": ""
             }
            },
            "type": "scatterpolargl"
           }
          ],
          "scatterternary": [
           {
            "marker": {
             "colorbar": {
              "outlinewidth": 0,
              "ticks": ""
             }
            },
            "type": "scatterternary"
           }
          ],
          "surface": [
           {
            "colorbar": {
             "outlinewidth": 0,
             "ticks": ""
            },
            "colorscale": [
             [
              0,
              "#0d0887"
             ],
             [
              0.1111111111111111,
              "#46039f"
             ],
             [
              0.2222222222222222,
              "#7201a8"
             ],
             [
              0.3333333333333333,
              "#9c179e"
             ],
             [
              0.4444444444444444,
              "#bd3786"
             ],
             [
              0.5555555555555556,
              "#d8576b"
             ],
             [
              0.6666666666666666,
              "#ed7953"
             ],
             [
              0.7777777777777778,
              "#fb9f3a"
             ],
             [
              0.8888888888888888,
              "#fdca26"
             ],
             [
              1,
              "#f0f921"
             ]
            ],
            "type": "surface"
           }
          ],
          "table": [
           {
            "cells": {
             "fill": {
              "color": "#EBF0F8"
             },
             "line": {
              "color": "white"
             }
            },
            "header": {
             "fill": {
              "color": "#C8D4E3"
             },
             "line": {
              "color": "white"
             }
            },
            "type": "table"
           }
          ]
         },
         "layout": {
          "annotationdefaults": {
           "arrowcolor": "#2a3f5f",
           "arrowhead": 0,
           "arrowwidth": 1
          },
          "autotypenumbers": "strict",
          "coloraxis": {
           "colorbar": {
            "outlinewidth": 0,
            "ticks": ""
           }
          },
          "colorscale": {
           "diverging": [
            [
             0,
             "#8e0152"
            ],
            [
             0.1,
             "#c51b7d"
            ],
            [
             0.2,
             "#de77ae"
            ],
            [
             0.3,
             "#f1b6da"
            ],
            [
             0.4,
             "#fde0ef"
            ],
            [
             0.5,
             "#f7f7f7"
            ],
            [
             0.6,
             "#e6f5d0"
            ],
            [
             0.7,
             "#b8e186"
            ],
            [
             0.8,
             "#7fbc41"
            ],
            [
             0.9,
             "#4d9221"
            ],
            [
             1,
             "#276419"
            ]
           ],
           "sequential": [
            [
             0,
             "#0d0887"
            ],
            [
             0.1111111111111111,
             "#46039f"
            ],
            [
             0.2222222222222222,
             "#7201a8"
            ],
            [
             0.3333333333333333,
             "#9c179e"
            ],
            [
             0.4444444444444444,
             "#bd3786"
            ],
            [
             0.5555555555555556,
             "#d8576b"
            ],
            [
             0.6666666666666666,
             "#ed7953"
            ],
            [
             0.7777777777777778,
             "#fb9f3a"
            ],
            [
             0.8888888888888888,
             "#fdca26"
            ],
            [
             1,
             "#f0f921"
            ]
           ],
           "sequentialminus": [
            [
             0,
             "#0d0887"
            ],
            [
             0.1111111111111111,
             "#46039f"
            ],
            [
             0.2222222222222222,
             "#7201a8"
            ],
            [
             0.3333333333333333,
             "#9c179e"
            ],
            [
             0.4444444444444444,
             "#bd3786"
            ],
            [
             0.5555555555555556,
             "#d8576b"
            ],
            [
             0.6666666666666666,
             "#ed7953"
            ],
            [
             0.7777777777777778,
             "#fb9f3a"
            ],
            [
             0.8888888888888888,
             "#fdca26"
            ],
            [
             1,
             "#f0f921"
            ]
           ]
          },
          "colorway": [
           "#636efa",
           "#EF553B",
           "#00cc96",
           "#ab63fa",
           "#FFA15A",
           "#19d3f3",
           "#FF6692",
           "#B6E880",
           "#FF97FF",
           "#FECB52"
          ],
          "font": {
           "color": "#2a3f5f"
          },
          "geo": {
           "bgcolor": "white",
           "lakecolor": "white",
           "landcolor": "#E5ECF6",
           "showlakes": true,
           "showland": true,
           "subunitcolor": "white"
          },
          "hoverlabel": {
           "align": "left"
          },
          "hovermode": "closest",
          "mapbox": {
           "style": "light"
          },
          "paper_bgcolor": "white",
          "plot_bgcolor": "#E5ECF6",
          "polar": {
           "angularaxis": {
            "gridcolor": "white",
            "linecolor": "white",
            "ticks": ""
           },
           "bgcolor": "#E5ECF6",
           "radialaxis": {
            "gridcolor": "white",
            "linecolor": "white",
            "ticks": ""
           }
          },
          "scene": {
           "xaxis": {
            "backgroundcolor": "#E5ECF6",
            "gridcolor": "white",
            "gridwidth": 2,
            "linecolor": "white",
            "showbackground": true,
            "ticks": "",
            "zerolinecolor": "white"
           },
           "yaxis": {
            "backgroundcolor": "#E5ECF6",
            "gridcolor": "white",
            "gridwidth": 2,
            "linecolor": "white",
            "showbackground": true,
            "ticks": "",
            "zerolinecolor": "white"
           },
           "zaxis": {
            "backgroundcolor": "#E5ECF6",
            "gridcolor": "white",
            "gridwidth": 2,
            "linecolor": "white",
            "showbackground": true,
            "ticks": "",
            "zerolinecolor": "white"
           }
          },
          "shapedefaults": {
           "line": {
            "color": "#2a3f5f"
           }
          },
          "ternary": {
           "aaxis": {
            "gridcolor": "white",
            "linecolor": "white",
            "ticks": ""
           },
           "baxis": {
            "gridcolor": "white",
            "linecolor": "white",
            "ticks": ""
           },
           "bgcolor": "#E5ECF6",
           "caxis": {
            "gridcolor": "white",
            "linecolor": "white",
            "ticks": ""
           }
          },
          "title": {
           "x": 0.05
          },
          "xaxis": {
           "automargin": true,
           "gridcolor": "white",
           "linecolor": "white",
           "ticks": "",
           "title": {
            "standoff": 15
           },
           "zerolinecolor": "white",
           "zerolinewidth": 2
          },
          "yaxis": {
           "automargin": true,
           "gridcolor": "white",
           "linecolor": "white",
           "ticks": "",
           "title": {
            "standoff": 15
           },
           "zerolinecolor": "white",
           "zerolinewidth": 2
          }
         }
        },
        "xaxis": {
         "anchor": "y",
         "domain": [
          0,
          1
         ],
         "title": {
          "text": "selling_price"
         }
        },
        "yaxis": {
         "anchor": "x",
         "domain": [
          0,
          1
         ],
         "title": {
          "text": "star"
         }
        }
       }
      }
     },
     "metadata": {},
     "output_type": "display_data"
    }
   ],
   "source": [
    "fig = px.scatter(df_quadrant, x=\"selling_price\", y=\"star\", color=\"location\",\n",
    "                 hover_data=['name'])\n",
    "fig.add_vline(x=200000, line_width=3, line_dash=\"dash\", line_color=\"green\")\n",
    "fig.add_hline(y=4.5, line_width=3, line_dash=\"dash\", line_color=\"green\")\n",
    "fig.add_hrect(y0=4.5, y1=5, line_width=0, fillcolor=\"red\", opacity=0.2)\n",
    "fig.show()"
   ]
  }
 ],
 "metadata": {
  "kernelspec": {
   "display_name": "Python 3 (ipykernel)",
   "language": "python",
   "name": "python3"
  },
  "language_info": {
   "codemirror_mode": {
    "name": "ipython",
    "version": 3
   },
   "file_extension": ".py",
   "mimetype": "text/x-python",
   "name": "python",
   "nbconvert_exporter": "python",
   "pygments_lexer": "ipython3",
   "version": "3.9.12"
  },
  "vscode": {
   "interpreter": {
    "hash": "9e35676d33e03a9093a17dc7760f2b2aa4960ff6d3c0d7dc06348afdc0ca22c8"
   }
  }
 },
 "nbformat": 4,
 "nbformat_minor": 4
}
